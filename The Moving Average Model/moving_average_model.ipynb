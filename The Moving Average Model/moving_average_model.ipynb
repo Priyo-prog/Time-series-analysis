{
  "nbformat": 4,
  "nbformat_minor": 0,
  "metadata": {
    "colab": {
      "name": "moving_average_model.ipynb",
      "provenance": [],
      "authorship_tag": "ABX9TyM0dazlMcMN63CUabMC9FHf",
      "include_colab_link": true
    },
    "kernelspec": {
      "name": "python3",
      "display_name": "Python 3"
    },
    "language_info": {
      "name": "python"
    }
  },
  "cells": [
    {
      "cell_type": "markdown",
      "metadata": {
        "id": "view-in-github",
        "colab_type": "text"
      },
      "source": [
        "<a href=\"https://colab.research.google.com/github/Priyo-prog/Time-series-analysis/blob/main/The%20Moving%20Average%20Model/moving_average_model.ipynb\" target=\"_parent\"><img src=\"https://colab.research.google.com/assets/colab-badge.svg\" alt=\"Open In Colab\"/></a>"
      ]
    },
    {
      "cell_type": "markdown",
      "source": [
        "#**The Moving Average Model**\n",
        "\n",
        "The Moving Average model deals with the residuals of the past lags decided by the ACF."
      ],
      "metadata": {
        "id": "GwQrd5izu6fE"
      }
    },
    {
      "cell_type": "markdown",
      "source": [
        "## Import the libraries"
      ],
      "metadata": {
        "id": "TvwADmeTvSBL"
      }
    },
    {
      "cell_type": "code",
      "source": [
        "import pandas as pd\n",
        "import numpy as np\n",
        "import matplotlib.pyplot as plt\n",
        "import statsmodels.graphics.tsaplots as sgt\n",
        "import statsmodels.tsa.stattools as sts\n",
        "from statsmodels.tsa.seasonal import seasonal_decompose\n",
        "from statsmodels.tsa.arima_model import ARMA\n",
        "from scipy.stats.distributions import chi2\n",
        "import seaborn as sns\n",
        "sns.set()"
      ],
      "metadata": {
        "id": "mDGbXZQlvbes"
      },
      "execution_count": 19,
      "outputs": []
    },
    {
      "cell_type": "markdown",
      "source": [
        "## Import the Data"
      ],
      "metadata": {
        "id": "8WjQiJmjvcad"
      }
    },
    {
      "cell_type": "code",
      "source": [
        "## mount the google drive to fetch the data\n",
        "from google.colab import drive\n",
        "drive.mount('/content/drive')"
      ],
      "metadata": {
        "colab": {
          "base_uri": "https://localhost:8080/"
        },
        "id": "1t6XSbAZviT5",
        "outputId": "79ed66a8-444a-41fc-834f-8a32c72f0a4f"
      },
      "execution_count": 20,
      "outputs": [
        {
          "output_type": "stream",
          "name": "stdout",
          "text": [
            "Drive already mounted at /content/drive; to attempt to forcibly remount, call drive.mount(\"/content/drive\", force_remount=True).\n"
          ]
        }
      ]
    },
    {
      "cell_type": "code",
      "source": [
        "## load the dataset\n",
        "raw_csv_data = pd.read_csv('/content/drive/MyDrive/Data Science/Time Series/Index2018.csv')\n",
        "raw_csv_data.head()"
      ],
      "metadata": {
        "colab": {
          "base_uri": "https://localhost:8080/",
          "height": 206
        },
        "id": "5hKH803jvjbc",
        "outputId": "5a128107-6d50-4d9d-cf77-d73abe70d07f"
      },
      "execution_count": 21,
      "outputs": [
        {
          "output_type": "execute_result",
          "data": {
            "text/plain": [
              "         date     spx      dax     ftse    nikkei\n",
              "0  07/01/1994  469.90  2224.95  3445.98  18124.01\n",
              "1  10/01/1994  475.27  2225.00  3440.58  18443.44\n",
              "2  11/01/1994  474.13  2228.10  3413.77  18485.25\n",
              "3  12/01/1994  474.17  2182.06  3372.02  18793.88\n",
              "4  13/01/1994  472.47  2142.37  3360.01  18577.26"
            ],
            "text/html": [
              "\n",
              "  <div id=\"df-d00d6464-3020-43a0-8f3c-89a6993e3eeb\">\n",
              "    <div class=\"colab-df-container\">\n",
              "      <div>\n",
              "<style scoped>\n",
              "    .dataframe tbody tr th:only-of-type {\n",
              "        vertical-align: middle;\n",
              "    }\n",
              "\n",
              "    .dataframe tbody tr th {\n",
              "        vertical-align: top;\n",
              "    }\n",
              "\n",
              "    .dataframe thead th {\n",
              "        text-align: right;\n",
              "    }\n",
              "</style>\n",
              "<table border=\"1\" class=\"dataframe\">\n",
              "  <thead>\n",
              "    <tr style=\"text-align: right;\">\n",
              "      <th></th>\n",
              "      <th>date</th>\n",
              "      <th>spx</th>\n",
              "      <th>dax</th>\n",
              "      <th>ftse</th>\n",
              "      <th>nikkei</th>\n",
              "    </tr>\n",
              "  </thead>\n",
              "  <tbody>\n",
              "    <tr>\n",
              "      <th>0</th>\n",
              "      <td>07/01/1994</td>\n",
              "      <td>469.90</td>\n",
              "      <td>2224.95</td>\n",
              "      <td>3445.98</td>\n",
              "      <td>18124.01</td>\n",
              "    </tr>\n",
              "    <tr>\n",
              "      <th>1</th>\n",
              "      <td>10/01/1994</td>\n",
              "      <td>475.27</td>\n",
              "      <td>2225.00</td>\n",
              "      <td>3440.58</td>\n",
              "      <td>18443.44</td>\n",
              "    </tr>\n",
              "    <tr>\n",
              "      <th>2</th>\n",
              "      <td>11/01/1994</td>\n",
              "      <td>474.13</td>\n",
              "      <td>2228.10</td>\n",
              "      <td>3413.77</td>\n",
              "      <td>18485.25</td>\n",
              "    </tr>\n",
              "    <tr>\n",
              "      <th>3</th>\n",
              "      <td>12/01/1994</td>\n",
              "      <td>474.17</td>\n",
              "      <td>2182.06</td>\n",
              "      <td>3372.02</td>\n",
              "      <td>18793.88</td>\n",
              "    </tr>\n",
              "    <tr>\n",
              "      <th>4</th>\n",
              "      <td>13/01/1994</td>\n",
              "      <td>472.47</td>\n",
              "      <td>2142.37</td>\n",
              "      <td>3360.01</td>\n",
              "      <td>18577.26</td>\n",
              "    </tr>\n",
              "  </tbody>\n",
              "</table>\n",
              "</div>\n",
              "      <button class=\"colab-df-convert\" onclick=\"convertToInteractive('df-d00d6464-3020-43a0-8f3c-89a6993e3eeb')\"\n",
              "              title=\"Convert this dataframe to an interactive table.\"\n",
              "              style=\"display:none;\">\n",
              "        \n",
              "  <svg xmlns=\"http://www.w3.org/2000/svg\" height=\"24px\"viewBox=\"0 0 24 24\"\n",
              "       width=\"24px\">\n",
              "    <path d=\"M0 0h24v24H0V0z\" fill=\"none\"/>\n",
              "    <path d=\"M18.56 5.44l.94 2.06.94-2.06 2.06-.94-2.06-.94-.94-2.06-.94 2.06-2.06.94zm-11 1L8.5 8.5l.94-2.06 2.06-.94-2.06-.94L8.5 2.5l-.94 2.06-2.06.94zm10 10l.94 2.06.94-2.06 2.06-.94-2.06-.94-.94-2.06-.94 2.06-2.06.94z\"/><path d=\"M17.41 7.96l-1.37-1.37c-.4-.4-.92-.59-1.43-.59-.52 0-1.04.2-1.43.59L10.3 9.45l-7.72 7.72c-.78.78-.78 2.05 0 2.83L4 21.41c.39.39.9.59 1.41.59.51 0 1.02-.2 1.41-.59l7.78-7.78 2.81-2.81c.8-.78.8-2.07 0-2.86zM5.41 20L4 18.59l7.72-7.72 1.47 1.35L5.41 20z\"/>\n",
              "  </svg>\n",
              "      </button>\n",
              "      \n",
              "  <style>\n",
              "    .colab-df-container {\n",
              "      display:flex;\n",
              "      flex-wrap:wrap;\n",
              "      gap: 12px;\n",
              "    }\n",
              "\n",
              "    .colab-df-convert {\n",
              "      background-color: #E8F0FE;\n",
              "      border: none;\n",
              "      border-radius: 50%;\n",
              "      cursor: pointer;\n",
              "      display: none;\n",
              "      fill: #1967D2;\n",
              "      height: 32px;\n",
              "      padding: 0 0 0 0;\n",
              "      width: 32px;\n",
              "    }\n",
              "\n",
              "    .colab-df-convert:hover {\n",
              "      background-color: #E2EBFA;\n",
              "      box-shadow: 0px 1px 2px rgba(60, 64, 67, 0.3), 0px 1px 3px 1px rgba(60, 64, 67, 0.15);\n",
              "      fill: #174EA6;\n",
              "    }\n",
              "\n",
              "    [theme=dark] .colab-df-convert {\n",
              "      background-color: #3B4455;\n",
              "      fill: #D2E3FC;\n",
              "    }\n",
              "\n",
              "    [theme=dark] .colab-df-convert:hover {\n",
              "      background-color: #434B5C;\n",
              "      box-shadow: 0px 1px 3px 1px rgba(0, 0, 0, 0.15);\n",
              "      filter: drop-shadow(0px 1px 2px rgba(0, 0, 0, 0.3));\n",
              "      fill: #FFFFFF;\n",
              "    }\n",
              "  </style>\n",
              "\n",
              "      <script>\n",
              "        const buttonEl =\n",
              "          document.querySelector('#df-d00d6464-3020-43a0-8f3c-89a6993e3eeb button.colab-df-convert');\n",
              "        buttonEl.style.display =\n",
              "          google.colab.kernel.accessAllowed ? 'block' : 'none';\n",
              "\n",
              "        async function convertToInteractive(key) {\n",
              "          const element = document.querySelector('#df-d00d6464-3020-43a0-8f3c-89a6993e3eeb');\n",
              "          const dataTable =\n",
              "            await google.colab.kernel.invokeFunction('convertToInteractive',\n",
              "                                                     [key], {});\n",
              "          if (!dataTable) return;\n",
              "\n",
              "          const docLinkHtml = 'Like what you see? Visit the ' +\n",
              "            '<a target=\"_blank\" href=https://colab.research.google.com/notebooks/data_table.ipynb>data table notebook</a>'\n",
              "            + ' to learn more about interactive tables.';\n",
              "          element.innerHTML = '';\n",
              "          dataTable['output_type'] = 'display_data';\n",
              "          await google.colab.output.renderOutput(dataTable, element);\n",
              "          const docLink = document.createElement('div');\n",
              "          docLink.innerHTML = docLinkHtml;\n",
              "          element.appendChild(docLink);\n",
              "        }\n",
              "      </script>\n",
              "    </div>\n",
              "  </div>\n",
              "  "
            ]
          },
          "metadata": {},
          "execution_count": 21
        }
      ]
    },
    {
      "cell_type": "code",
      "source": [
        "## transforming the dataset\n",
        "df_comp = raw_csv_data.copy()\n",
        "df_comp.date = pd.to_datetime(df_comp.date, dayfirst=True)\n",
        "df_comp.set_index(\"date\", inplace=True)\n",
        "df_comp = df_comp.asfreq('b') # business days as frequency\n",
        "df_comp = df_comp.fillna(method='ffill')"
      ],
      "metadata": {
        "id": "pxZajZiKvvEU"
      },
      "execution_count": 22,
      "outputs": []
    },
    {
      "cell_type": "code",
      "source": [
        "df_comp['market_value'] = df_comp.ftse"
      ],
      "metadata": {
        "id": "bNK_4dj3v1UF"
      },
      "execution_count": 23,
      "outputs": []
    },
    {
      "cell_type": "code",
      "source": [
        "del df_comp['spx'], df_comp['dax'], df_comp['ftse'], df_comp['nikkei']"
      ],
      "metadata": {
        "id": "CGchyP1hwe4j"
      },
      "execution_count": 24,
      "outputs": []
    },
    {
      "cell_type": "markdown",
      "source": [
        "## Splitting the Training and Testing Set"
      ],
      "metadata": {
        "id": "MAG5MgIcw545"
      }
    },
    {
      "cell_type": "code",
      "source": [
        "size = int(len(df_comp) * 0.8)\n",
        "df, df_test = df_comp.iloc[:size], df_comp.iloc[size:]"
      ],
      "metadata": {
        "id": "JFb6sC_hxAr3"
      },
      "execution_count": 25,
      "outputs": []
    },
    {
      "cell_type": "markdown",
      "source": [
        "## The Dicky-Fuller Test"
      ],
      "metadata": {
        "id": "Bk9naxdPxGeP"
      }
    },
    {
      "cell_type": "code",
      "source": [
        "sts.adfuller(df.market_value)"
      ],
      "metadata": {
        "colab": {
          "base_uri": "https://localhost:8080/"
        },
        "id": "j95ZjwAcxvot",
        "outputId": "82f8b3ec-0c31-4a36-803e-3d2939c77182"
      },
      "execution_count": 26,
      "outputs": [
        {
          "output_type": "execute_result",
          "data": {
            "text/plain": [
              "(-1.9041551418836864,\n",
              " 0.33010893277028336,\n",
              " 6,\n",
              " 5014,\n",
              " {'1%': -3.4316548765428174,\n",
              "  '10%': -2.5670769326348926,\n",
              "  '5%': -2.8621166146845334},\n",
              " 54854.15304507557)"
            ]
          },
          "metadata": {},
          "execution_count": 26
        }
      ]
    },
    {
      "cell_type": "markdown",
      "source": [
        "## The ACF"
      ],
      "metadata": {
        "id": "E9B2DaeixwcY"
      }
    },
    {
      "cell_type": "code",
      "source": [
        "sgt.plot_acf(df.market_value, zero=False, lags=40)\n",
        "plt.title('ACF for Prices', size=24)\n",
        "plt.show()"
      ],
      "metadata": {
        "colab": {
          "base_uri": "https://localhost:8080/",
          "height": 293
        },
        "id": "544zC9Yrx5bH",
        "outputId": "3e6f124a-db4e-4a46-c0cf-a87380eb404d"
      },
      "execution_count": 27,
      "outputs": [
        {
          "output_type": "display_data",
          "data": {
            "text/plain": [
              "<Figure size 432x288 with 1 Axes>"
            ],
            "image/png": "[encoded data removed]"
          },
          "metadata": {}
        }
      ]
    },
    {
      "cell_type": "markdown",
      "source": [
        "## The PACF"
      ],
      "metadata": {
        "id": "PuAKi2yHx6G1"
      }
    },
    {
      "cell_type": "code",
      "source": [
        "sgt.plot_pacf(df.market_value, zero=False, lags=40, alpha=0.5, method=('ols'))\n",
        "plt.title('PACF for Prices', size=24)\n",
        "plt.show()"
      ],
      "metadata": {
        "colab": {
          "base_uri": "https://localhost:8080/",
          "height": 293
        },
        "id": "U_9b29Wfx94Z",
        "outputId": "02ee206e-74e1-4b21-9c3b-0c03fb232741"
      },
      "execution_count": 28,
      "outputs": [
        {
          "output_type": "display_data",
          "data": {
            "text/plain": [
              "<Figure size 432x288 with 1 Axes>"
            ],
            "image/png": "[encoded data removed]"
          },
          "metadata": {}
        }
      ]
    },
    {
      "cell_type": "markdown",
      "source": [
        "## Using Returns\n",
        "\n",
        "returns -> the % change between the values for 2 consecutive periods."
      ],
      "metadata": {
        "id": "WL8H3HQGyCyj"
      }
    },
    {
      "cell_type": "code",
      "source": [
        "df['returns'] = df.market_value.pct_change(1).mul(100) ## mul 100 used to make it percentage"
      ],
      "metadata": {
        "colab": {
          "base_uri": "https://localhost:8080/"
        },
        "id": "95eqPZ2EyM1z",
        "outputId": "c11fce00-af3a-4dc2-8a45-e376f62a2c4c"
      },
      "execution_count": 29,
      "outputs": [
        {
          "output_type": "stream",
          "name": "stderr",
          "text": [
            "/usr/local/lib/python3.7/dist-packages/ipykernel_launcher.py:1: SettingWithCopyWarning: \n",
            "A value is trying to be set on a copy of a slice from a DataFrame.\n",
            "Try using .loc[row_indexer,col_indexer] = value instead\n",
            "\n",
            "See the caveats in the documentation: https://pandas.pydata.org/pandas-docs/stable/user_guide/indexing.html#returning-a-view-versus-a-copy\n",
            "  \"\"\"Entry point for launching an IPython kernel.\n"
          ]
        }
      ]
    },
    {
      "cell_type": "code",
      "source": [
        "df['returns']"
      ],
      "metadata": {
        "colab": {
          "base_uri": "https://localhost:8080/"
        },
        "id": "MVGA-7vSyaCD",
        "outputId": "eb9c71a2-dafb-4933-ac1a-de2aa7699e93"
      },
      "execution_count": 30,
      "outputs": [
        {
          "output_type": "execute_result",
          "data": {
            "text/plain": [
              "date\n",
              "1994-01-07         NaN\n",
              "1994-01-10   -0.156704\n",
              "1994-01-11   -0.779229\n",
              "1994-01-12   -1.222988\n",
              "1994-01-13   -0.356166\n",
              "                ...   \n",
              "2013-04-01    0.000000\n",
              "2013-04-02    1.230867\n",
              "2013-04-03   -1.084327\n",
              "2013-04-04   -1.186397\n",
              "2013-04-05   -1.487049\n",
              "Freq: B, Name: returns, Length: 5021, dtype: float64"
            ]
          },
          "metadata": {},
          "execution_count": 30
        }
      ]
    },
    {
      "cell_type": "markdown",
      "source": [
        "Earlier in the AR model we removed the first column to avoid missing values in the **'returns'** column. This time we are not avoiding the first **date** column."
      ],
      "metadata": {
        "id": "GBtFFSSkykiC"
      }
    },
    {
      "cell_type": "markdown",
      "source": [
        "## MA(1) for Returns\n",
        "\n",
        "Here the change is going to be in the parameter **order**\n",
        "\n",
        "First component is for AR model : In this case it will be 0\n",
        "\n",
        "Second component is for MA model : In this case it will be 1"
      ],
      "metadata": {
        "id": "ACts25nKzEJ7"
      }
    },
    {
      "cell_type": "code",
      "source": [
        "model_ret_ma_1 = ARMA(df.returns[1:], order=(0,1))\n",
        "results_ret_ma_1 = model_ret_ma_1.fit()\n",
        "results_ret_ma_1.summary()"
      ],
      "metadata": {
        "id": "S8rUB55NzVS_",
        "colab": {
          "base_uri": "https://localhost:8080/",
          "height": 314
        },
        "outputId": "d6c2d069-30c7-4562-de48-3cc303c02a7b"
      },
      "execution_count": 31,
      "outputs": [
        {
          "output_type": "execute_result",
          "data": {
            "text/plain": [
              "<class 'statsmodels.iolib.summary.Summary'>\n",
              "\"\"\"\n",
              "                              ARMA Model Results                              \n",
              "==============================================================================\n",
              "Dep. Variable:                returns   No. Observations:                 5020\n",
              "Model:                     ARMA(0, 1)   Log Likelihood               -7929.595\n",
              "Method:                       css-mle   S.D. of innovations              1.174\n",
              "Date:                Fri, 29 Jul 2022   AIC                          15865.190\n",
              "Time:                        02:54:42   BIC                          15884.754\n",
              "Sample:                    01-10-1994   HQIC                         15872.045\n",
              "                         - 04-05-2013                                         \n",
              "=================================================================================\n",
              "                    coef    std err          z      P>|z|      [0.025      0.975]\n",
              "---------------------------------------------------------------------------------\n",
              "const             0.0188      0.016      1.162      0.245      -0.013       0.050\n",
              "ma.L1.returns    -0.0257      0.015     -1.720      0.086      -0.055       0.004\n",
              "                                    Roots                                    \n",
              "=============================================================================\n",
              "                  Real          Imaginary           Modulus         Frequency\n",
              "-----------------------------------------------------------------------------\n",
              "MA.1           38.8550           +0.0000j           38.8550            0.0000\n",
              "-----------------------------------------------------------------------------\n",
              "\"\"\""
            ],
            "text/html": [
              "<table class=\"simpletable\">\n",
              "<caption>ARMA Model Results</caption>\n",
              "<tr>\n",
              "  <th>Dep. Variable:</th>      <td>returns</td>     <th>  No. Observations:  </th>   <td>5020</td>   \n",
              "</tr>\n",
              "<tr>\n",
              "  <th>Model:</th>            <td>ARMA(0, 1)</td>    <th>  Log Likelihood     </th> <td>-7929.595</td>\n",
              "</tr>\n",
              "<tr>\n",
              "  <th>Method:</th>             <td>css-mle</td>     <th>  S.D. of innovations</th>   <td>1.174</td>  \n",
              "</tr>\n",
              "<tr>\n",
              "  <th>Date:</th>          <td>Fri, 29 Jul 2022</td> <th>  AIC                </th> <td>15865.190</td>\n",
              "</tr>\n",
              "<tr>\n",
              "  <th>Time:</th>              <td>02:54:42</td>     <th>  BIC                </th> <td>15884.754</td>\n",
              "</tr>\n",
              "<tr>\n",
              "  <th>Sample:</th>           <td>01-10-1994</td>    <th>  HQIC               </th> <td>15872.045</td>\n",
              "</tr>\n",
              "<tr>\n",
              "  <th></th>                 <td>- 04-05-2013</td>   <th>                     </th>     <td> </td>    \n",
              "</tr>\n",
              "</table>\n",
              "<table class=\"simpletable\">\n",
              "<tr>\n",
              "        <td></td>           <th>coef</th>     <th>std err</th>      <th>z</th>      <th>P>|z|</th>  <th>[0.025</th>    <th>0.975]</th>  \n",
              "</tr>\n",
              "<tr>\n",
              "  <th>const</th>         <td>    0.0188</td> <td>    0.016</td> <td>    1.162</td> <td> 0.245</td> <td>   -0.013</td> <td>    0.050</td>\n",
              "</tr>\n",
              "<tr>\n",
              "  <th>ma.L1.returns</th> <td>   -0.0257</td> <td>    0.015</td> <td>   -1.720</td> <td> 0.086</td> <td>   -0.055</td> <td>    0.004</td>\n",
              "</tr>\n",
              "</table>\n",
              "<table class=\"simpletable\">\n",
              "<caption>Roots</caption>\n",
              "<tr>\n",
              "    <td></td>   <th>            Real</th>  <th>         Imaginary</th> <th>         Modulus</th>  <th>        Frequency</th>\n",
              "</tr>\n",
              "<tr>\n",
              "  <th>MA.1</th> <td>          38.8550</td> <td>          +0.0000j</td> <td>          38.8550</td> <td>           0.0000</td>\n",
              "</tr>\n",
              "</table>"
            ]
          },
          "metadata": {},
          "execution_count": 31
        }
      ]
    },
    {
      "cell_type": "markdown",
      "source": [
        "## Higher Lag MA Models for Returns"
      ],
      "metadata": {
        "id": "96m0pa1408Oy"
      }
    },
    {
      "cell_type": "code",
      "source": [
        "model_ret_ma_2 = ARMA(df.returns[1:], order=(0,2))\n",
        "results_ret_ma_2 = model_ret_ma_2.fit()\n",
        "print(results_ret_ma_2.summary())"
      ],
      "metadata": {
        "id": "Fp4CKzT72DcP",
        "outputId": "5b9d81d2-9b6f-40a6-ee93-990eef2f5a4a",
        "colab": {
          "base_uri": "https://localhost:8080/"
        }
      },
      "execution_count": 32,
      "outputs": [
        {
          "output_type": "stream",
          "name": "stdout",
          "text": [
            "                              ARMA Model Results                              \n",
            "==============================================================================\n",
            "Dep. Variable:                returns   No. Observations:                 5020\n",
            "Model:                     ARMA(0, 2)   Log Likelihood               -7922.864\n",
            "Method:                       css-mle   S.D. of innovations              1.173\n",
            "Date:                Fri, 29 Jul 2022   AIC                          15853.728\n",
            "Time:                        02:54:43   BIC                          15879.812\n",
            "Sample:                    01-10-1994   HQIC                         15862.868\n",
            "                         - 04-05-2013                                         \n",
            "=================================================================================\n",
            "                    coef    std err          z      P>|z|      [0.025      0.975]\n",
            "---------------------------------------------------------------------------------\n",
            "const             0.0188      0.015      1.239      0.215      -0.011       0.049\n",
            "ma.L1.returns    -0.0327      0.014     -2.297      0.022      -0.061      -0.005\n",
            "ma.L2.returns    -0.0502      0.014     -3.669      0.000      -0.077      -0.023\n",
            "                                    Roots                                    \n",
            "=============================================================================\n",
            "                  Real          Imaginary           Modulus         Frequency\n",
            "-----------------------------------------------------------------------------\n",
            "MA.1            4.1499           +0.0000j            4.1499            0.0000\n",
            "MA.2           -4.8004           +0.0000j            4.8004            0.5000\n",
            "-----------------------------------------------------------------------------\n"
          ]
        }
      ]
    },
    {
      "cell_type": "markdown",
      "source": [
        "## The Log-Likelihood test"
      ],
      "metadata": {
        "id": "Thc9t92_2bqu"
      }
    },
    {
      "cell_type": "code",
      "source": [
        "def llr_test(mod_1, mod_2, DF=1):\n",
        "   \"\"\" mod_1, mod_2= models to compare, df=degrees of freedom\"\"\"\n",
        "   L1 = mod_1.fit(trend='ct').llf ## Add trend='ct'\n",
        "   L2 = mod_2.fit(trend='ct').llf ## log likelihood\n",
        "   LR = (2*(L2-L1)) ## test statistics\n",
        "   p = chi2.sf(LR, DF).round(3) ## p-value\n",
        "   return p"
      ],
      "metadata": {
        "id": "jGU3ZUgT3EN2"
      },
      "execution_count": 33,
      "outputs": []
    },
    {
      "cell_type": "markdown",
      "source": [
        "## Compare the Log-Likelihood of the both models"
      ],
      "metadata": {
        "id": "4gQ5-a9p3Fen"
      }
    },
    {
      "cell_type": "code",
      "source": [
        "print('\\n LLR test p-value = ' + str(llr_test(model_ret_ma_1, model_ret_ma_2)))"
      ],
      "metadata": {
        "id": "ChLmrZld3VLV",
        "outputId": "0213806c-9949-4ae5-9525-ef948bdcf0a2",
        "colab": {
          "base_uri": "https://localhost:8080/"
        }
      },
      "execution_count": 34,
      "outputs": [
        {
          "output_type": "stream",
          "name": "stdout",
          "text": [
            "\n",
            " LLR test p-value = 0.0\n"
          ]
        }
      ]
    },
    {
      "cell_type": "code",
      "source": [
        "model_ret_ma_3 = ARMA(df.returns[1:], order=(0,3))\n",
        "results_ret_ma_3 = model_ret_ma_3.fit()\n",
        "print(results_ret_ma_3.summary())\n",
        "print('\\n LLR test p-value = ' + str(llr_test(model_ret_ma_2, model_ret_ma_3)))"
      ],
      "metadata": {
        "id": "zBfqPV643oyo",
        "outputId": "7bc49332-83a9-4f36-e743-f0b71005daa1",
        "colab": {
          "base_uri": "https://localhost:8080/"
        }
      },
      "execution_count": 35,
      "outputs": [
        {
          "output_type": "stream",
          "name": "stdout",
          "text": [
            "                              ARMA Model Results                              \n",
            "==============================================================================\n",
            "Dep. Variable:                returns   No. Observations:                 5020\n",
            "Model:                     ARMA(0, 3)   Log Likelihood               -7904.317\n",
            "Method:                       css-mle   S.D. of innovations              1.168\n",
            "Date:                Fri, 29 Jul 2022   AIC                          15818.634\n",
            "Time:                        03:13:27   BIC                          15851.240\n",
            "Sample:                    01-10-1994   HQIC                         15830.060\n",
            "                         - 04-05-2013                                         \n",
            "=================================================================================\n",
            "                    coef    std err          z      P>|z|      [0.025      0.975]\n",
            "---------------------------------------------------------------------------------\n",
            "const             0.0189      0.014      1.376      0.169      -0.008       0.046\n",
            "ma.L1.returns    -0.0203      0.014     -1.423      0.155      -0.048       0.008\n",
            "ma.L2.returns    -0.0556      0.013     -4.134      0.000      -0.082      -0.029\n",
            "ma.L3.returns    -0.0904      0.015     -6.121      0.000      -0.119      -0.061\n",
            "                                    Roots                                    \n",
            "=============================================================================\n",
            "                  Real          Imaginary           Modulus         Frequency\n",
            "-----------------------------------------------------------------------------\n",
            "MA.1            2.0105           -0.0000j            2.0105           -0.0000\n",
            "MA.2           -1.3129           -1.9441j            2.3459           -0.3445\n",
            "MA.3           -1.3129           +1.9441j            2.3459            0.3445\n",
            "-----------------------------------------------------------------------------\n",
            "\n",
            " LLR test p-value = 0.0\n"
          ]
        }
      ]
    },
    {
      "cell_type": "markdown",
      "source": [
        "We see p-value from LLR test is 0(zero), which means that these lags are significant. And we continue increasing the lags and the complexity till lag 7 where the p-value changes"
      ],
      "metadata": {
        "id": "lwyb4L1t8dFK"
      }
    },
    {
      "cell_type": "code",
      "source": [
        "model_ret_ma_4 = ARMA(df.returns[1:], order=(0,4))\n",
        "results_ret_ma_4 = model_ret_ma_4.fit()\n",
        "print(results_ret_ma_4.summary())\n",
        "print('\\n LLR test p-value = ' + str(llr_test(model_ret_ma_3, model_ret_ma_4)))"
      ],
      "metadata": {
        "id": "EW3St84V9RqA",
        "outputId": "ba7f9dbb-7373-410f-dd99-4de1cf2f6862",
        "colab": {
          "base_uri": "https://localhost:8080/"
        }
      },
      "execution_count": 39,
      "outputs": [
        {
          "output_type": "stream",
          "name": "stdout",
          "text": [
            "                              ARMA Model Results                              \n",
            "==============================================================================\n",
            "Dep. Variable:                returns   No. Observations:                 5020\n",
            "Model:                     ARMA(0, 4)   Log Likelihood               -7898.773\n",
            "Method:                       css-mle   S.D. of innovations              1.167\n",
            "Date:                Fri, 29 Jul 2022   AIC                          15809.547\n",
            "Time:                        03:19:30   BIC                          15848.674\n",
            "Sample:                    01-10-1994   HQIC                         15823.257\n",
            "                         - 04-05-2013                                         \n",
            "=================================================================================\n",
            "                    coef    std err          z      P>|z|      [0.025      0.975]\n",
            "---------------------------------------------------------------------------------\n",
            "const             0.0189      0.014      1.305      0.192      -0.009       0.047\n",
            "ma.L1.returns    -0.0203      0.014     -1.443      0.149      -0.048       0.007\n",
            "ma.L2.returns    -0.0551      0.014     -3.902      0.000      -0.083      -0.027\n",
            "ma.L3.returns    -0.0922      0.015     -6.306      0.000      -0.121      -0.064\n",
            "ma.L4.returns     0.0454      0.014      3.338      0.001       0.019       0.072\n",
            "                                    Roots                                    \n",
            "=============================================================================\n",
            "                  Real          Imaginary           Modulus         Frequency\n",
            "-----------------------------------------------------------------------------\n",
            "MA.1           -1.2257           -1.4206j            1.8763           -0.3633\n",
            "MA.2           -1.2257           +1.4206j            1.8763            0.3633\n",
            "MA.3            2.2405           -1.1103j            2.5006           -0.0732\n",
            "MA.4            2.2405           +1.1103j            2.5006            0.0732\n",
            "-----------------------------------------------------------------------------\n",
            "\n",
            " LLR test p-value = 0.001\n"
          ]
        }
      ]
    },
    {
      "cell_type": "code",
      "source": [
        "model_ret_ma_5 = ARMA(df.returns[1:], order=(0,5))\n",
        "results_ret_ma_5 = model_ret_ma_5.fit()\n",
        "print(results_ret_ma_5.summary())\n",
        "print('\\n LLR test p-value = ' + str(llr_test(model_ret_ma_4, model_ret_ma_5)))"
      ],
      "metadata": {
        "id": "E2UEDHMk9eLa",
        "outputId": "28633a48-8383-40aa-aadf-5637678c048b",
        "colab": {
          "base_uri": "https://localhost:8080/"
        }
      },
      "execution_count": 40,
      "outputs": [
        {
          "output_type": "stream",
          "name": "stdout",
          "text": [
            "                              ARMA Model Results                              \n",
            "==============================================================================\n",
            "Dep. Variable:                returns   No. Observations:                 5020\n",
            "Model:                     ARMA(0, 5)   Log Likelihood               -7892.823\n",
            "Method:                       css-mle   S.D. of innovations              1.166\n",
            "Date:                Fri, 29 Jul 2022   AIC                          15799.645\n",
            "Time:                        03:20:01   BIC                          15845.294\n",
            "Sample:                    01-10-1994   HQIC                         15815.641\n",
            "                         - 04-05-2013                                         \n",
            "=================================================================================\n",
            "                    coef    std err          z      P>|z|      [0.025      0.975]\n",
            "---------------------------------------------------------------------------------\n",
            "const             0.0189      0.014      1.376      0.169      -0.008       0.046\n",
            "ma.L1.returns    -0.0262      0.014     -1.851      0.064      -0.054       0.002\n",
            "ma.L2.returns    -0.0497      0.014     -3.518      0.000      -0.077      -0.022\n",
            "ma.L3.returns    -0.0852      0.015     -5.799      0.000      -0.114      -0.056\n",
            "ma.L4.returns     0.0458      0.014      3.374      0.001       0.019       0.072\n",
            "ma.L5.returns    -0.0500      0.014     -3.454      0.001      -0.078      -0.022\n",
            "                                    Roots                                    \n",
            "=============================================================================\n",
            "                  Real          Imaginary           Modulus         Frequency\n",
            "-----------------------------------------------------------------------------\n",
            "MA.1           -1.2127           -1.0805j            1.6242           -0.3842\n",
            "MA.2           -1.2127           +1.0805j            1.6242            0.3842\n",
            "MA.3            1.7305           -0.0000j            1.7305           -0.0000\n",
            "MA.4            0.8062           -1.9326j            2.0940           -0.1871\n",
            "MA.5            0.8062           +1.9326j            2.0940            0.1871\n",
            "-----------------------------------------------------------------------------\n",
            "\n",
            " LLR test p-value = 0.001\n"
          ]
        }
      ]
    },
    {
      "cell_type": "code",
      "source": [
        "model_ret_ma_6 = ARMA(df.returns[1:], order=(0,6))\n",
        "results_ret_ma_6 = model_ret_ma_6.fit()\n",
        "print(results_ret_ma_6.summary())\n",
        "print('\\n LLR test p-value = ' + str(llr_test(model_ret_ma_5, model_ret_ma_6)))"
      ],
      "metadata": {
        "id": "gkFDKOh299IH",
        "outputId": "f0197523-5ba6-42af-cb40-44fef0d4b861",
        "colab": {
          "base_uri": "https://localhost:8080/"
        }
      },
      "execution_count": 41,
      "outputs": [
        {
          "output_type": "stream",
          "name": "stdout",
          "text": [
            "                              ARMA Model Results                              \n",
            "==============================================================================\n",
            "Dep. Variable:                returns   No. Observations:                 5020\n",
            "Model:                     ARMA(0, 6)   Log Likelihood               -7889.221\n",
            "Method:                       css-mle   S.D. of innovations              1.165\n",
            "Date:                Fri, 29 Jul 2022   AIC                          15794.442\n",
            "Time:                        03:21:21   BIC                          15846.612\n",
            "Sample:                    01-10-1994   HQIC                         15812.723\n",
            "                         - 04-05-2013                                         \n",
            "=================================================================================\n",
            "                    coef    std err          z      P>|z|      [0.025      0.975]\n",
            "---------------------------------------------------------------------------------\n",
            "const             0.0189      0.013      1.430      0.153      -0.007       0.045\n",
            "ma.L1.returns    -0.0237      0.014     -1.682      0.093      -0.051       0.004\n",
            "ma.L2.returns    -0.0486      0.014     -3.436      0.001      -0.076      -0.021\n",
            "ma.L3.returns    -0.0827      0.014     -5.846      0.000      -0.110      -0.055\n",
            "ma.L4.returns     0.0466      0.014      3.434      0.001       0.020       0.073\n",
            "ma.L5.returns    -0.0484      0.014     -3.371      0.001      -0.077      -0.020\n",
            "ma.L6.returns    -0.0387      0.014     -2.682      0.007      -0.067      -0.010\n",
            "                                    Roots                                    \n",
            "=============================================================================\n",
            "                  Real          Imaginary           Modulus         Frequency\n",
            "-----------------------------------------------------------------------------\n",
            "MA.1            1.5011           -0.0000j            1.5011           -0.0000\n",
            "MA.2            0.8248           -1.4775j            1.6921           -0.1690\n",
            "MA.3            0.8248           +1.4775j            1.6921            0.1690\n",
            "MA.4           -1.0066           -1.2260j            1.5863           -0.3594\n",
            "MA.5           -1.0066           +1.2260j            1.5863            0.3594\n",
            "MA.6           -2.3891           -0.0000j            2.3891           -0.5000\n",
            "-----------------------------------------------------------------------------\n",
            "\n",
            " LLR test p-value = 0.007\n"
          ]
        }
      ]
    },
    {
      "cell_type": "code",
      "source": [
        "model_ret_ma_7 = ARMA(df.returns[1:], order=(0,7))\n",
        "results_ret_ma_7 = model_ret_ma_7.fit()\n",
        "print(results_ret_ma_7.summary())\n",
        "print('\\n LLR test p-value = ' + str(llr_test(model_ret_ma_6, model_ret_ma_7)))"
      ],
      "metadata": {
        "id": "Ingzj22j-JmR",
        "outputId": "b38ad655-9197-4c6a-fda4-6f6ac75998cf",
        "colab": {
          "base_uri": "https://localhost:8080/"
        }
      },
      "execution_count": 42,
      "outputs": [
        {
          "output_type": "stream",
          "name": "stdout",
          "text": [
            "                              ARMA Model Results                              \n",
            "==============================================================================\n",
            "Dep. Variable:                returns   No. Observations:                 5020\n",
            "Model:                     ARMA(0, 7)   Log Likelihood               -7889.046\n",
            "Method:                       css-mle   S.D. of innovations              1.165\n",
            "Date:                Fri, 29 Jul 2022   AIC                          15796.091\n",
            "Time:                        03:21:24   BIC                          15854.782\n",
            "Sample:                    01-10-1994   HQIC                         15816.657\n",
            "                         - 04-05-2013                                         \n",
            "=================================================================================\n",
            "                    coef    std err          z      P>|z|      [0.025      0.975]\n",
            "---------------------------------------------------------------------------------\n",
            "const             0.0189      0.013      1.418      0.156      -0.007       0.045\n",
            "ma.L1.returns    -0.0247      0.014     -1.739      0.082      -0.052       0.003\n",
            "ma.L2.returns    -0.0488      0.014     -3.454      0.001      -0.077      -0.021\n",
            "ma.L3.returns    -0.0821      0.014     -5.789      0.000      -0.110      -0.054\n",
            "ma.L4.returns     0.0458      0.014      3.360      0.001       0.019       0.073\n",
            "ma.L5.returns    -0.0486      0.014     -3.381      0.001      -0.077      -0.020\n",
            "ma.L6.returns    -0.0390      0.014     -2.702      0.007      -0.067      -0.011\n",
            "ma.L7.returns     0.0085      0.014      0.592      0.554      -0.020       0.037\n",
            "                                    Roots                                    \n",
            "=============================================================================\n",
            "                  Real          Imaginary           Modulus         Frequency\n",
            "-----------------------------------------------------------------------------\n",
            "MA.1           -0.9690           -1.1814j            1.5279           -0.3593\n",
            "MA.2           -0.9690           +1.1814j            1.5279            0.3593\n",
            "MA.3           -2.0397           -0.0000j            2.0397           -0.5000\n",
            "MA.4            0.7516           -1.5246j            1.6998           -0.1771\n",
            "MA.5            0.7516           +1.5246j            1.6998            0.1771\n",
            "MA.6            1.5538           -0.0000j            1.5538           -0.0000\n",
            "MA.7            5.5175           -0.0000j            5.5175           -0.0000\n",
            "-----------------------------------------------------------------------------\n",
            "\n",
            " LLR test p-value = 0.554\n"
          ]
        }
      ]
    },
    {
      "cell_type": "markdown",
      "source": [
        "In the 7th model the LLR test fails to reject the Null Hypothesis.\n",
        "\n",
        "However, in the ACF for returns we have seen that 7th model is not significant BUT we need to be troroug and see the LLR test of the 8th model to confirm."
      ],
      "metadata": {
        "id": "byvxOdZg-RLH"
      }
    },
    {
      "cell_type": "code",
      "source": [
        "model_ret_ma_8 = ARMA(df.returns[1:], order=(0,8))\n",
        "results_ret_ma_8 = model_ret_ma_8.fit()\n",
        "print(results_ret_ma_8.summary())\n",
        "print('\\n LLR test p-value = ' + str(llr_test(model_ret_ma_7, model_ret_ma_8)))"
      ],
      "metadata": {
        "id": "Hnh134y6-aJq",
        "outputId": "7850e8c4-f6b4-46fc-c874-2ed6b6311331",
        "colab": {
          "base_uri": "https://localhost:8080/"
        }
      },
      "execution_count": 43,
      "outputs": [
        {
          "output_type": "stream",
          "name": "stdout",
          "text": [
            "                              ARMA Model Results                              \n",
            "==============================================================================\n",
            "Dep. Variable:                returns   No. Observations:                 5020\n",
            "Model:                     ARMA(0, 8)   Log Likelihood               -7885.603\n",
            "Method:                       css-mle   S.D. of innovations              1.164\n",
            "Date:                Fri, 29 Jul 2022   AIC                          15791.205\n",
            "Time:                        03:25:36   BIC                          15856.417\n",
            "Sample:                    01-10-1994   HQIC                         15814.056\n",
            "                         - 04-05-2013                                         \n",
            "=================================================================================\n",
            "                    coef    std err          z      P>|z|      [0.025      0.975]\n",
            "---------------------------------------------------------------------------------\n",
            "const             0.0189      0.014      1.364      0.173      -0.008       0.046\n",
            "ma.L1.returns    -0.0238      0.014     -1.688      0.091      -0.051       0.004\n",
            "ma.L2.returns    -0.0495      0.014     -3.514      0.000      -0.077      -0.022\n",
            "ma.L3.returns    -0.0847      0.014     -5.993      0.000      -0.112      -0.057\n",
            "ma.L4.returns     0.0488      0.014      3.440      0.001       0.021       0.077\n",
            "ma.L5.returns    -0.0518      0.014     -3.634      0.000      -0.080      -0.024\n",
            "ma.L6.returns    -0.0402      0.014     -2.787      0.005      -0.068      -0.012\n",
            "ma.L7.returns     0.0084      0.014      0.587      0.557      -0.020       0.036\n",
            "ma.L8.returns     0.0366      0.014      2.626      0.009       0.009       0.064\n",
            "                                    Roots                                    \n",
            "=============================================================================\n",
            "                  Real          Imaginary           Modulus         Frequency\n",
            "-----------------------------------------------------------------------------\n",
            "MA.1            1.4716           -0.4282j            1.5326           -0.0451\n",
            "MA.2            1.4716           +0.4282j            1.5326            0.0451\n",
            "MA.3            0.5944           -1.3169j            1.4448           -0.1825\n",
            "MA.4            0.5944           +1.3169j            1.4448            0.1825\n",
            "MA.5           -0.7318           -1.2736j            1.4689           -0.3330\n",
            "MA.6           -0.7318           +1.2736j            1.4689            0.3330\n",
            "MA.7           -1.4485           -0.6983j            1.6081           -0.4285\n",
            "MA.8           -1.4485           +0.6983j            1.6081            0.4285\n",
            "-----------------------------------------------------------------------------\n",
            "\n",
            " LLR test p-value = 0.009\n"
          ]
        }
      ]
    },
    {
      "cell_type": "markdown",
      "source": [
        "Now we have seen that MA(8) is better than MA(7). Now we have to determine whether we should proceed with the MA(8) which gives better result than MA(7) or should we keep it simple with MA(6) model.\n",
        "\n",
        "For this we need to do a **LLR test** on MA(8) and MA(6) models."
      ],
      "metadata": {
        "id": "t7deoziY_OlG"
      }
    },
    {
      "cell_type": "code",
      "source": [
        "llr_test(model_ret_ma_6, model_ret_ma_8, DF=2)"
      ],
      "metadata": {
        "id": "df1FwWQ9BKCk",
        "outputId": "437db4e9-4fcf-4ee2-d108-93542b3aceb6",
        "colab": {
          "base_uri": "https://localhost:8080/"
        }
      },
      "execution_count": 45,
      "outputs": [
        {
          "output_type": "execute_result",
          "data": {
            "text/plain": [
              "0.027"
            ]
          },
          "metadata": {},
          "execution_count": 45
        }
      ]
    },
    {
      "cell_type": "markdown",
      "source": [
        "In the above LLR test we have included the **DF(Degree of Freedom)** because we need to estimate the coefficients for 8 variables in the complicated model (MA(8)) which is 2 more than the 6 from the simpler model(MA(6))."
      ],
      "metadata": {
        "id": "xjW1wuBvBRX3"
      }
    }
  ]
}
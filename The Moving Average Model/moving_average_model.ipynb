{
  "nbformat": 4,
  "nbformat_minor": 0,
  "metadata": {
    "colab": {
      "name": "moving_average_model.ipynb",
      "provenance": [],
      "authorship_tag": "ABX9TyN9z9iorFD346yqvExOwVMC",
      "include_colab_link": true
    },
    "kernelspec": {
      "name": "python3",
      "display_name": "Python 3"
    },
    "language_info": {
      "name": "python"
    }
  },
  "cells": [
    {
      "cell_type": "markdown",
      "metadata": {
        "id": "view-in-github",
        "colab_type": "text"
      },
      "source": [
        "<a href=\"https://colab.research.google.com/github/Priyo-prog/Time-series-analysis/blob/main/The%20Moving%20Average%20Model/moving_average_model.ipynb\" target=\"_parent\"><img src=\"https://colab.research.google.com/assets/colab-badge.svg\" alt=\"Open In Colab\"/></a>"
      ]
    },
    {
      "cell_type": "markdown",
      "source": [
        "#**The Moving Average Model**\n",
        "\n",
        "The Moving Average model deals with the residuals of the past lags decided by the ACF."
      ],
      "metadata": {
        "id": "GwQrd5izu6fE"
      }
    },
    {
      "cell_type": "markdown",
      "source": [
        "## Import the libraries"
      ],
      "metadata": {
        "id": "TvwADmeTvSBL"
      }
    },
    {
      "cell_type": "code",
      "source": [
        "import pandas as pd\n",
        "import numpy as np\n",
        "import matplotlib.pyplot as plt\n",
        "import statsmodels.graphics.tsaplots as sgt\n",
        "import statsmodels.tsa.stattools as sts\n",
        "from statsmodels.tsa.seasonal import seasonal_decompose\n",
        "from statsmodels.tsa.arima_model import ARMA\n",
        "from scipy.stats.distributions import chi2\n",
        "import seaborn as sns\n",
        "sns.set()"
      ],
      "metadata": {
        "id": "mDGbXZQlvbes",
        "outputId": "d0f115a3-4fdd-4a37-f8ec-8b01c7f0224e",
        "colab": {
          "base_uri": "https://localhost:8080/"
        }
      },
      "execution_count": 1,
      "outputs": [
        {
          "output_type": "stream",
          "name": "stderr",
          "text": [
            "/usr/local/lib/python3.7/dist-packages/statsmodels/tools/_testing.py:19: FutureWarning: pandas.util.testing is deprecated. Use the functions in the public API at pandas.testing instead.\n",
            "  import pandas.util.testing as tm\n"
          ]
        }
      ]
    },
    {
      "cell_type": "markdown",
      "source": [
        "## Import the Data"
      ],
      "metadata": {
        "id": "8WjQiJmjvcad"
      }
    },
    {
      "cell_type": "code",
      "source": [
        "## mount the google drive to fetch the data\n",
        "from google.colab import drive\n",
        "drive.mount('/content/drive')"
      ],
      "metadata": {
        "colab": {
          "base_uri": "https://localhost:8080/"
        },
        "id": "1t6XSbAZviT5",
        "outputId": "a76bb46e-d1c7-41b7-ab4f-83742df08af8"
      },
      "execution_count": 2,
      "outputs": [
        {
          "output_type": "stream",
          "name": "stdout",
          "text": [
            "Mounted at /content/drive\n"
          ]
        }
      ]
    },
    {
      "cell_type": "code",
      "source": [
        "## load the dataset\n",
        "raw_csv_data = pd.read_csv('/content/drive/MyDrive/Data Science/Time Series/Index2018.csv')\n",
        "raw_csv_data.head()"
      ],
      "metadata": {
        "colab": {
          "base_uri": "https://localhost:8080/",
          "height": 206
        },
        "id": "5hKH803jvjbc",
        "outputId": "dc353e51-76ad-4a0d-ebb5-4ed6209f5b80"
      },
      "execution_count": 3,
      "outputs": [
        {
          "output_type": "execute_result",
          "data": {
            "text/plain": [
              "         date     spx      dax     ftse    nikkei\n",
              "0  07/01/1994  469.90  2224.95  3445.98  18124.01\n",
              "1  10/01/1994  475.27  2225.00  3440.58  18443.44\n",
              "2  11/01/1994  474.13  2228.10  3413.77  18485.25\n",
              "3  12/01/1994  474.17  2182.06  3372.02  18793.88\n",
              "4  13/01/1994  472.47  2142.37  3360.01  18577.26"
            ],
            "text/html": [
              "\n",
              "  <div id=\"df-10129a26-37a5-4783-93d8-35bda61ff8e6\">\n",
              "    <div class=\"colab-df-container\">\n",
              "      <div>\n",
              "<style scoped>\n",
              "    .dataframe tbody tr th:only-of-type {\n",
              "        vertical-align: middle;\n",
              "    }\n",
              "\n",
              "    .dataframe tbody tr th {\n",
              "        vertical-align: top;\n",
              "    }\n",
              "\n",
              "    .dataframe thead th {\n",
              "        text-align: right;\n",
              "    }\n",
              "</style>\n",
              "<table border=\"1\" class=\"dataframe\">\n",
              "  <thead>\n",
              "    <tr style=\"text-align: right;\">\n",
              "      <th></th>\n",
              "      <th>date</th>\n",
              "      <th>spx</th>\n",
              "      <th>dax</th>\n",
              "      <th>ftse</th>\n",
              "      <th>nikkei</th>\n",
              "    </tr>\n",
              "  </thead>\n",
              "  <tbody>\n",
              "    <tr>\n",
              "      <th>0</th>\n",
              "      <td>07/01/1994</td>\n",
              "      <td>469.90</td>\n",
              "      <td>2224.95</td>\n",
              "      <td>3445.98</td>\n",
              "      <td>18124.01</td>\n",
              "    </tr>\n",
              "    <tr>\n",
              "      <th>1</th>\n",
              "      <td>10/01/1994</td>\n",
              "      <td>475.27</td>\n",
              "      <td>2225.00</td>\n",
              "      <td>3440.58</td>\n",
              "      <td>18443.44</td>\n",
              "    </tr>\n",
              "    <tr>\n",
              "      <th>2</th>\n",
              "      <td>11/01/1994</td>\n",
              "      <td>474.13</td>\n",
              "      <td>2228.10</td>\n",
              "      <td>3413.77</td>\n",
              "      <td>18485.25</td>\n",
              "    </tr>\n",
              "    <tr>\n",
              "      <th>3</th>\n",
              "      <td>12/01/1994</td>\n",
              "      <td>474.17</td>\n",
              "      <td>2182.06</td>\n",
              "      <td>3372.02</td>\n",
              "      <td>18793.88</td>\n",
              "    </tr>\n",
              "    <tr>\n",
              "      <th>4</th>\n",
              "      <td>13/01/1994</td>\n",
              "      <td>472.47</td>\n",
              "      <td>2142.37</td>\n",
              "      <td>3360.01</td>\n",
              "      <td>18577.26</td>\n",
              "    </tr>\n",
              "  </tbody>\n",
              "</table>\n",
              "</div>\n",
              "      <button class=\"colab-df-convert\" onclick=\"convertToInteractive('df-10129a26-37a5-4783-93d8-35bda61ff8e6')\"\n",
              "              title=\"Convert this dataframe to an interactive table.\"\n",
              "              style=\"display:none;\">\n",
              "        \n",
              "  <svg xmlns=\"http://www.w3.org/2000/svg\" height=\"24px\"viewBox=\"0 0 24 24\"\n",
              "       width=\"24px\">\n",
              "    <path d=\"M0 0h24v24H0V0z\" fill=\"none\"/>\n",
              "    <path d=\"M18.56 5.44l.94 2.06.94-2.06 2.06-.94-2.06-.94-.94-2.06-.94 2.06-2.06.94zm-11 1L8.5 8.5l.94-2.06 2.06-.94-2.06-.94L8.5 2.5l-.94 2.06-2.06.94zm10 10l.94 2.06.94-2.06 2.06-.94-2.06-.94-.94-2.06-.94 2.06-2.06.94z\"/><path d=\"M17.41 7.96l-1.37-1.37c-.4-.4-.92-.59-1.43-.59-.52 0-1.04.2-1.43.59L10.3 9.45l-7.72 7.72c-.78.78-.78 2.05 0 2.83L4 21.41c.39.39.9.59 1.41.59.51 0 1.02-.2 1.41-.59l7.78-7.78 2.81-2.81c.8-.78.8-2.07 0-2.86zM5.41 20L4 18.59l7.72-7.72 1.47 1.35L5.41 20z\"/>\n",
              "  </svg>\n",
              "      </button>\n",
              "      \n",
              "  <style>\n",
              "    .colab-df-container {\n",
              "      display:flex;\n",
              "      flex-wrap:wrap;\n",
              "      gap: 12px;\n",
              "    }\n",
              "\n",
              "    .colab-df-convert {\n",
              "      background-color: #E8F0FE;\n",
              "      border: none;\n",
              "      border-radius: 50%;\n",
              "      cursor: pointer;\n",
              "      display: none;\n",
              "      fill: #1967D2;\n",
              "      height: 32px;\n",
              "      padding: 0 0 0 0;\n",
              "      width: 32px;\n",
              "    }\n",
              "\n",
              "    .colab-df-convert:hover {\n",
              "      background-color: #E2EBFA;\n",
              "      box-shadow: 0px 1px 2px rgba(60, 64, 67, 0.3), 0px 1px 3px 1px rgba(60, 64, 67, 0.15);\n",
              "      fill: #174EA6;\n",
              "    }\n",
              "\n",
              "    [theme=dark] .colab-df-convert {\n",
              "      background-color: #3B4455;\n",
              "      fill: #D2E3FC;\n",
              "    }\n",
              "\n",
              "    [theme=dark] .colab-df-convert:hover {\n",
              "      background-color: #434B5C;\n",
              "      box-shadow: 0px 1px 3px 1px rgba(0, 0, 0, 0.15);\n",
              "      filter: drop-shadow(0px 1px 2px rgba(0, 0, 0, 0.3));\n",
              "      fill: #FFFFFF;\n",
              "    }\n",
              "  </style>\n",
              "\n",
              "      <script>\n",
              "        const buttonEl =\n",
              "          document.querySelector('#df-10129a26-37a5-4783-93d8-35bda61ff8e6 button.colab-df-convert');\n",
              "        buttonEl.style.display =\n",
              "          google.colab.kernel.accessAllowed ? 'block' : 'none';\n",
              "\n",
              "        async function convertToInteractive(key) {\n",
              "          const element = document.querySelector('#df-10129a26-37a5-4783-93d8-35bda61ff8e6');\n",
              "          const dataTable =\n",
              "            await google.colab.kernel.invokeFunction('convertToInteractive',\n",
              "                                                     [key], {});\n",
              "          if (!dataTable) return;\n",
              "\n",
              "          const docLinkHtml = 'Like what you see? Visit the ' +\n",
              "            '<a target=\"_blank\" href=https://colab.research.google.com/notebooks/data_table.ipynb>data table notebook</a>'\n",
              "            + ' to learn more about interactive tables.';\n",
              "          element.innerHTML = '';\n",
              "          dataTable['output_type'] = 'display_data';\n",
              "          await google.colab.output.renderOutput(dataTable, element);\n",
              "          const docLink = document.createElement('div');\n",
              "          docLink.innerHTML = docLinkHtml;\n",
              "          element.appendChild(docLink);\n",
              "        }\n",
              "      </script>\n",
              "    </div>\n",
              "  </div>\n",
              "  "
            ]
          },
          "metadata": {},
          "execution_count": 3
        }
      ]
    },
    {
      "cell_type": "code",
      "source": [
        "## transforming the dataset\n",
        "df_comp = raw_csv_data.copy()\n",
        "df_comp.date = pd.to_datetime(df_comp.date, dayfirst=True)\n",
        "df_comp.set_index(\"date\", inplace=True)\n",
        "df_comp = df_comp.asfreq('b') # business days as frequency\n",
        "df_comp = df_comp.fillna(method='ffill')"
      ],
      "metadata": {
        "id": "pxZajZiKvvEU"
      },
      "execution_count": 4,
      "outputs": []
    },
    {
      "cell_type": "code",
      "source": [
        "df_comp['market_value'] = df_comp.ftse"
      ],
      "metadata": {
        "id": "bNK_4dj3v1UF"
      },
      "execution_count": 5,
      "outputs": []
    },
    {
      "cell_type": "code",
      "source": [
        "del df_comp['spx'], df_comp['dax'], df_comp['ftse'], df_comp['nikkei']"
      ],
      "metadata": {
        "id": "CGchyP1hwe4j"
      },
      "execution_count": 6,
      "outputs": []
    },
    {
      "cell_type": "markdown",
      "source": [
        "## Splitting the Training and Testing Set"
      ],
      "metadata": {
        "id": "MAG5MgIcw545"
      }
    },
    {
      "cell_type": "code",
      "source": [
        "size = int(len(df_comp) * 0.8)\n",
        "df, df_test = df_comp.iloc[:size], df_comp.iloc[size:]"
      ],
      "metadata": {
        "id": "JFb6sC_hxAr3"
      },
      "execution_count": 7,
      "outputs": []
    },
    {
      "cell_type": "markdown",
      "source": [
        "## The Dicky-Fuller Test"
      ],
      "metadata": {
        "id": "Bk9naxdPxGeP"
      }
    },
    {
      "cell_type": "code",
      "source": [
        "sts.adfuller(df.market_value)"
      ],
      "metadata": {
        "colab": {
          "base_uri": "https://localhost:8080/"
        },
        "id": "j95ZjwAcxvot",
        "outputId": "59d193c7-5afa-4540-e4e2-35cb3ed7b34d"
      },
      "execution_count": 8,
      "outputs": [
        {
          "output_type": "execute_result",
          "data": {
            "text/plain": [
              "(-1.9041551418836864,\n",
              " 0.33010893277028336,\n",
              " 6,\n",
              " 5014,\n",
              " {'1%': -3.4316548765428174,\n",
              "  '10%': -2.5670769326348926,\n",
              "  '5%': -2.8621166146845334},\n",
              " 54854.15304507557)"
            ]
          },
          "metadata": {},
          "execution_count": 8
        }
      ]
    },
    {
      "cell_type": "markdown",
      "source": [
        "## The ACF"
      ],
      "metadata": {
        "id": "E9B2DaeixwcY"
      }
    },
    {
      "cell_type": "code",
      "source": [
        "sgt.plot_acf(df.market_value, zero=False, lags=40)\n",
        "plt.title('ACF for Prices', size=24)\n",
        "plt.show()"
      ],
      "metadata": {
        "colab": {
          "base_uri": "https://localhost:8080/",
          "height": 293
        },
        "id": "544zC9Yrx5bH",
        "outputId": "216159fb-e4db-4259-9eee-e92f6c001cd2"
      },
      "execution_count": 9,
      "outputs": [
        {
          "output_type": "display_data",
          "data": {
            "text/plain": [
              "<Figure size 432x288 with 1 Axes>"
            ],
            "image/png": "[encoded data removed]"
          },
          "metadata": {
            "needs_background": "light"
          }
        }
      ]
    },
    {
      "cell_type": "markdown",
      "source": [
        "## The PACF"
      ],
      "metadata": {
        "id": "PuAKi2yHx6G1"
      }
    },
    {
      "cell_type": "code",
      "source": [
        "sgt.plot_pacf(df.market_value, zero=False, lags=40, alpha=0.5, method=('ols'))\n",
        "plt.title('PACF for Prices', size=24)\n",
        "plt.show()"
      ],
      "metadata": {
        "colab": {
          "base_uri": "https://localhost:8080/",
          "height": 0
        },
        "id": "U_9b29Wfx94Z",
        "outputId": "295620bf-64f6-4692-e7fe-ab2f76e26427"
      },
      "execution_count": 10,
      "outputs": [
        {
          "output_type": "display_data",
          "data": {
            "text/plain": [
              "<Figure size 432x288 with 1 Axes>"
            ],
            "image/png": "[encoded data removed]"
          },
          "metadata": {
            "needs_background": "light"
          }
        }
      ]
    },
    {
      "cell_type": "markdown",
      "source": [
        "## Using Returns\n",
        "\n",
        "returns -> the % change between the values for 2 consecutive periods."
      ],
      "metadata": {
        "id": "WL8H3HQGyCyj"
      }
    },
    {
      "cell_type": "code",
      "source": [
        "df['returns'] = df.market_value.pct_change(1).mul(100) ## mul 100 used to make it percentage"
      ],
      "metadata": {
        "colab": {
          "base_uri": "https://localhost:8080/"
        },
        "id": "95eqPZ2EyM1z",
        "outputId": "416f6a36-89bf-4a29-c186-3e5989c0cfce"
      },
      "execution_count": 11,
      "outputs": [
        {
          "output_type": "stream",
          "name": "stderr",
          "text": [
            "/usr/local/lib/python3.7/dist-packages/ipykernel_launcher.py:1: SettingWithCopyWarning: \n",
            "A value is trying to be set on a copy of a slice from a DataFrame.\n",
            "Try using .loc[row_indexer,col_indexer] = value instead\n",
            "\n",
            "See the caveats in the documentation: https://pandas.pydata.org/pandas-docs/stable/user_guide/indexing.html#returning-a-view-versus-a-copy\n",
            "  \"\"\"Entry point for launching an IPython kernel.\n"
          ]
        }
      ]
    },
    {
      "cell_type": "code",
      "source": [
        "df['returns']"
      ],
      "metadata": {
        "colab": {
          "base_uri": "https://localhost:8080/"
        },
        "id": "MVGA-7vSyaCD",
        "outputId": "57b80ad9-74d9-4c90-859f-b24754ee0553"
      },
      "execution_count": 12,
      "outputs": [
        {
          "output_type": "execute_result",
          "data": {
            "text/plain": [
              "date\n",
              "1994-01-07         NaN\n",
              "1994-01-10   -0.156704\n",
              "1994-01-11   -0.779229\n",
              "1994-01-12   -1.222988\n",
              "1994-01-13   -0.356166\n",
              "                ...   \n",
              "2013-04-01    0.000000\n",
              "2013-04-02    1.230867\n",
              "2013-04-03   -1.084327\n",
              "2013-04-04   -1.186397\n",
              "2013-04-05   -1.487049\n",
              "Freq: B, Name: returns, Length: 5021, dtype: float64"
            ]
          },
          "metadata": {},
          "execution_count": 12
        }
      ]
    },
    {
      "cell_type": "markdown",
      "source": [
        "Earlier in the AR model we removed the first column to avoid missing values in the **'returns'** column. This time we are not avoiding the first **date** column."
      ],
      "metadata": {
        "id": "GBtFFSSkykiC"
      }
    },
    {
      "cell_type": "markdown",
      "source": [
        "## MA(1) for Returns\n",
        "\n",
        "Here the change is going to be in the parameter **order**\n",
        "\n",
        "First component is for AR model : In this case it will be 0\n",
        "\n",
        "Second component is for MA model : In this case it will be 1"
      ],
      "metadata": {
        "id": "ACts25nKzEJ7"
      }
    },
    {
      "cell_type": "code",
      "source": [
        "model_ret_ma_1 = ARMA(df.returns[1:], order=(0,1))\n",
        "results_ret_ma_1 = model_ret_ma_1.fit()\n",
        "results_ret_ma_1.summary()"
      ],
      "metadata": {
        "id": "S8rUB55NzVS_",
        "colab": {
          "base_uri": "https://localhost:8080/",
          "height": 0
        },
        "outputId": "f1b141e1-9e86-4be8-d67f-e8868d26db26"
      },
      "execution_count": 13,
      "outputs": [
        {
          "output_type": "execute_result",
          "data": {
            "text/plain": [
              "<class 'statsmodels.iolib.summary.Summary'>\n",
              "\"\"\"\n",
              "                              ARMA Model Results                              \n",
              "==============================================================================\n",
              "Dep. Variable:                returns   No. Observations:                 5020\n",
              "Model:                     ARMA(0, 1)   Log Likelihood               -7929.595\n",
              "Method:                       css-mle   S.D. of innovations              1.174\n",
              "Date:                Sat, 30 Jul 2022   AIC                          15865.190\n",
              "Time:                        13:04:31   BIC                          15884.754\n",
              "Sample:                    01-10-1994   HQIC                         15872.045\n",
              "                         - 04-05-2013                                         \n",
              "=================================================================================\n",
              "                    coef    std err          z      P>|z|      [0.025      0.975]\n",
              "---------------------------------------------------------------------------------\n",
              "const             0.0188      0.016      1.162      0.245      -0.013       0.050\n",
              "ma.L1.returns    -0.0257      0.015     -1.720      0.086      -0.055       0.004\n",
              "                                    Roots                                    \n",
              "=============================================================================\n",
              "                  Real          Imaginary           Modulus         Frequency\n",
              "-----------------------------------------------------------------------------\n",
              "MA.1           38.8550           +0.0000j           38.8550            0.0000\n",
              "-----------------------------------------------------------------------------\n",
              "\"\"\""
            ],
            "text/html": [
              "<table class=\"simpletable\">\n",
              "<caption>ARMA Model Results</caption>\n",
              "<tr>\n",
              "  <th>Dep. Variable:</th>      <td>returns</td>     <th>  No. Observations:  </th>   <td>5020</td>   \n",
              "</tr>\n",
              "<tr>\n",
              "  <th>Model:</th>            <td>ARMA(0, 1)</td>    <th>  Log Likelihood     </th> <td>-7929.595</td>\n",
              "</tr>\n",
              "<tr>\n",
              "  <th>Method:</th>             <td>css-mle</td>     <th>  S.D. of innovations</th>   <td>1.174</td>  \n",
              "</tr>\n",
              "<tr>\n",
              "  <th>Date:</th>          <td>Sat, 30 Jul 2022</td> <th>  AIC                </th> <td>15865.190</td>\n",
              "</tr>\n",
              "<tr>\n",
              "  <th>Time:</th>              <td>13:04:31</td>     <th>  BIC                </th> <td>15884.754</td>\n",
              "</tr>\n",
              "<tr>\n",
              "  <th>Sample:</th>           <td>01-10-1994</td>    <th>  HQIC               </th> <td>15872.045</td>\n",
              "</tr>\n",
              "<tr>\n",
              "  <th></th>                 <td>- 04-05-2013</td>   <th>                     </th>     <td> </td>    \n",
              "</tr>\n",
              "</table>\n",
              "<table class=\"simpletable\">\n",
              "<tr>\n",
              "        <td></td>           <th>coef</th>     <th>std err</th>      <th>z</th>      <th>P>|z|</th>  <th>[0.025</th>    <th>0.975]</th>  \n",
              "</tr>\n",
              "<tr>\n",
              "  <th>const</th>         <td>    0.0188</td> <td>    0.016</td> <td>    1.162</td> <td> 0.245</td> <td>   -0.013</td> <td>    0.050</td>\n",
              "</tr>\n",
              "<tr>\n",
              "  <th>ma.L1.returns</th> <td>   -0.0257</td> <td>    0.015</td> <td>   -1.720</td> <td> 0.086</td> <td>   -0.055</td> <td>    0.004</td>\n",
              "</tr>\n",
              "</table>\n",
              "<table class=\"simpletable\">\n",
              "<caption>Roots</caption>\n",
              "<tr>\n",
              "    <td></td>   <th>            Real</th>  <th>         Imaginary</th> <th>         Modulus</th>  <th>        Frequency</th>\n",
              "</tr>\n",
              "<tr>\n",
              "  <th>MA.1</th> <td>          38.8550</td> <td>          +0.0000j</td> <td>          38.8550</td> <td>           0.0000</td>\n",
              "</tr>\n",
              "</table>"
            ]
          },
          "metadata": {},
          "execution_count": 13
        }
      ]
    },
    {
      "cell_type": "markdown",
      "source": [
        "## Higher Lag MA Models for Returns"
      ],
      "metadata": {
        "id": "96m0pa1408Oy"
      }
    },
    {
      "cell_type": "code",
      "source": [
        "model_ret_ma_2 = ARMA(df.returns[1:], order=(0,2))\n",
        "results_ret_ma_2 = model_ret_ma_2.fit()\n",
        "print(results_ret_ma_2.summary())"
      ],
      "metadata": {
        "id": "Fp4CKzT72DcP",
        "outputId": "ddcba770-1753-4d79-a3da-9e357b3617f3",
        "colab": {
          "base_uri": "https://localhost:8080/"
        }
      },
      "execution_count": 14,
      "outputs": [
        {
          "output_type": "stream",
          "name": "stdout",
          "text": [
            "                              ARMA Model Results                              \n",
            "==============================================================================\n",
            "Dep. Variable:                returns   No. Observations:                 5020\n",
            "Model:                     ARMA(0, 2)   Log Likelihood               -7922.864\n",
            "Method:                       css-mle   S.D. of innovations              1.173\n",
            "Date:                Sat, 30 Jul 2022   AIC                          15853.728\n",
            "Time:                        13:04:31   BIC                          15879.812\n",
            "Sample:                    01-10-1994   HQIC                         15862.868\n",
            "                         - 04-05-2013                                         \n",
            "=================================================================================\n",
            "                    coef    std err          z      P>|z|      [0.025      0.975]\n",
            "---------------------------------------------------------------------------------\n",
            "const             0.0188      0.015      1.239      0.215      -0.011       0.049\n",
            "ma.L1.returns    -0.0327      0.014     -2.297      0.022      -0.061      -0.005\n",
            "ma.L2.returns    -0.0502      0.014     -3.669      0.000      -0.077      -0.023\n",
            "                                    Roots                                    \n",
            "=============================================================================\n",
            "                  Real          Imaginary           Modulus         Frequency\n",
            "-----------------------------------------------------------------------------\n",
            "MA.1            4.1499           +0.0000j            4.1499            0.0000\n",
            "MA.2           -4.8004           +0.0000j            4.8004            0.5000\n",
            "-----------------------------------------------------------------------------\n"
          ]
        }
      ]
    },
    {
      "cell_type": "markdown",
      "source": [
        "## The Log-Likelihood test"
      ],
      "metadata": {
        "id": "Thc9t92_2bqu"
      }
    },
    {
      "cell_type": "code",
      "source": [
        "def llr_test(mod_1, mod_2, DF=1):\n",
        "   \"\"\" mod_1, mod_2= models to compare, df=degrees of freedom\"\"\"\n",
        "   L1 = mod_1.fit(trend='ct').llf ## Add trend='ct'\n",
        "   L2 = mod_2.fit(trend='ct').llf ## log likelihood\n",
        "   LR = (2*(L2-L1)) ## test statistics\n",
        "   p = chi2.sf(LR, DF).round(3) ## p-value\n",
        "   return p"
      ],
      "metadata": {
        "id": "jGU3ZUgT3EN2"
      },
      "execution_count": 15,
      "outputs": []
    },
    {
      "cell_type": "markdown",
      "source": [
        "## Compare the Log-Likelihood of the both models"
      ],
      "metadata": {
        "id": "4gQ5-a9p3Fen"
      }
    },
    {
      "cell_type": "code",
      "source": [
        "print('\\n LLR test p-value = ' + str(llr_test(model_ret_ma_1, model_ret_ma_2)))"
      ],
      "metadata": {
        "id": "ChLmrZld3VLV",
        "outputId": "354c5a8f-608f-4ac6-ad67-7b443432df94",
        "colab": {
          "base_uri": "https://localhost:8080/"
        }
      },
      "execution_count": 16,
      "outputs": [
        {
          "output_type": "stream",
          "name": "stdout",
          "text": [
            "\n",
            " LLR test p-value = 0.0\n"
          ]
        }
      ]
    },
    {
      "cell_type": "code",
      "source": [
        "model_ret_ma_3 = ARMA(df.returns[1:], order=(0,3))\n",
        "results_ret_ma_3 = model_ret_ma_3.fit()\n",
        "print(results_ret_ma_3.summary())\n",
        "print('\\n LLR test p-value = ' + str(llr_test(model_ret_ma_2, model_ret_ma_3)))"
      ],
      "metadata": {
        "id": "zBfqPV643oyo",
        "colab": {
          "base_uri": "https://localhost:8080/"
        },
        "outputId": "2ad3c07d-9885-49db-9526-d917e811dd9c"
      },
      "execution_count": 17,
      "outputs": [
        {
          "output_type": "stream",
          "name": "stdout",
          "text": [
            "                              ARMA Model Results                              \n",
            "==============================================================================\n",
            "Dep. Variable:                returns   No. Observations:                 5020\n",
            "Model:                     ARMA(0, 3)   Log Likelihood               -7904.317\n",
            "Method:                       css-mle   S.D. of innovations              1.168\n",
            "Date:                Sat, 30 Jul 2022   AIC                          15818.634\n",
            "Time:                        13:04:32   BIC                          15851.240\n",
            "Sample:                    01-10-1994   HQIC                         15830.060\n",
            "                         - 04-05-2013                                         \n",
            "=================================================================================\n",
            "                    coef    std err          z      P>|z|      [0.025      0.975]\n",
            "---------------------------------------------------------------------------------\n",
            "const             0.0189      0.014      1.376      0.169      -0.008       0.046\n",
            "ma.L1.returns    -0.0203      0.014     -1.423      0.155      -0.048       0.008\n",
            "ma.L2.returns    -0.0556      0.013     -4.134      0.000      -0.082      -0.029\n",
            "ma.L3.returns    -0.0904      0.015     -6.121      0.000      -0.119      -0.061\n",
            "                                    Roots                                    \n",
            "=============================================================================\n",
            "                  Real          Imaginary           Modulus         Frequency\n",
            "-----------------------------------------------------------------------------\n",
            "MA.1            2.0105           -0.0000j            2.0105           -0.0000\n",
            "MA.2           -1.3129           -1.9441j            2.3459           -0.3445\n",
            "MA.3           -1.3129           +1.9441j            2.3459            0.3445\n",
            "-----------------------------------------------------------------------------\n",
            "\n",
            " LLR test p-value = 0.0\n"
          ]
        }
      ]
    },
    {
      "cell_type": "markdown",
      "source": [
        "We see p-value from LLR test is 0(zero), which means that these lags are significant. And we continue increasing the lags and the complexity till lag 7 where the p-value changes"
      ],
      "metadata": {
        "id": "lwyb4L1t8dFK"
      }
    },
    {
      "cell_type": "code",
      "source": [
        "model_ret_ma_4 = ARMA(df.returns[1:], order=(0,4))\n",
        "results_ret_ma_4 = model_ret_ma_4.fit()\n",
        "print(results_ret_ma_4.summary())\n",
        "print('\\n LLR test p-value = ' + str(llr_test(model_ret_ma_3, model_ret_ma_4)))"
      ],
      "metadata": {
        "colab": {
          "base_uri": "https://localhost:8080/"
        },
        "id": "EW3St84V9RqA",
        "outputId": "d1c61c2b-3c5e-45c0-e947-a453e860974f"
      },
      "execution_count": 18,
      "outputs": [
        {
          "output_type": "stream",
          "name": "stdout",
          "text": [
            "                              ARMA Model Results                              \n",
            "==============================================================================\n",
            "Dep. Variable:                returns   No. Observations:                 5020\n",
            "Model:                     ARMA(0, 4)   Log Likelihood               -7898.773\n",
            "Method:                       css-mle   S.D. of innovations              1.167\n",
            "Date:                Sat, 30 Jul 2022   AIC                          15809.547\n",
            "Time:                        13:04:32   BIC                          15848.674\n",
            "Sample:                    01-10-1994   HQIC                         15823.257\n",
            "                         - 04-05-2013                                         \n",
            "=================================================================================\n",
            "                    coef    std err          z      P>|z|      [0.025      0.975]\n",
            "---------------------------------------------------------------------------------\n",
            "const             0.0189      0.014      1.305      0.192      -0.009       0.047\n",
            "ma.L1.returns    -0.0203      0.014     -1.443      0.149      -0.048       0.007\n",
            "ma.L2.returns    -0.0551      0.014     -3.902      0.000      -0.083      -0.027\n",
            "ma.L3.returns    -0.0922      0.015     -6.306      0.000      -0.121      -0.064\n",
            "ma.L4.returns     0.0454      0.014      3.338      0.001       0.019       0.072\n",
            "                                    Roots                                    \n",
            "=============================================================================\n",
            "                  Real          Imaginary           Modulus         Frequency\n",
            "-----------------------------------------------------------------------------\n",
            "MA.1           -1.2257           -1.4206j            1.8763           -0.3633\n",
            "MA.2           -1.2257           +1.4206j            1.8763            0.3633\n",
            "MA.3            2.2405           -1.1103j            2.5006           -0.0732\n",
            "MA.4            2.2405           +1.1103j            2.5006            0.0732\n",
            "-----------------------------------------------------------------------------\n",
            "\n",
            " LLR test p-value = 0.001\n"
          ]
        }
      ]
    },
    {
      "cell_type": "code",
      "source": [
        "model_ret_ma_5 = ARMA(df.returns[1:], order=(0,5))\n",
        "results_ret_ma_5 = model_ret_ma_5.fit()\n",
        "print(results_ret_ma_5.summary())\n",
        "print('\\n LLR test p-value = ' + str(llr_test(model_ret_ma_4, model_ret_ma_5)))"
      ],
      "metadata": {
        "colab": {
          "base_uri": "https://localhost:8080/"
        },
        "id": "E2UEDHMk9eLa",
        "outputId": "d8d6d523-0b32-4d57-c1ca-8f3a201b3c8c"
      },
      "execution_count": 19,
      "outputs": [
        {
          "output_type": "stream",
          "name": "stdout",
          "text": [
            "                              ARMA Model Results                              \n",
            "==============================================================================\n",
            "Dep. Variable:                returns   No. Observations:                 5020\n",
            "Model:                     ARMA(0, 5)   Log Likelihood               -7892.823\n",
            "Method:                       css-mle   S.D. of innovations              1.166\n",
            "Date:                Sat, 30 Jul 2022   AIC                          15799.645\n",
            "Time:                        13:04:33   BIC                          15845.294\n",
            "Sample:                    01-10-1994   HQIC                         15815.641\n",
            "                         - 04-05-2013                                         \n",
            "=================================================================================\n",
            "                    coef    std err          z      P>|z|      [0.025      0.975]\n",
            "---------------------------------------------------------------------------------\n",
            "const             0.0189      0.014      1.376      0.169      -0.008       0.046\n",
            "ma.L1.returns    -0.0262      0.014     -1.851      0.064      -0.054       0.002\n",
            "ma.L2.returns    -0.0497      0.014     -3.518      0.000      -0.077      -0.022\n",
            "ma.L3.returns    -0.0852      0.015     -5.799      0.000      -0.114      -0.056\n",
            "ma.L4.returns     0.0458      0.014      3.374      0.001       0.019       0.072\n",
            "ma.L5.returns    -0.0500      0.014     -3.454      0.001      -0.078      -0.022\n",
            "                                    Roots                                    \n",
            "=============================================================================\n",
            "                  Real          Imaginary           Modulus         Frequency\n",
            "-----------------------------------------------------------------------------\n",
            "MA.1           -1.2127           -1.0805j            1.6242           -0.3842\n",
            "MA.2           -1.2127           +1.0805j            1.6242            0.3842\n",
            "MA.3            1.7305           -0.0000j            1.7305           -0.0000\n",
            "MA.4            0.8062           -1.9326j            2.0940           -0.1871\n",
            "MA.5            0.8062           +1.9326j            2.0940            0.1871\n",
            "-----------------------------------------------------------------------------\n",
            "\n",
            " LLR test p-value = 0.001\n"
          ]
        }
      ]
    },
    {
      "cell_type": "code",
      "source": [
        "model_ret_ma_6 = ARMA(df.returns[1:], order=(0,6))\n",
        "results_ret_ma_6 = model_ret_ma_6.fit()\n",
        "print(results_ret_ma_6.summary())\n",
        "print('\\n LLR test p-value = ' + str(llr_test(model_ret_ma_5, model_ret_ma_6)))"
      ],
      "metadata": {
        "colab": {
          "base_uri": "https://localhost:8080/"
        },
        "id": "gkFDKOh299IH",
        "outputId": "89c1ea3e-f313-4439-9a30-f0e56852ac22"
      },
      "execution_count": 20,
      "outputs": [
        {
          "output_type": "stream",
          "name": "stdout",
          "text": [
            "                              ARMA Model Results                              \n",
            "==============================================================================\n",
            "Dep. Variable:                returns   No. Observations:                 5020\n",
            "Model:                     ARMA(0, 6)   Log Likelihood               -7889.221\n",
            "Method:                       css-mle   S.D. of innovations              1.165\n",
            "Date:                Sat, 30 Jul 2022   AIC                          15794.442\n",
            "Time:                        13:04:35   BIC                          15846.612\n",
            "Sample:                    01-10-1994   HQIC                         15812.723\n",
            "                         - 04-05-2013                                         \n",
            "=================================================================================\n",
            "                    coef    std err          z      P>|z|      [0.025      0.975]\n",
            "---------------------------------------------------------------------------------\n",
            "const             0.0189      0.013      1.430      0.153      -0.007       0.045\n",
            "ma.L1.returns    -0.0237      0.014     -1.682      0.093      -0.051       0.004\n",
            "ma.L2.returns    -0.0486      0.014     -3.436      0.001      -0.076      -0.021\n",
            "ma.L3.returns    -0.0827      0.014     -5.846      0.000      -0.110      -0.055\n",
            "ma.L4.returns     0.0466      0.014      3.434      0.001       0.020       0.073\n",
            "ma.L5.returns    -0.0484      0.014     -3.371      0.001      -0.077      -0.020\n",
            "ma.L6.returns    -0.0387      0.014     -2.682      0.007      -0.067      -0.010\n",
            "                                    Roots                                    \n",
            "=============================================================================\n",
            "                  Real          Imaginary           Modulus         Frequency\n",
            "-----------------------------------------------------------------------------\n",
            "MA.1            1.5011           -0.0000j            1.5011           -0.0000\n",
            "MA.2            0.8248           -1.4775j            1.6921           -0.1690\n",
            "MA.3            0.8248           +1.4775j            1.6921            0.1690\n",
            "MA.4           -1.0066           -1.2260j            1.5863           -0.3594\n",
            "MA.5           -1.0066           +1.2260j            1.5863            0.3594\n",
            "MA.6           -2.3891           -0.0000j            2.3891           -0.5000\n",
            "-----------------------------------------------------------------------------\n",
            "\n",
            " LLR test p-value = 0.007\n"
          ]
        }
      ]
    },
    {
      "cell_type": "code",
      "source": [
        "model_ret_ma_7 = ARMA(df.returns[1:], order=(0,7))\n",
        "results_ret_ma_7 = model_ret_ma_7.fit()\n",
        "print(results_ret_ma_7.summary())\n",
        "print('\\n LLR test p-value = ' + str(llr_test(model_ret_ma_6, model_ret_ma_7)))"
      ],
      "metadata": {
        "colab": {
          "base_uri": "https://localhost:8080/"
        },
        "id": "Ingzj22j-JmR",
        "outputId": "b29c53f1-d876-46e0-c1fe-4ce365e53869"
      },
      "execution_count": 21,
      "outputs": [
        {
          "output_type": "stream",
          "name": "stdout",
          "text": [
            "                              ARMA Model Results                              \n",
            "==============================================================================\n",
            "Dep. Variable:                returns   No. Observations:                 5020\n",
            "Model:                     ARMA(0, 7)   Log Likelihood               -7889.046\n",
            "Method:                       css-mle   S.D. of innovations              1.165\n",
            "Date:                Sat, 30 Jul 2022   AIC                          15796.091\n",
            "Time:                        13:04:37   BIC                          15854.782\n",
            "Sample:                    01-10-1994   HQIC                         15816.657\n",
            "                         - 04-05-2013                                         \n",
            "=================================================================================\n",
            "                    coef    std err          z      P>|z|      [0.025      0.975]\n",
            "---------------------------------------------------------------------------------\n",
            "const             0.0189      0.013      1.418      0.156      -0.007       0.045\n",
            "ma.L1.returns    -0.0247      0.014     -1.739      0.082      -0.052       0.003\n",
            "ma.L2.returns    -0.0488      0.014     -3.454      0.001      -0.077      -0.021\n",
            "ma.L3.returns    -0.0821      0.014     -5.789      0.000      -0.110      -0.054\n",
            "ma.L4.returns     0.0458      0.014      3.360      0.001       0.019       0.073\n",
            "ma.L5.returns    -0.0486      0.014     -3.381      0.001      -0.077      -0.020\n",
            "ma.L6.returns    -0.0390      0.014     -2.702      0.007      -0.067      -0.011\n",
            "ma.L7.returns     0.0085      0.014      0.592      0.554      -0.020       0.037\n",
            "                                    Roots                                    \n",
            "=============================================================================\n",
            "                  Real          Imaginary           Modulus         Frequency\n",
            "-----------------------------------------------------------------------------\n",
            "MA.1           -0.9690           -1.1814j            1.5279           -0.3593\n",
            "MA.2           -0.9690           +1.1814j            1.5279            0.3593\n",
            "MA.3           -2.0397           -0.0000j            2.0397           -0.5000\n",
            "MA.4            0.7516           -1.5246j            1.6998           -0.1771\n",
            "MA.5            0.7516           +1.5246j            1.6998            0.1771\n",
            "MA.6            1.5538           -0.0000j            1.5538           -0.0000\n",
            "MA.7            5.5175           -0.0000j            5.5175           -0.0000\n",
            "-----------------------------------------------------------------------------\n",
            "\n",
            " LLR test p-value = 0.554\n"
          ]
        }
      ]
    },
    {
      "cell_type": "markdown",
      "source": [
        "In the 7th model the LLR test fails to reject the Null Hypothesis.\n",
        "\n",
        "However, in the ACF for returns we have seen that 7th model is not significant BUT we need to be troroug and see the LLR test of the 8th model to confirm."
      ],
      "metadata": {
        "id": "byvxOdZg-RLH"
      }
    },
    {
      "cell_type": "code",
      "source": [
        "model_ret_ma_8 = ARMA(df.returns[1:], order=(0,8))\n",
        "results_ret_ma_8 = model_ret_ma_8.fit()\n",
        "print(results_ret_ma_8.summary())\n",
        "print('\\n LLR test p-value = ' + str(llr_test(model_ret_ma_7, model_ret_ma_8)))"
      ],
      "metadata": {
        "colab": {
          "base_uri": "https://localhost:8080/"
        },
        "id": "Hnh134y6-aJq",
        "outputId": "b85faf5b-2f21-4e1e-8464-9d321653e281"
      },
      "execution_count": 22,
      "outputs": [
        {
          "output_type": "stream",
          "name": "stdout",
          "text": [
            "                              ARMA Model Results                              \n",
            "==============================================================================\n",
            "Dep. Variable:                returns   No. Observations:                 5020\n",
            "Model:                     ARMA(0, 8)   Log Likelihood               -7885.603\n",
            "Method:                       css-mle   S.D. of innovations              1.164\n",
            "Date:                Sat, 30 Jul 2022   AIC                          15791.205\n",
            "Time:                        13:04:41   BIC                          15856.417\n",
            "Sample:                    01-10-1994   HQIC                         15814.056\n",
            "                         - 04-05-2013                                         \n",
            "=================================================================================\n",
            "                    coef    std err          z      P>|z|      [0.025      0.975]\n",
            "---------------------------------------------------------------------------------\n",
            "const             0.0189      0.014      1.364      0.173      -0.008       0.046\n",
            "ma.L1.returns    -0.0238      0.014     -1.688      0.091      -0.051       0.004\n",
            "ma.L2.returns    -0.0495      0.014     -3.514      0.000      -0.077      -0.022\n",
            "ma.L3.returns    -0.0847      0.014     -5.993      0.000      -0.112      -0.057\n",
            "ma.L4.returns     0.0488      0.014      3.440      0.001       0.021       0.077\n",
            "ma.L5.returns    -0.0518      0.014     -3.634      0.000      -0.080      -0.024\n",
            "ma.L6.returns    -0.0402      0.014     -2.787      0.005      -0.068      -0.012\n",
            "ma.L7.returns     0.0084      0.014      0.587      0.557      -0.020       0.036\n",
            "ma.L8.returns     0.0366      0.014      2.626      0.009       0.009       0.064\n",
            "                                    Roots                                    \n",
            "=============================================================================\n",
            "                  Real          Imaginary           Modulus         Frequency\n",
            "-----------------------------------------------------------------------------\n",
            "MA.1            1.4716           -0.4282j            1.5326           -0.0451\n",
            "MA.2            1.4716           +0.4282j            1.5326            0.0451\n",
            "MA.3            0.5944           -1.3169j            1.4448           -0.1825\n",
            "MA.4            0.5944           +1.3169j            1.4448            0.1825\n",
            "MA.5           -0.7318           -1.2736j            1.4689           -0.3330\n",
            "MA.6           -0.7318           +1.2736j            1.4689            0.3330\n",
            "MA.7           -1.4485           -0.6983j            1.6081           -0.4285\n",
            "MA.8           -1.4485           +0.6983j            1.6081            0.4285\n",
            "-----------------------------------------------------------------------------\n",
            "\n",
            " LLR test p-value = 0.009\n"
          ]
        }
      ]
    },
    {
      "cell_type": "markdown",
      "source": [
        "Now we have seen that MA(8) is better than MA(7). Now we have to determine whether we should proceed with the MA(8) which gives better result than MA(7) or should we keep it simple with MA(6) model.\n",
        "\n",
        "For this we need to do a **LLR test** on MA(8) and MA(6) models."
      ],
      "metadata": {
        "id": "t7deoziY_OlG"
      }
    },
    {
      "cell_type": "code",
      "source": [
        "llr_test(model_ret_ma_6, model_ret_ma_8, DF=2)"
      ],
      "metadata": {
        "colab": {
          "base_uri": "https://localhost:8080/"
        },
        "id": "df1FwWQ9BKCk",
        "outputId": "7f3d9151-6439-4dfb-aae9-aa8752c9b767"
      },
      "execution_count": 23,
      "outputs": [
        {
          "output_type": "execute_result",
          "data": {
            "text/plain": [
              "0.027"
            ]
          },
          "metadata": {},
          "execution_count": 23
        }
      ]
    },
    {
      "cell_type": "markdown",
      "source": [
        "In the above LLR test we have included the **DF(Degree of Freedom)** because we need to estimate the coefficients for 8 variables in the complicated model (MA(8)) which is 2 more than the 6 from the simpler model(MA(6)).\n",
        "\n",
        "The outcome is **0.027** which is lesser than the significance level **0.05(5%)** which concludes that the complicated model is better than the simple one."
      ],
      "metadata": {
        "id": "xjW1wuBvBRX3"
      }
    },
    {
      "cell_type": "markdown",
      "source": [
        "## Residuals for Returns"
      ],
      "metadata": {
        "id": "0HXLn0NjCt9q"
      }
    },
    {
      "cell_type": "code",
      "source": [
        "df['res_ret_ma_8'] = results_ret_ma_8.resid[1:]"
      ],
      "metadata": {
        "id": "e6S0iLGfw_dI",
        "outputId": "7955b2bd-b019-4838-9a0f-6262eb6c4923",
        "colab": {
          "base_uri": "https://localhost:8080/"
        }
      },
      "execution_count": 24,
      "outputs": [
        {
          "output_type": "stream",
          "name": "stderr",
          "text": [
            "/usr/local/lib/python3.7/dist-packages/ipykernel_launcher.py:1: SettingWithCopyWarning: \n",
            "A value is trying to be set on a copy of a slice from a DataFrame.\n",
            "Try using .loc[row_indexer,col_indexer] = value instead\n",
            "\n",
            "See the caveats in the documentation: https://pandas.pydata.org/pandas-docs/stable/user_guide/indexing.html#returning-a-view-versus-a-copy\n",
            "  \"\"\"Entry point for launching an IPython kernel.\n"
          ]
        }
      ]
    },
    {
      "cell_type": "code",
      "source": [
        "print('The mean of the residual is ' + str(round(df.res_ret_ma_8.mean(),3)) + '\\nThe variance of the residual is ' + str(round(df.res_ret_ma_8.var(),3))) \n"
      ],
      "metadata": {
        "id": "fYBzfqFWyE9b",
        "outputId": "8ce35a6f-ffd9-463f-f08b-d89e3bb4a0d0",
        "colab": {
          "base_uri": "https://localhost:8080/"
        }
      },
      "execution_count": 25,
      "outputs": [
        {
          "output_type": "stream",
          "name": "stdout",
          "text": [
            "The mean of the residual is -0.0\n",
            "The variance of the residual is 1.356\n"
          ]
        }
      ]
    },
    {
      "cell_type": "code",
      "source": [
        "import math"
      ],
      "metadata": {
        "id": "7O7i6iTU0Sr1"
      },
      "execution_count": 26,
      "outputs": []
    },
    {
      "cell_type": "code",
      "source": [
        "standard_deviation = round(math.sqrt(df.res_ret_ma_8.var()),3)\n",
        "standard_deviation"
      ],
      "metadata": {
        "id": "jaDkQN4ryO1A",
        "outputId": "26f300ca-85cc-4563-bcdf-9687e64ffa5c",
        "colab": {
          "base_uri": "https://localhost:8080/"
        }
      },
      "execution_count": 27,
      "outputs": [
        {
          "output_type": "execute_result",
          "data": {
            "text/plain": [
              "1.164"
            ]
          },
          "metadata": {},
          "execution_count": 27
        }
      ]
    },
    {
      "cell_type": "markdown",
      "source": [
        "**Gaussian White Noise** implies **Normality**. So we can use **Empirical Rule** (68-95-99.7 rule).\n",
        "\n",
        "3 standard deviation (3.5 = 3 * 1.164) in either direction"
      ],
      "metadata": {
        "id": "c9Lt6xBC0GJJ"
      }
    },
    {
      "cell_type": "code",
      "source": [
        "df.res_ret_ma_8[1:].plot(figsize=(20,5))\n",
        "plt.title(\"Residuals of Returns\", size=24)\n",
        "plt.show()"
      ],
      "metadata": {
        "id": "KfjhaLsf1dEU",
        "colab": {
          "base_uri": "https://localhost:8080/",
          "height": 0
        },
        "outputId": "1bebfb55-2f95-405d-d3ce-ad11bfe94baa"
      },
      "execution_count": 28,
      "outputs": [
        {
          "output_type": "display_data",
          "data": {
            "text/plain": [
              "<Figure size 1440x360 with 1 Axes>"
            ],
            "image/png": "[encoded data removed]"
          },
          "metadata": {
            "needs_background": "light"
          }
        }
      ]
    },
    {
      "cell_type": "markdown",
      "source": [
        "To check the **Residual** resembels **White Noise** we can check the **stationarity**. If it is **not** stationary, it cannot be considerd as White Noise."
      ],
      "metadata": {
        "id": "1063iE3XSuZ_"
      }
    },
    {
      "cell_type": "code",
      "source": [
        "sts.adfuller(df.res_ret_ma_8[2:])"
      ],
      "metadata": {
        "colab": {
          "base_uri": "https://localhost:8080/"
        },
        "id": "84SNeSs-ToSa",
        "outputId": "17d8d716-99bb-467d-a0ac-6ef368d29174"
      },
      "execution_count": 29,
      "outputs": [
        {
          "output_type": "execute_result",
          "data": {
            "text/plain": [
              "(-70.83581758521379,\n",
              " 0.0,\n",
              " 0,\n",
              " 5018,\n",
              " {'1%': -3.4316538358533277,\n",
              "  '10%': -2.567076687880585,\n",
              "  '5%': -2.8621161549128313},\n",
              " 15684.052184950395)"
            ]
          },
          "metadata": {},
          "execution_count": 29
        }
      ]
    },
    {
      "cell_type": "markdown",
      "source": [
        "In above test we see the p-value is 0(zero), that means it is stationary."
      ],
      "metadata": {
        "id": "Wqgx29-YT_hP"
      }
    },
    {
      "cell_type": "markdown",
      "source": [
        "## ACF Residuals for Returns"
      ],
      "metadata": {
        "id": "U-fghVYdUPW6"
      }
    },
    {
      "cell_type": "code",
      "source": [
        "sgt.plot_acf(df.res_ret_ma_8[2:], zero=False, lags=40)\n",
        "plt.title('ACF of Residuals for returns', size=24)\n",
        "plt.show()"
      ],
      "metadata": {
        "colab": {
          "base_uri": "https://localhost:8080/",
          "height": 293
        },
        "id": "Ypcxf5nneq-d",
        "outputId": "9ebb329a-9520-4ec3-df3d-9c382b4605aa"
      },
      "execution_count": 30,
      "outputs": [
        {
          "output_type": "display_data",
          "data": {
            "text/plain": [
              "<Figure size 432x288 with 1 Axes>"
            ],
            "image/png": "[encoded data removed]"
          },
          "metadata": {
            "needs_background": "light"
          }
        }
      ]
    },
    {
      "cell_type": "markdown",
      "source": [
        "## Normalized Returns"
      ],
      "metadata": {
        "id": "4UdW8KQFe1LW"
      }
    },
    {
      "cell_type": "code",
      "source": [
        "bench_ret = df.returns.iloc[1]\n",
        "df['norm_ret'] = df.returns.div(bench_ret).mul(100)"
      ],
      "metadata": {
        "colab": {
          "base_uri": "https://localhost:8080/"
        },
        "id": "rNy2HANYfr3i",
        "outputId": "dd7482a5-be22-48fa-d4dc-af40962d4d48"
      },
      "execution_count": 31,
      "outputs": [
        {
          "output_type": "stream",
          "name": "stderr",
          "text": [
            "/usr/local/lib/python3.7/dist-packages/ipykernel_launcher.py:2: SettingWithCopyWarning: \n",
            "A value is trying to be set on a copy of a slice from a DataFrame.\n",
            "Try using .loc[row_indexer,col_indexer] = value instead\n",
            "\n",
            "See the caveats in the documentation: https://pandas.pydata.org/pandas-docs/stable/user_guide/indexing.html#returning-a-view-versus-a-copy\n",
            "  \n"
          ]
        }
      ]
    },
    {
      "cell_type": "code",
      "source": [
        "sgt.plot_acf(df.norm_ret[1:], zero=False, lags=40)\n",
        "plt.title('ACF of Normalized Returns', size=24)\n",
        "plt.show()"
      ],
      "metadata": {
        "colab": {
          "base_uri": "https://localhost:8080/",
          "height": 293
        },
        "id": "e1UTUrGUg2Wz",
        "outputId": "ba81562b-7231-4584-f9d9-590cc188f698"
      },
      "execution_count": 32,
      "outputs": [
        {
          "output_type": "display_data",
          "data": {
            "text/plain": [
              "<Figure size 432x288 with 1 Axes>"
            ],
            "image/png": "[encoded data removed]"
          },
          "metadata": {
            "needs_background": "light"
          }
        }
      ]
    },
    {
      "cell_type": "code",
      "source": [
        "model_norm_ret_ma_8 = ARMA(df.norm_ret[1:], order=(0,8))\n",
        "results_norm_ret_ma_8 = model_norm_ret_ma_8.fit()\n",
        "print(results_norm_ret_ma_8.summary())"
      ],
      "metadata": {
        "colab": {
          "base_uri": "https://localhost:8080/"
        },
        "id": "M3JQQsh0hDf_",
        "outputId": "0e6bad7a-9bfe-4342-fae0-20ab18e3a437"
      },
      "execution_count": 33,
      "outputs": [
        {
          "output_type": "stream",
          "name": "stdout",
          "text": [
            "                              ARMA Model Results                              \n",
            "==============================================================================\n",
            "Dep. Variable:               norm_ret   No. Observations:                 5020\n",
            "Model:                     ARMA(0, 8)   Log Likelihood              -40307.597\n",
            "Method:                       css-mle   S.D. of innovations            742.822\n",
            "Date:                Sat, 30 Jul 2022   AIC                          80635.194\n",
            "Time:                        13:04:49   BIC                          80700.406\n",
            "Sample:                    01-10-1994   HQIC                         80658.045\n",
            "                         - 04-05-2013                                         \n",
            "==================================================================================\n",
            "                     coef    std err          z      P>|z|      [0.025      0.975]\n",
            "----------------------------------------------------------------------------------\n",
            "const            -11.9731      8.846     -1.354      0.176     -29.311       5.364\n",
            "ma.L1.norm_ret    -0.0238      0.014     -1.688      0.091      -0.051       0.004\n",
            "ma.L2.norm_ret    -0.0495      0.014     -3.514      0.000      -0.077      -0.022\n",
            "ma.L3.norm_ret    -0.0847      0.014     -5.993      0.000      -0.112      -0.057\n",
            "ma.L4.norm_ret     0.0488      0.014      3.440      0.001       0.021       0.077\n",
            "ma.L5.norm_ret    -0.0518      0.014     -3.634      0.000      -0.080      -0.024\n",
            "ma.L6.norm_ret    -0.0402      0.014     -2.787      0.005      -0.068      -0.012\n",
            "ma.L7.norm_ret     0.0084      0.014      0.587      0.557      -0.020       0.036\n",
            "ma.L8.norm_ret     0.0366      0.014      2.626      0.009       0.009       0.064\n",
            "                                    Roots                                    \n",
            "=============================================================================\n",
            "                  Real          Imaginary           Modulus         Frequency\n",
            "-----------------------------------------------------------------------------\n",
            "MA.1            1.4716           -0.4282j            1.5326           -0.0451\n",
            "MA.2            1.4716           +0.4282j            1.5326            0.0451\n",
            "MA.3            0.5944           -1.3169j            1.4448           -0.1825\n",
            "MA.4            0.5944           +1.3169j            1.4448            0.1825\n",
            "MA.5           -0.7318           -1.2736j            1.4689           -0.3330\n",
            "MA.6           -0.7318           +1.2736j            1.4689            0.3330\n",
            "MA.7           -1.4485           -0.6983j            1.6081           -0.4285\n",
            "MA.8           -1.4485           +0.6983j            1.6081            0.4285\n",
            "-----------------------------------------------------------------------------\n"
          ]
        }
      ]
    },
    {
      "cell_type": "code",
      "source": [
        "df['res_norm_ret_ma_8'] = results_ret_ma_8.resid[1:]"
      ],
      "metadata": {
        "id": "v7ZJz1wAh292",
        "colab": {
          "base_uri": "https://localhost:8080/"
        },
        "outputId": "f7198d27-dc9a-4ee6-92ab-bfb90e4eb1bc"
      },
      "execution_count": 34,
      "outputs": [
        {
          "output_type": "stream",
          "name": "stderr",
          "text": [
            "/usr/local/lib/python3.7/dist-packages/ipykernel_launcher.py:1: SettingWithCopyWarning: \n",
            "A value is trying to be set on a copy of a slice from a DataFrame.\n",
            "Try using .loc[row_indexer,col_indexer] = value instead\n",
            "\n",
            "See the caveats in the documentation: https://pandas.pydata.org/pandas-docs/stable/user_guide/indexing.html#returning-a-view-versus-a-copy\n",
            "  \"\"\"Entry point for launching an IPython kernel.\n"
          ]
        }
      ]
    },
    {
      "cell_type": "code",
      "source": [
        "df.res_norm_ret_ma_8[1:].plot(figsize=(20,5))\n",
        "plt.title(\"Residuals for Normalized Returns\", size=24)\n",
        "plt.show()"
      ],
      "metadata": {
        "colab": {
          "base_uri": "https://localhost:8080/",
          "height": 364
        },
        "id": "lODgeokBONXO",
        "outputId": "23ce18fb-107d-4efb-b735-9a8e325af2bb"
      },
      "execution_count": 35,
      "outputs": [
        {
          "output_type": "display_data",
          "data": {
            "text/plain": [
              "<Figure size 1440x360 with 1 Axes>"
            ],
            "image/png": "[encoded data removed]"
          },
          "metadata": {
            "needs_background": "light"
          }
        }
      ]
    },
    {
      "cell_type": "markdown",
      "source": [
        "## MA Models for Prices"
      ],
      "metadata": {
        "id": "YYAWQbIlOmnm"
      }
    },
    {
      "cell_type": "code",
      "source": [
        "model_ma_1 = ARMA(df.market_value, order=(0,1))\n",
        "results_ma_1 = model_ma_1.fit()\n",
        "print(results_ma_1.summary())"
      ],
      "metadata": {
        "colab": {
          "base_uri": "https://localhost:8080/"
        },
        "id": "no1U4KUbPJtK",
        "outputId": "904a6eb2-ae05-4da5-c965-2049353d0573"
      },
      "execution_count": 37,
      "outputs": [
        {
          "output_type": "stream",
          "name": "stdout",
          "text": [
            "                              ARMA Model Results                              \n",
            "==============================================================================\n",
            "Dep. Variable:           market_value   No. Observations:                 5021\n",
            "Model:                     ARMA(0, 1)   Log Likelihood              -38629.000\n",
            "Method:                       css-mle   S.D. of innovations            530.756\n",
            "Date:                Sat, 30 Jul 2022   AIC                          77264.000\n",
            "Time:                        13:22:34   BIC                          77283.564\n",
            "Sample:                    01-07-1994   HQIC                         77270.856\n",
            "                         - 04-05-2013                                         \n",
            "======================================================================================\n",
            "                         coef    std err          z      P>|z|      [0.025      0.975]\n",
            "--------------------------------------------------------------------------------------\n",
            "const               5089.6995     14.660    347.194      0.000    5060.967    5118.432\n",
            "ma.L1.market_value     0.9573      0.003    335.556      0.000       0.952       0.963\n",
            "                                    Roots                                    \n",
            "=============================================================================\n",
            "                  Real          Imaginary           Modulus         Frequency\n",
            "-----------------------------------------------------------------------------\n",
            "MA.1           -1.0446           +0.0000j            1.0446            0.5000\n",
            "-----------------------------------------------------------------------------\n"
          ]
        }
      ]
    },
    {
      "cell_type": "markdown",
      "source": [
        "MA models do not perform well for non-stationary data.\n",
        "\n",
        "MA models are great in modelling Random Walks because they take into accounts our mistakes.\n",
        "\n",
        "In order to do a decent job in modelling a non-stationary process, we need to consider previous period's values\n",
        "\n",
        "Some combination of AR and MA would be best."
      ],
      "metadata": {
        "id": "6-PxCgLWRZNr"
      }
    },
    {
      "cell_type": "code",
      "source": [
        ""
      ],
      "metadata": {
        "id": "WKCniPKiUBMm"
      },
      "execution_count": null,
      "outputs": []
    }
  ]
}
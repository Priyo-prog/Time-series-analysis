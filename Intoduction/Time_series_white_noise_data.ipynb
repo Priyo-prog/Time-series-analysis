{
  "nbformat": 4,
  "nbformat_minor": 0,
  "metadata": {
    "colab": {
      "name": "Time_series_white_noise_data.ipynb",
      "provenance": [],
      "authorship_tag": "ABX9TyPQT7LAd8MeVdLAhJjeB4tU",
      "include_colab_link": true
    },
    "kernelspec": {
      "name": "python3",
      "display_name": "Python 3"
    },
    "language_info": {
      "name": "python"
    }
  },
  "cells": [
    {
      "cell_type": "markdown",
      "metadata": {
        "id": "view-in-github",
        "colab_type": "text"
      },
      "source": [
        "<a href=\"https://colab.research.google.com/github/Priyo-prog/Time-series-analysis/blob/main/Intoduction/Time_series_white_noise_data.ipynb\" target=\"_parent\"><img src=\"https://colab.research.google.com/assets/colab-badge.svg\" alt=\"Open In Colab\"/></a>"
      ]
    },
    {
      "cell_type": "markdown",
      "source": [
        "# White Noise Data \n",
        "\n",
        "White noise is a special type of time-series where data doesn't follow a pattern."
      ],
      "metadata": {
        "id": "iKbtopEOhWNN"
      }
    },
    {
      "cell_type": "markdown",
      "source": [
        "## Import packages and libraries"
      ],
      "metadata": {
        "id": "ifdRp3wohxZJ"
      }
    },
    {
      "cell_type": "code",
      "source": [
        "import pandas as pd\n",
        "import numpy as np\n",
        "import matplotlib.pyplot as plt\n",
        "import statsmodels.graphics.tsaplots as sgt\n",
        "import statsmodels.tsa.stattools as sts\n",
        "from statsmodels.tsa.seasonal import seasonal_decompose\n",
        "import seaborn as sns\n",
        "sns.set()"
      ],
      "metadata": {
        "id": "HfF7N_Ech4j0"
      },
      "execution_count": 2,
      "outputs": []
    },
    {
      "cell_type": "markdown",
      "source": [
        "## Import the data"
      ],
      "metadata": {
        "id": "BfiVbVztiJ6L"
      }
    },
    {
      "cell_type": "code",
      "source": [
        ""
      ],
      "metadata": {
        "id": "rnI8PdSmjD4d"
      },
      "execution_count": null,
      "outputs": []
    }
  ]
}
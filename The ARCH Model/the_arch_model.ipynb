{
  "nbformat": 4,
  "nbformat_minor": 0,
  "metadata": {
    "colab": {
      "name": "the_arch_model.ipynb",
      "provenance": [],
      "authorship_tag": "ABX9TyN4O6b+wdBkO6XwHsLyAiGj",
      "include_colab_link": true
    },
    "kernelspec": {
      "name": "python3",
      "display_name": "Python 3"
    },
    "language_info": {
      "name": "python"
    }
  },
  "cells": [
    {
      "cell_type": "markdown",
      "metadata": {
        "id": "view-in-github",
        "colab_type": "text"
      },
      "source": [
        "<a href=\"https://colab.research.google.com/github/Priyo-prog/Time-series-analysis/blob/main/The%20ARCH%20Model/the_arch_model.ipynb\" target=\"_parent\"><img src=\"https://colab.research.google.com/assets/colab-badge.svg\" alt=\"Open In Colab\"/></a>"
      ]
    },
    {
      "cell_type": "markdown",
      "source": [
        "# **The ARCH Model**\n",
        "\n",
        "The Auto-Regressive Conditional Heteroskedasticity model explains the suddens shocks in the time-series."
      ],
      "metadata": {
        "id": "007iw0uek9f1"
      }
    },
    {
      "cell_type": "markdown",
      "source": [
        "## Important Libraries and Packages"
      ],
      "metadata": {
        "id": "ak_RSgyblcqQ"
      }
    },
    {
      "cell_type": "code",
      "source": [
        "import pandas as pd\n",
        "import numpy as np\n",
        "import matplotlib.pyplot as plt\n",
        "import statsmodels.graphics.tsaplots as sgt\n",
        "import statsmodels.tsa.stattools as sts\n",
        "from statsmodels.tsa.seasonal import seasonal_decompose\n",
        "from statsmodels.tsa.arima_model import ARMA\n",
        "from statsmodels.tsa.arima_model import ARIMA # new special package for ARIMA models\n",
        "from scipy.stats.distributions import chi2\n",
        "import seaborn as sns\n",
        "sns.set()"
      ],
      "metadata": {
        "id": "VpSLbCY0ll43",
        "outputId": "2cf801c7-ee48-4a59-a172-2e593582b5bf",
        "colab": {
          "base_uri": "https://localhost:8080/"
        }
      },
      "execution_count": 1,
      "outputs": [
        {
          "output_type": "stream",
          "name": "stderr",
          "text": [
            "/usr/local/lib/python3.7/dist-packages/statsmodels/tools/_testing.py:19: FutureWarning: pandas.util.testing is deprecated. Use the functions in the public API at pandas.testing instead.\n",
            "  import pandas.util.testing as tm\n"
          ]
        }
      ]
    },
    {
      "cell_type": "markdown",
      "source": [
        "## Import the Data"
      ],
      "metadata": {
        "id": "xbxpcAkzlmhY"
      }
    },
    {
      "cell_type": "code",
      "source": [
        "## mount the google drive to fetch the data\n",
        "from google.colab import drive\n",
        "drive.mount('/content/drive')"
      ],
      "metadata": {
        "colab": {
          "base_uri": "https://localhost:8080/"
        },
        "id": "VluMohyklq81",
        "outputId": "4f8e8784-153d-4883-af6c-234c770224b1"
      },
      "execution_count": 2,
      "outputs": [
        {
          "output_type": "stream",
          "name": "stdout",
          "text": [
            "Mounted at /content/drive\n"
          ]
        }
      ]
    },
    {
      "cell_type": "code",
      "source": [
        "## load the dataset\n",
        "raw_csv_data = pd.read_csv('/content/drive/MyDrive/Data Science/Time Series/Index2018.csv')\n",
        "raw_csv_data.head()"
      ],
      "metadata": {
        "colab": {
          "base_uri": "https://localhost:8080/",
          "height": 206
        },
        "id": "i-HQiD3gltid",
        "outputId": "8d0c3b79-5d38-4b58-cb37-966fe237f6e9"
      },
      "execution_count": 3,
      "outputs": [
        {
          "output_type": "execute_result",
          "data": {
            "text/plain": [
              "         date     spx      dax     ftse    nikkei\n",
              "0  07/01/1994  469.90  2224.95  3445.98  18124.01\n",
              "1  10/01/1994  475.27  2225.00  3440.58  18443.44\n",
              "2  11/01/1994  474.13  2228.10  3413.77  18485.25\n",
              "3  12/01/1994  474.17  2182.06  3372.02  18793.88\n",
              "4  13/01/1994  472.47  2142.37  3360.01  18577.26"
            ],
            "text/html": [
              "\n",
              "  <div id=\"df-0f7f3e6e-c45d-409f-b412-77694eabb6da\">\n",
              "    <div class=\"colab-df-container\">\n",
              "      <div>\n",
              "<style scoped>\n",
              "    .dataframe tbody tr th:only-of-type {\n",
              "        vertical-align: middle;\n",
              "    }\n",
              "\n",
              "    .dataframe tbody tr th {\n",
              "        vertical-align: top;\n",
              "    }\n",
              "\n",
              "    .dataframe thead th {\n",
              "        text-align: right;\n",
              "    }\n",
              "</style>\n",
              "<table border=\"1\" class=\"dataframe\">\n",
              "  <thead>\n",
              "    <tr style=\"text-align: right;\">\n",
              "      <th></th>\n",
              "      <th>date</th>\n",
              "      <th>spx</th>\n",
              "      <th>dax</th>\n",
              "      <th>ftse</th>\n",
              "      <th>nikkei</th>\n",
              "    </tr>\n",
              "  </thead>\n",
              "  <tbody>\n",
              "    <tr>\n",
              "      <th>0</th>\n",
              "      <td>07/01/1994</td>\n",
              "      <td>469.90</td>\n",
              "      <td>2224.95</td>\n",
              "      <td>3445.98</td>\n",
              "      <td>18124.01</td>\n",
              "    </tr>\n",
              "    <tr>\n",
              "      <th>1</th>\n",
              "      <td>10/01/1994</td>\n",
              "      <td>475.27</td>\n",
              "      <td>2225.00</td>\n",
              "      <td>3440.58</td>\n",
              "      <td>18443.44</td>\n",
              "    </tr>\n",
              "    <tr>\n",
              "      <th>2</th>\n",
              "      <td>11/01/1994</td>\n",
              "      <td>474.13</td>\n",
              "      <td>2228.10</td>\n",
              "      <td>3413.77</td>\n",
              "      <td>18485.25</td>\n",
              "    </tr>\n",
              "    <tr>\n",
              "      <th>3</th>\n",
              "      <td>12/01/1994</td>\n",
              "      <td>474.17</td>\n",
              "      <td>2182.06</td>\n",
              "      <td>3372.02</td>\n",
              "      <td>18793.88</td>\n",
              "    </tr>\n",
              "    <tr>\n",
              "      <th>4</th>\n",
              "      <td>13/01/1994</td>\n",
              "      <td>472.47</td>\n",
              "      <td>2142.37</td>\n",
              "      <td>3360.01</td>\n",
              "      <td>18577.26</td>\n",
              "    </tr>\n",
              "  </tbody>\n",
              "</table>\n",
              "</div>\n",
              "      <button class=\"colab-df-convert\" onclick=\"convertToInteractive('df-0f7f3e6e-c45d-409f-b412-77694eabb6da')\"\n",
              "              title=\"Convert this dataframe to an interactive table.\"\n",
              "              style=\"display:none;\">\n",
              "        \n",
              "  <svg xmlns=\"http://www.w3.org/2000/svg\" height=\"24px\"viewBox=\"0 0 24 24\"\n",
              "       width=\"24px\">\n",
              "    <path d=\"M0 0h24v24H0V0z\" fill=\"none\"/>\n",
              "    <path d=\"M18.56 5.44l.94 2.06.94-2.06 2.06-.94-2.06-.94-.94-2.06-.94 2.06-2.06.94zm-11 1L8.5 8.5l.94-2.06 2.06-.94-2.06-.94L8.5 2.5l-.94 2.06-2.06.94zm10 10l.94 2.06.94-2.06 2.06-.94-2.06-.94-.94-2.06-.94 2.06-2.06.94z\"/><path d=\"M17.41 7.96l-1.37-1.37c-.4-.4-.92-.59-1.43-.59-.52 0-1.04.2-1.43.59L10.3 9.45l-7.72 7.72c-.78.78-.78 2.05 0 2.83L4 21.41c.39.39.9.59 1.41.59.51 0 1.02-.2 1.41-.59l7.78-7.78 2.81-2.81c.8-.78.8-2.07 0-2.86zM5.41 20L4 18.59l7.72-7.72 1.47 1.35L5.41 20z\"/>\n",
              "  </svg>\n",
              "      </button>\n",
              "      \n",
              "  <style>\n",
              "    .colab-df-container {\n",
              "      display:flex;\n",
              "      flex-wrap:wrap;\n",
              "      gap: 12px;\n",
              "    }\n",
              "\n",
              "    .colab-df-convert {\n",
              "      background-color: #E8F0FE;\n",
              "      border: none;\n",
              "      border-radius: 50%;\n",
              "      cursor: pointer;\n",
              "      display: none;\n",
              "      fill: #1967D2;\n",
              "      height: 32px;\n",
              "      padding: 0 0 0 0;\n",
              "      width: 32px;\n",
              "    }\n",
              "\n",
              "    .colab-df-convert:hover {\n",
              "      background-color: #E2EBFA;\n",
              "      box-shadow: 0px 1px 2px rgba(60, 64, 67, 0.3), 0px 1px 3px 1px rgba(60, 64, 67, 0.15);\n",
              "      fill: #174EA6;\n",
              "    }\n",
              "\n",
              "    [theme=dark] .colab-df-convert {\n",
              "      background-color: #3B4455;\n",
              "      fill: #D2E3FC;\n",
              "    }\n",
              "\n",
              "    [theme=dark] .colab-df-convert:hover {\n",
              "      background-color: #434B5C;\n",
              "      box-shadow: 0px 1px 3px 1px rgba(0, 0, 0, 0.15);\n",
              "      filter: drop-shadow(0px 1px 2px rgba(0, 0, 0, 0.3));\n",
              "      fill: #FFFFFF;\n",
              "    }\n",
              "  </style>\n",
              "\n",
              "      <script>\n",
              "        const buttonEl =\n",
              "          document.querySelector('#df-0f7f3e6e-c45d-409f-b412-77694eabb6da button.colab-df-convert');\n",
              "        buttonEl.style.display =\n",
              "          google.colab.kernel.accessAllowed ? 'block' : 'none';\n",
              "\n",
              "        async function convertToInteractive(key) {\n",
              "          const element = document.querySelector('#df-0f7f3e6e-c45d-409f-b412-77694eabb6da');\n",
              "          const dataTable =\n",
              "            await google.colab.kernel.invokeFunction('convertToInteractive',\n",
              "                                                     [key], {});\n",
              "          if (!dataTable) return;\n",
              "\n",
              "          const docLinkHtml = 'Like what you see? Visit the ' +\n",
              "            '<a target=\"_blank\" href=https://colab.research.google.com/notebooks/data_table.ipynb>data table notebook</a>'\n",
              "            + ' to learn more about interactive tables.';\n",
              "          element.innerHTML = '';\n",
              "          dataTable['output_type'] = 'display_data';\n",
              "          await google.colab.output.renderOutput(dataTable, element);\n",
              "          const docLink = document.createElement('div');\n",
              "          docLink.innerHTML = docLinkHtml;\n",
              "          element.appendChild(docLink);\n",
              "        }\n",
              "      </script>\n",
              "    </div>\n",
              "  </div>\n",
              "  "
            ]
          },
          "metadata": {},
          "execution_count": 3
        }
      ]
    },
    {
      "cell_type": "markdown",
      "source": [
        "## Preprocess the Data"
      ],
      "metadata": {
        "id": "DXkXPUDSly7d"
      }
    },
    {
      "cell_type": "code",
      "source": [
        "## transforming the dataset\n",
        "df_comp = raw_csv_data.copy()\n",
        "df_comp.date = pd.to_datetime(df_comp.date, dayfirst=True)\n",
        "df_comp.set_index(\"date\", inplace=True)\n",
        "df_comp = df_comp.asfreq('b') # business days as frequency\n",
        "df_comp = df_comp.fillna(method='ffill')"
      ],
      "metadata": {
        "id": "CNet0kk9l2iT"
      },
      "execution_count": 4,
      "outputs": []
    },
    {
      "cell_type": "code",
      "source": [
        "df_comp['market_value'] = df_comp.ftse"
      ],
      "metadata": {
        "id": "53ZdLFDVl45z"
      },
      "execution_count": 5,
      "outputs": []
    },
    {
      "cell_type": "markdown",
      "source": [
        "## Splitting the Training and Testing Set"
      ],
      "metadata": {
        "id": "QSugelUCl7-6"
      }
    },
    {
      "cell_type": "code",
      "source": [
        "## Getting the 80% of data as training set\n",
        "size = int(len(df_comp) * 0.8)\n",
        "df, df_test = df_comp.iloc[:size], df_comp.iloc[size:]"
      ],
      "metadata": {
        "id": "eMcyeJTBmGWI"
      },
      "execution_count": 6,
      "outputs": []
    },
    {
      "cell_type": "markdown",
      "source": [
        "## The Log-Likelihood Test"
      ],
      "metadata": {
        "id": "va4CFZ6amJMv"
      }
    },
    {
      "cell_type": "code",
      "source": [
        "def llr_test(mod_1, mod_2, DF=1):\n",
        "   \"\"\" mod_1, mod_2= models to compare, df=degrees of freedom\"\"\"\n",
        "   L1 = mod_1.fit(trend='nc').llf ## Add trend='ct'\n",
        "   L2 = mod_2.fit(trend='nc').llf ## log likelihood\n",
        "   LR = (2*(L2-L1)) ## test statistics\n",
        "   p = chi2.sf(LR, DF).round(3) ## p-value\n",
        "   return p"
      ],
      "metadata": {
        "id": "Zk6zZd0rmNnH"
      },
      "execution_count": 7,
      "outputs": []
    },
    {
      "cell_type": "markdown",
      "source": [
        "## Creating Returns"
      ],
      "metadata": {
        "id": "ALYPcJ6gmOAO"
      }
    },
    {
      "cell_type": "code",
      "source": [
        "df['returns'] = df.market_value.pct_change(1).mul(100)"
      ],
      "metadata": {
        "colab": {
          "base_uri": "https://localhost:8080/"
        },
        "id": "vutML7X9mTHs",
        "outputId": "83535c97-7659-4404-a97a-b125533efeb9"
      },
      "execution_count": 8,
      "outputs": [
        {
          "output_type": "stream",
          "name": "stderr",
          "text": [
            "/usr/local/lib/python3.7/dist-packages/ipykernel_launcher.py:1: SettingWithCopyWarning: \n",
            "A value is trying to be set on a copy of a slice from a DataFrame.\n",
            "Try using .loc[row_indexer,col_indexer] = value instead\n",
            "\n",
            "See the caveats in the documentation: https://pandas.pydata.org/pandas-docs/stable/user_guide/indexing.html#returning-a-view-versus-a-copy\n",
            "  \"\"\"Entry point for launching an IPython kernel.\n"
          ]
        }
      ]
    },
    {
      "cell_type": "markdown",
      "source": [
        "## Creating Squared Returns"
      ],
      "metadata": {
        "id": "tK5EmrWLmTgl"
      }
    },
    {
      "cell_type": "code",
      "source": [
        "df['sq_returns'] = df.returns.mul(df.returns)"
      ],
      "metadata": {
        "colab": {
          "base_uri": "https://localhost:8080/"
        },
        "id": "U1NgnUypmZTM",
        "outputId": "7046bd28-96e4-4aa5-ad77-f28fb7f08563"
      },
      "execution_count": 9,
      "outputs": [
        {
          "output_type": "stream",
          "name": "stderr",
          "text": [
            "/usr/local/lib/python3.7/dist-packages/ipykernel_launcher.py:1: SettingWithCopyWarning: \n",
            "A value is trying to be set on a copy of a slice from a DataFrame.\n",
            "Try using .loc[row_indexer,col_indexer] = value instead\n",
            "\n",
            "See the caveats in the documentation: https://pandas.pydata.org/pandas-docs/stable/user_guide/indexing.html#returning-a-view-versus-a-copy\n",
            "  \"\"\"Entry point for launching an IPython kernel.\n"
          ]
        }
      ]
    },
    {
      "cell_type": "markdown",
      "source": [
        "## Returns vs Squared Returns"
      ],
      "metadata": {
        "id": "nmpTtI7mmpuI"
      }
    },
    {
      "cell_type": "code",
      "source": [
        "df.returns.plot(figsize=(20,5))\n",
        "plt.title(\"Returns\", size=24)\n",
        "plt.show()"
      ],
      "metadata": {
        "colab": {
          "base_uri": "https://localhost:8080/",
          "height": 364
        },
        "id": "qC-AKDaWmxqf",
        "outputId": "110185b0-9917-4b1b-8492-fbf339b9f87f"
      },
      "execution_count": 10,
      "outputs": [
        {
          "output_type": "display_data",
          "data": {
            "text/plain": [
              "<Figure size 1440x360 with 1 Axes>"
            ],
            "image/png": "[encoded data removed]"
          },
          "metadata": {
            "needs_background": "light"
          }
        }
      ]
    },
    {
      "cell_type": "code",
      "source": [
        "df.sq_returns.plot(figsize=(20,5))\n",
        "plt.title(\"Squared Returns\", size=24)\n",
        "plt.show()"
      ],
      "metadata": {
        "colab": {
          "base_uri": "https://localhost:8080/",
          "height": 364
        },
        "id": "cFp4fnJPm_js",
        "outputId": "1071158b-5426-4480-c12c-a03d53cf6c60"
      },
      "execution_count": 11,
      "outputs": [
        {
          "output_type": "display_data",
          "data": {
            "text/plain": [
              "<Figure size 1440x360 with 1 Axes>"
            ],
            "image/png": "[encoded data removed]"
          },
          "metadata": {
            "needs_background": "light"
          }
        }
      ]
    },
    {
      "cell_type": "markdown",
      "source": [
        "## The PACF of Returns and Squared Returns"
      ],
      "metadata": {
        "id": "tjCvmzdtnCvz"
      }
    },
    {
      "cell_type": "code",
      "source": [
        "sgt.plot_pacf(df.returns[1:], lags=40, alpha=0.05, zero=False, method=('ols'))\n",
        "plt.title(\"PACF of Returns\", size=20)\n",
        "plt.show()"
      ],
      "metadata": {
        "colab": {
          "base_uri": "https://localhost:8080/",
          "height": 289
        },
        "id": "ZCn1pUOVnXCw",
        "outputId": "62439038-566e-49df-ae87-7515bc9af3c0"
      },
      "execution_count": 12,
      "outputs": [
        {
          "output_type": "display_data",
          "data": {
            "text/plain": [
              "<Figure size 432x288 with 1 Axes>"
            ],
            "image/png": "[encoded data removed]"
          },
          "metadata": {
            "needs_background": "light"
          }
        }
      ]
    },
    {
      "cell_type": "code",
      "source": [
        "sgt.plot_pacf(df.sq_returns[1:], lags=40, alpha=0.05, zero=False, method=('ols'))\n",
        "plt.title(\"PACF of Squared Returns\", size=20)\n",
        "plt.show()"
      ],
      "metadata": {
        "colab": {
          "base_uri": "https://localhost:8080/",
          "height": 289
        },
        "id": "MjNi-Ypynwdo",
        "outputId": "352ae43d-2063-4a08-fde9-8c6714c138da"
      },
      "execution_count": 13,
      "outputs": [
        {
          "output_type": "display_data",
          "data": {
            "text/plain": [
              "<Figure size 432x288 with 1 Axes>"
            ],
            "image/png": "[encoded data removed]"
          },
          "metadata": {
            "needs_background": "light"
          }
        }
      ]
    },
    {
      "cell_type": "markdown",
      "source": [
        "## The arch_model() Method"
      ],
      "metadata": {
        "id": "YFnx7aZQoKaM"
      }
    },
    {
      "cell_type": "code",
      "source": [
        "pip install arch"
      ],
      "metadata": {
        "colab": {
          "base_uri": "https://localhost:8080/",
          "height": 520
        },
        "id": "I9LuTA0iJtkS",
        "outputId": "9fd43454-3474-4316-dc9e-1058430cd8e3"
      },
      "execution_count": 14,
      "outputs": [
        {
          "output_type": "stream",
          "name": "stdout",
          "text": [
            "Looking in indexes: https://pypi.org/simple, https://us-python.pkg.dev/colab-wheels/public/simple/\n",
            "Collecting arch\n",
            "  Downloading arch-5.3.1-cp37-cp37m-manylinux_2_17_x86_64.manylinux2014_x86_64.whl (903 kB)\n",
            "\u001b[K     |████████████████████████████████| 903 kB 5.0 MB/s \n",
            "\u001b[?25hRequirement already satisfied: pandas>=1.0 in /usr/local/lib/python3.7/dist-packages (from arch) (1.3.5)\n",
            "Requirement already satisfied: scipy>=1.3 in /usr/local/lib/python3.7/dist-packages (from arch) (1.7.3)\n",
            "Collecting statsmodels>=0.11\n",
            "  Downloading statsmodels-0.13.2-cp37-cp37m-manylinux_2_17_x86_64.manylinux2014_x86_64.whl (9.8 MB)\n",
            "\u001b[K     |████████████████████████████████| 9.8 MB 30.9 MB/s \n",
            "\u001b[?25hCollecting property-cached>=1.6.4\n",
            "  Downloading property_cached-1.6.4-py2.py3-none-any.whl (7.8 kB)\n",
            "Requirement already satisfied: numpy>=1.17 in /usr/local/lib/python3.7/dist-packages (from arch) (1.21.6)\n",
            "Requirement already satisfied: pytz>=2017.3 in /usr/local/lib/python3.7/dist-packages (from pandas>=1.0->arch) (2022.1)\n",
            "Requirement already satisfied: python-dateutil>=2.7.3 in /usr/local/lib/python3.7/dist-packages (from pandas>=1.0->arch) (2.8.2)\n",
            "Requirement already satisfied: six>=1.5 in /usr/local/lib/python3.7/dist-packages (from python-dateutil>=2.7.3->pandas>=1.0->arch) (1.15.0)\n",
            "Requirement already satisfied: patsy>=0.5.2 in /usr/local/lib/python3.7/dist-packages (from statsmodels>=0.11->arch) (0.5.2)\n",
            "Requirement already satisfied: packaging>=21.3 in /usr/local/lib/python3.7/dist-packages (from statsmodels>=0.11->arch) (21.3)\n",
            "Requirement already satisfied: pyparsing!=3.0.5,>=2.0.2 in /usr/local/lib/python3.7/dist-packages (from packaging>=21.3->statsmodels>=0.11->arch) (3.0.9)\n",
            "Installing collected packages: statsmodels, property-cached, arch\n",
            "  Attempting uninstall: statsmodels\n",
            "    Found existing installation: statsmodels 0.10.2\n",
            "    Uninstalling statsmodels-0.10.2:\n",
            "      Successfully uninstalled statsmodels-0.10.2\n",
            "Successfully installed arch-5.3.1 property-cached-1.6.4 statsmodels-0.13.2\n"
          ]
        },
        {
          "output_type": "display_data",
          "data": {
            "application/vnd.colab-display-data+json": {
              "pip_warning": {
                "packages": [
                  "statsmodels"
                ]
              }
            }
          },
          "metadata": {}
        }
      ]
    },
    {
      "cell_type": "code",
      "source": [
        "from arch import arch_model"
      ],
      "metadata": {
        "id": "SJEyhCpuJYtm"
      },
      "execution_count": 15,
      "outputs": []
    },
    {
      "cell_type": "code",
      "source": [
        "model_arch_1 = arch_model(df.returns[1:])\n",
        "results_arch_1 = model_arch_1.fit()\n",
        "print(results_arch_1.summary())"
      ],
      "metadata": {
        "colab": {
          "base_uri": "https://localhost:8080/"
        },
        "id": "wfGculAhJgCc",
        "outputId": "018e65d9-2a21-4e8e-bf63-af553aa1f845"
      },
      "execution_count": 16,
      "outputs": [
        {
          "output_type": "stream",
          "name": "stdout",
          "text": [
            "Iteration:      1,   Func. Count:      6,   Neg. LLF: 6579303469.390623\n",
            "Iteration:      2,   Func. Count:     15,   Neg. LLF: 2701100877.2298183\n",
            "Iteration:      3,   Func. Count:     23,   Neg. LLF: 7009.030632045198\n",
            "Iteration:      4,   Func. Count:     29,   Neg. LLF: 7024.035835212278\n",
            "Iteration:      5,   Func. Count:     35,   Neg. LLF: 7010.712887007633\n",
            "Iteration:      6,   Func. Count:     41,   Neg. LLF: 6975.418108744094\n",
            "Iteration:      7,   Func. Count:     47,   Neg. LLF: 7092.271338807877\n",
            "Iteration:      8,   Func. Count:     53,   Neg. LLF: 6973.879266228052\n",
            "Iteration:      9,   Func. Count:     59,   Neg. LLF: 6970.088048943886\n",
            "Iteration:     10,   Func. Count:     64,   Neg. LLF: 6970.058478413694\n",
            "Iteration:     11,   Func. Count:     69,   Neg. LLF: 6970.0583674757745\n",
            "Iteration:     12,   Func. Count:     74,   Neg. LLF: 6970.058366189882\n",
            "Iteration:     13,   Func. Count:     78,   Neg. LLF: 6970.058366189167\n",
            "Optimization terminated successfully    (Exit mode 0)\n",
            "            Current function value: 6970.058366189882\n",
            "            Iterations: 13\n",
            "            Function evaluations: 78\n",
            "            Gradient evaluations: 13\n",
            "                     Constant Mean - GARCH Model Results                      \n",
            "==============================================================================\n",
            "Dep. Variable:                returns   R-squared:                       0.000\n",
            "Mean Model:             Constant Mean   Adj. R-squared:                  0.000\n",
            "Vol Model:                      GARCH   Log-Likelihood:               -6970.06\n",
            "Distribution:                  Normal   AIC:                           13948.1\n",
            "Method:            Maximum Likelihood   BIC:                           13974.2\n",
            "                                        No. Observations:                 5020\n",
            "Date:                Thu, Aug 04 2022   Df Residuals:                     5019\n",
            "Time:                        02:29:31   Df Model:                            1\n",
            "                                 Mean Model                                 \n",
            "============================================================================\n",
            "                 coef    std err          t      P>|t|      95.0% Conf. Int.\n",
            "----------------------------------------------------------------------------\n",
            "mu             0.0466  1.183e-02      3.939  8.187e-05 [2.342e-02,6.981e-02]\n",
            "                              Volatility Model                              \n",
            "============================================================================\n",
            "                 coef    std err          t      P>|t|      95.0% Conf. Int.\n",
            "----------------------------------------------------------------------------\n",
            "omega          0.0109  3.004e-03      3.640  2.724e-04 [5.048e-03,1.682e-02]\n",
            "alpha[1]       0.0835  1.071e-02      7.794  6.476e-15   [6.249e-02,  0.104]\n",
            "beta[1]        0.9089  1.148e-02     79.168      0.000     [  0.886,  0.931]\n",
            "============================================================================\n",
            "\n",
            "Covariance estimator: robust\n"
          ]
        }
      ]
    },
    {
      "cell_type": "markdown",
      "source": [
        "**Mean Model:** - Mean Model is Constant Mean, this implies that the mean is constant ratehr than moving.\n",
        "\n",
        "**Vol Model:** - It is **GARCH** which uses different equation for variance.\n",
        "\n",
        "**Df Model:**- Degrees of Freedom. The number of coefficients we are trying to estimate.\n",
        "\n",
        "**mu** - Single constant coefficient to be determined. Large **t** value suggests significance of the coefficient.\n",
        "\n",
        "\n",
        "#####**Volatility Model:**\n",
        "\n",
        "**omega** - The cosntant value in variance.\n",
        "**alpha[1]** - Coefficients for the squared values."
      ],
      "metadata": {
        "id": "jjFRvFdXKPPr"
      }
    },
    {
      "cell_type": "markdown",
      "source": [
        "**The iteration part**\n",
        "\n",
        "1) Several iterations before it converges.\n",
        "\n",
        "2) Fitting 2 equations at the same time.\n",
        "\n",
        "3) Fits the model with certain coefficients, checks how well it has performed and adjusts the coefficients.\n",
        "\n",
        "Generally the iterations stops when log-likelihood decreases."
      ],
      "metadata": {
        "id": "DDH6J_8XNRFB"
      }
    },
    {
      "cell_type": "markdown",
      "source": [
        "## The Simple ARCH(1)\n",
        "\n",
        "The mean of the series is not serially correlated.\n",
        "\n",
        "The mean equation is time invariant so it neither includes pasrt values or past residuals. mean = 'Constant'\n",
        "\n",
        "Setting the volatility model equal to ARCH. **vol='ARCH'**\n",
        "\n",
        "Specify the order of the model **p=1**"
      ],
      "metadata": {
        "id": "kmzOFkOON0dE"
      }
    },
    {
      "cell_type": "code",
      "source": [
        "model_arch_1 = arch_model(df.returns[1:], mean='Constant', vol='ARCH', p=1)\n",
        "results_arch_1 = model_arch_1.fit(update_freq = 5)\n",
        "print(results_arch_1.summary())"
      ],
      "metadata": {
        "id": "trnWLboeOax5",
        "outputId": "dba088f2-1ec6-45d7-ffd8-48245e2492b9",
        "colab": {
          "base_uri": "https://localhost:8080/"
        }
      },
      "execution_count": 18,
      "outputs": [
        {
          "output_type": "stream",
          "name": "stdout",
          "text": [
            "Iteration:      5,   Func. Count:     30,   Neg. LLF: 7660.088782040875\n",
            "Optimization terminated successfully    (Exit mode 0)\n",
            "            Current function value: 7660.088782040875\n",
            "            Iterations: 6\n",
            "            Function evaluations: 33\n",
            "            Gradient evaluations: 6\n",
            "                      Constant Mean - ARCH Model Results                      \n",
            "==============================================================================\n",
            "Dep. Variable:                returns   R-squared:                       0.000\n",
            "Mean Model:             Constant Mean   Adj. R-squared:                  0.000\n",
            "Vol Model:                       ARCH   Log-Likelihood:               -7660.09\n",
            "Distribution:                  Normal   AIC:                           15326.2\n",
            "Method:            Maximum Likelihood   BIC:                           15345.7\n",
            "                                        No. Observations:                 5020\n",
            "Date:                Thu, Aug 04 2022   Df Residuals:                     5019\n",
            "Time:                        02:30:17   Df Model:                            1\n",
            "                                 Mean Model                                 \n",
            "============================================================================\n",
            "                 coef    std err          t      P>|t|      95.0% Conf. Int.\n",
            "----------------------------------------------------------------------------\n",
            "mu             0.0345  1.603e-02      2.151  3.147e-02 [3.063e-03,6.590e-02]\n",
            "                            Volatility Model                            \n",
            "========================================================================\n",
            "                 coef    std err          t      P>|t|  95.0% Conf. Int.\n",
            "------------------------------------------------------------------------\n",
            "omega          0.9206  4.309e-02     21.365 2.855e-101 [  0.836,  1.005]\n",
            "alpha[1]       0.3684  5.040e-02      7.310  2.673e-13 [  0.270,  0.467]\n",
            "========================================================================\n",
            "\n",
            "Covariance estimator: robust\n"
          ]
        }
      ]
    },
    {
      "cell_type": "code",
      "source": [
        "model_arch_1 = arch_model(df.returns[1:], mean='AR', lags = [2,3,6], vol='ARCH', p=1)\n",
        "results_arch_1 = model_arch_1.fit(update_freq = 5)\n",
        "print(results_arch_1.summary())"
      ],
      "metadata": {
        "id": "-IojaYNJsHKZ",
        "outputId": "18f07645-eac0-4e55-da87-36cb0e8ad4b7",
        "colab": {
          "base_uri": "https://localhost:8080/"
        }
      },
      "execution_count": 19,
      "outputs": [
        {
          "output_type": "stream",
          "name": "stdout",
          "text": [
            "Iteration:      5,   Func. Count:     30,   Neg. LLF: 7660.088782040875\n",
            "Optimization terminated successfully    (Exit mode 0)\n",
            "            Current function value: 7660.088782040875\n",
            "            Iterations: 6\n",
            "            Function evaluations: 33\n",
            "            Gradient evaluations: 6\n",
            "                           AR - ARCH Model Results                            \n",
            "==============================================================================\n",
            "Dep. Variable:                returns   R-squared:                       0.000\n",
            "Mean Model:                        AR   Adj. R-squared:                  0.000\n",
            "Vol Model:                       ARCH   Log-Likelihood:               -7660.09\n",
            "Distribution:                  Normal   AIC:                           15326.2\n",
            "Method:            Maximum Likelihood   BIC:                           15345.7\n",
            "                                        No. Observations:                 5020\n",
            "Date:                Thu, Aug 04 2022   Df Residuals:                     5019\n",
            "Time:                        02:56:17   Df Model:                            1\n",
            "                                 Mean Model                                 \n",
            "============================================================================\n",
            "                 coef    std err          t      P>|t|      95.0% Conf. Int.\n",
            "----------------------------------------------------------------------------\n",
            "Const          0.0345  1.603e-02      2.151  3.147e-02 [3.063e-03,6.590e-02]\n",
            "                            Volatility Model                            \n",
            "========================================================================\n",
            "                 coef    std err          t      P>|t|  95.0% Conf. Int.\n",
            "------------------------------------------------------------------------\n",
            "omega          0.9206  4.309e-02     21.365 2.855e-101 [  0.836,  1.005]\n",
            "alpha[1]       0.3684  5.040e-02      7.310  2.673e-13 [  0.270,  0.467]\n",
            "========================================================================\n",
            "\n",
            "Covariance estimator: robust\n"
          ]
        }
      ]
    },
    {
      "cell_type": "code",
      "source": [
        "model_arch_1 = arch_model(df.returns[1:], mean='AR', lags = [2,3,6], vol='ARCH', p=1, dist='t')\n",
        "results_arch_1 = model_arch_1.fit(update_freq = 5)\n",
        "print(results_arch_1.summary())"
      ],
      "metadata": {
        "id": "qsb26tjByEAw",
        "outputId": "8b7c46eb-3ddd-4ef9-a64e-fcaa10c7d5c8",
        "colab": {
          "base_uri": "https://localhost:8080/"
        }
      },
      "execution_count": 21,
      "outputs": [
        {
          "output_type": "stream",
          "name": "stdout",
          "text": [
            "Iteration:      5,   Func. Count:     54,   Neg. LLF: 99270.99753250643\n",
            "Iteration:     10,   Func. Count:    101,   Neg. LLF: 7329.094538493613\n",
            "Iteration:     15,   Func. Count:    141,   Neg. LLF: 7327.763601273473\n",
            "Optimization terminated successfully    (Exit mode 0)\n",
            "            Current function value: 7327.763601273473\n",
            "            Iterations: 16\n",
            "            Function evaluations: 148\n",
            "            Gradient evaluations: 16\n",
            "                              AR - ARCH Model Results                               \n",
            "====================================================================================\n",
            "Dep. Variable:                      returns   R-squared:                       0.007\n",
            "Mean Model:                              AR   Adj. R-squared:                  0.007\n",
            "Vol Model:                             ARCH   Log-Likelihood:               -7327.76\n",
            "Distribution:      Standardized Student's t   AIC:                           14669.5\n",
            "Method:                  Maximum Likelihood   BIC:                           14715.2\n",
            "                                              No. Observations:                 5014\n",
            "Date:                      Thu, Aug 04 2022   Df Residuals:                     5010\n",
            "Time:                              02:59:26   Df Model:                            4\n",
            "                                  Mean Model                                  \n",
            "==============================================================================\n",
            "                 coef    std err          t      P>|t|        95.0% Conf. Int.\n",
            "------------------------------------------------------------------------------\n",
            "Const          0.0554  1.323e-02      4.189  2.802e-05   [2.948e-02,8.134e-02]\n",
            "returns[2]    -0.0310  1.834e-02     -1.690  9.109e-02  [-6.693e-02,4.957e-03]\n",
            "returns[3]    -0.0336  1.859e-02     -1.806  7.093e-02  [-7.001e-02,2.864e-03]\n",
            "returns[6]    -0.0417  1.877e-02     -2.221  2.638e-02 [-7.845e-02,-4.891e-03]\n",
            "                            Volatility Model                            \n",
            "========================================================================\n",
            "                 coef    std err          t      P>|t|  95.0% Conf. Int.\n",
            "------------------------------------------------------------------------\n",
            "omega          1.0033  5.052e-02     19.859  9.208e-88 [  0.904,  1.102]\n",
            "alpha[1]       0.3585  4.144e-02      8.652  5.057e-18 [  0.277,  0.440]\n",
            "                              Distribution                              \n",
            "========================================================================\n",
            "                 coef    std err          t      P>|t|  95.0% Conf. Int.\n",
            "------------------------------------------------------------------------\n",
            "nu             3.8083      0.217     17.555  5.399e-69 [  3.383,  4.233]\n",
            "========================================================================\n",
            "\n",
            "Covariance estimator: robust\n"
          ]
        }
      ]
    },
    {
      "cell_type": "markdown",
      "source": [
        "## Higher-Lag ARCH Models"
      ],
      "metadata": {
        "id": "EN_EFNxWypy5"
      }
    },
    {
      "cell_type": "code",
      "source": [
        "model_arch_2 = arch_model(df.returns[1:], mean='Constant', vol='ARCH', p=2)\n",
        "results_arch_2 = model_arch_2.fit(update_freq = 5)\n",
        "print(results_arch_2.summary())"
      ],
      "metadata": {
        "id": "f2VTjxt0zi8f",
        "outputId": "6c095101-e1fb-4828-adef-6d9117d96462",
        "colab": {
          "base_uri": "https://localhost:8080/"
        }
      },
      "execution_count": 23,
      "outputs": [
        {
          "output_type": "stream",
          "name": "stdout",
          "text": [
            "Iteration:      5,   Func. Count:     37,   Neg. LLF: 8810.02930517937\n",
            "Optimization terminated successfully    (Exit mode 0)\n",
            "            Current function value: 7449.545164098316\n",
            "            Iterations: 9\n",
            "            Function evaluations: 58\n",
            "            Gradient evaluations: 9\n",
            "                      Constant Mean - ARCH Model Results                      \n",
            "==============================================================================\n",
            "Dep. Variable:                returns   R-squared:                       0.000\n",
            "Mean Model:             Constant Mean   Adj. R-squared:                  0.000\n",
            "Vol Model:                       ARCH   Log-Likelihood:               -7449.55\n",
            "Distribution:                  Normal   AIC:                           14907.1\n",
            "Method:            Maximum Likelihood   BIC:                           14933.2\n",
            "                                        No. Observations:                 5020\n",
            "Date:                Thu, Aug 04 2022   Df Residuals:                     5019\n",
            "Time:                        03:05:50   Df Model:                            1\n",
            "                                 Mean Model                                 \n",
            "============================================================================\n",
            "                 coef    std err          t      P>|t|      95.0% Conf. Int.\n",
            "----------------------------------------------------------------------------\n",
            "mu             0.0484  1.401e-02      3.455  5.495e-04 [2.095e-02,7.585e-02]\n",
            "                            Volatility Model                            \n",
            "========================================================================\n",
            "                 coef    std err          t      P>|t|  95.0% Conf. Int.\n",
            "------------------------------------------------------------------------\n",
            "omega          0.6978  3.564e-02     19.580  2.272e-85 [  0.628,  0.768]\n",
            "alpha[1]       0.2202  3.474e-02      6.339  2.311e-10 [  0.152,  0.288]\n",
            "alpha[2]       0.2783  3.645e-02      7.635  2.260e-14 [  0.207,  0.350]\n",
            "========================================================================\n",
            "\n",
            "Covariance estimator: robust\n"
          ]
        }
      ]
    },
    {
      "cell_type": "markdown",
      "source": [
        "This is an trial and error process. We have tried 13th model in this case to find the p-value not significant."
      ],
      "metadata": {
        "id": "YnnsPLgWz9eV"
      }
    },
    {
      "cell_type": "code",
      "source": [
        ""
      ],
      "metadata": {
        "id": "V4Oj4voV0hOA"
      },
      "execution_count": null,
      "outputs": []
    }
  ]
}
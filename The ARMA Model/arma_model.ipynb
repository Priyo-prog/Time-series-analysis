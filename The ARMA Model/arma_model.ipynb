{
  "nbformat": 4,
  "nbformat_minor": 0,
  "metadata": {
    "colab": {
      "name": "arma_model.ipynb",
      "provenance": [],
      "authorship_tag": "ABX9TyOxudBqZc5ZBm92uuH3kfgv",
      "include_colab_link": true
    },
    "kernelspec": {
      "name": "python3",
      "display_name": "Python 3"
    },
    "language_info": {
      "name": "python"
    }
  },
  "cells": [
    {
      "cell_type": "markdown",
      "metadata": {
        "id": "view-in-github",
        "colab_type": "text"
      },
      "source": [
        "<a href=\"https://colab.research.google.com/github/Priyo-prog/Time-series-analysis/blob/main/The%20ARMA%20Model/arma_model.ipynb\" target=\"_parent\"><img src=\"https://colab.research.google.com/assets/colab-badge.svg\" alt=\"Open In Colab\"/></a>"
      ]
    },
    {
      "cell_type": "markdown",
      "source": [
        "#**The ARMA Model**"
      ],
      "metadata": {
        "id": "Dcv-AQV3RJLw"
      }
    },
    {
      "cell_type": "markdown",
      "source": [
        "## Import the Packages and Libraries"
      ],
      "metadata": {
        "id": "fjFlQqXaRQ4H"
      }
    },
    {
      "cell_type": "code",
      "source": [
        "import pandas as pd\n",
        "import numpy as np\n",
        "import matplotlib.pyplot as plt\n",
        "import statsmodels.graphics.tsaplots as sgt\n",
        "import statsmodels.tsa.stattools as sts\n",
        "from statsmodels.tsa.seasonal import seasonal_decompose\n",
        "from statsmodels.tsa.arima_model import ARMA\n",
        "from scipy.stats.distributions import chi2\n",
        "import seaborn as sns\n",
        "sns.set()"
      ],
      "metadata": {
        "colab": {
          "base_uri": "https://localhost:8080/"
        },
        "id": "9JSJQLaHTt33",
        "outputId": "f4c2cd53-719b-436f-e240-5ec75d98f3cd"
      },
      "execution_count": 1,
      "outputs": [
        {
          "output_type": "stream",
          "name": "stderr",
          "text": [
            "/usr/local/lib/python3.7/dist-packages/statsmodels/tools/_testing.py:19: FutureWarning: pandas.util.testing is deprecated. Use the functions in the public API at pandas.testing instead.\n",
            "  import pandas.util.testing as tm\n"
          ]
        }
      ]
    },
    {
      "cell_type": "markdown",
      "source": [
        "## Import the Data"
      ],
      "metadata": {
        "id": "rS1jCPnAT3KZ"
      }
    },
    {
      "cell_type": "code",
      "source": [
        "## mount the google drive to fetch the data\n",
        "from google.colab import drive\n",
        "drive.mount('/content/drive')"
      ],
      "metadata": {
        "colab": {
          "base_uri": "https://localhost:8080/"
        },
        "id": "TEyKjk_SUD7f",
        "outputId": "d82daabc-eda1-45a8-d5f2-580c207ae7b9"
      },
      "execution_count": 2,
      "outputs": [
        {
          "output_type": "stream",
          "name": "stdout",
          "text": [
            "Mounted at /content/drive\n"
          ]
        }
      ]
    },
    {
      "cell_type": "code",
      "source": [
        "## load the dataset\n",
        "raw_csv_data = pd.read_csv('/content/drive/MyDrive/Data Science/Time Series/Index2018.csv')\n",
        "raw_csv_data.head()"
      ],
      "metadata": {
        "colab": {
          "base_uri": "https://localhost:8080/",
          "height": 206
        },
        "id": "bDNQFjpsUIG7",
        "outputId": "a9a7080c-ca00-4e2b-842b-5be84417b6c9"
      },
      "execution_count": 3,
      "outputs": [
        {
          "output_type": "execute_result",
          "data": {
            "text/plain": [
              "         date     spx      dax     ftse    nikkei\n",
              "0  07/01/1994  469.90  2224.95  3445.98  18124.01\n",
              "1  10/01/1994  475.27  2225.00  3440.58  18443.44\n",
              "2  11/01/1994  474.13  2228.10  3413.77  18485.25\n",
              "3  12/01/1994  474.17  2182.06  3372.02  18793.88\n",
              "4  13/01/1994  472.47  2142.37  3360.01  18577.26"
            ],
            "text/html": [
              "\n",
              "  <div id=\"df-a236233d-fe81-4dae-a8a2-f2e59875ba32\">\n",
              "    <div class=\"colab-df-container\">\n",
              "      <div>\n",
              "<style scoped>\n",
              "    .dataframe tbody tr th:only-of-type {\n",
              "        vertical-align: middle;\n",
              "    }\n",
              "\n",
              "    .dataframe tbody tr th {\n",
              "        vertical-align: top;\n",
              "    }\n",
              "\n",
              "    .dataframe thead th {\n",
              "        text-align: right;\n",
              "    }\n",
              "</style>\n",
              "<table border=\"1\" class=\"dataframe\">\n",
              "  <thead>\n",
              "    <tr style=\"text-align: right;\">\n",
              "      <th></th>\n",
              "      <th>date</th>\n",
              "      <th>spx</th>\n",
              "      <th>dax</th>\n",
              "      <th>ftse</th>\n",
              "      <th>nikkei</th>\n",
              "    </tr>\n",
              "  </thead>\n",
              "  <tbody>\n",
              "    <tr>\n",
              "      <th>0</th>\n",
              "      <td>07/01/1994</td>\n",
              "      <td>469.90</td>\n",
              "      <td>2224.95</td>\n",
              "      <td>3445.98</td>\n",
              "      <td>18124.01</td>\n",
              "    </tr>\n",
              "    <tr>\n",
              "      <th>1</th>\n",
              "      <td>10/01/1994</td>\n",
              "      <td>475.27</td>\n",
              "      <td>2225.00</td>\n",
              "      <td>3440.58</td>\n",
              "      <td>18443.44</td>\n",
              "    </tr>\n",
              "    <tr>\n",
              "      <th>2</th>\n",
              "      <td>11/01/1994</td>\n",
              "      <td>474.13</td>\n",
              "      <td>2228.10</td>\n",
              "      <td>3413.77</td>\n",
              "      <td>18485.25</td>\n",
              "    </tr>\n",
              "    <tr>\n",
              "      <th>3</th>\n",
              "      <td>12/01/1994</td>\n",
              "      <td>474.17</td>\n",
              "      <td>2182.06</td>\n",
              "      <td>3372.02</td>\n",
              "      <td>18793.88</td>\n",
              "    </tr>\n",
              "    <tr>\n",
              "      <th>4</th>\n",
              "      <td>13/01/1994</td>\n",
              "      <td>472.47</td>\n",
              "      <td>2142.37</td>\n",
              "      <td>3360.01</td>\n",
              "      <td>18577.26</td>\n",
              "    </tr>\n",
              "  </tbody>\n",
              "</table>\n",
              "</div>\n",
              "      <button class=\"colab-df-convert\" onclick=\"convertToInteractive('df-a236233d-fe81-4dae-a8a2-f2e59875ba32')\"\n",
              "              title=\"Convert this dataframe to an interactive table.\"\n",
              "              style=\"display:none;\">\n",
              "        \n",
              "  <svg xmlns=\"http://www.w3.org/2000/svg\" height=\"24px\"viewBox=\"0 0 24 24\"\n",
              "       width=\"24px\">\n",
              "    <path d=\"M0 0h24v24H0V0z\" fill=\"none\"/>\n",
              "    <path d=\"M18.56 5.44l.94 2.06.94-2.06 2.06-.94-2.06-.94-.94-2.06-.94 2.06-2.06.94zm-11 1L8.5 8.5l.94-2.06 2.06-.94-2.06-.94L8.5 2.5l-.94 2.06-2.06.94zm10 10l.94 2.06.94-2.06 2.06-.94-2.06-.94-.94-2.06-.94 2.06-2.06.94z\"/><path d=\"M17.41 7.96l-1.37-1.37c-.4-.4-.92-.59-1.43-.59-.52 0-1.04.2-1.43.59L10.3 9.45l-7.72 7.72c-.78.78-.78 2.05 0 2.83L4 21.41c.39.39.9.59 1.41.59.51 0 1.02-.2 1.41-.59l7.78-7.78 2.81-2.81c.8-.78.8-2.07 0-2.86zM5.41 20L4 18.59l7.72-7.72 1.47 1.35L5.41 20z\"/>\n",
              "  </svg>\n",
              "      </button>\n",
              "      \n",
              "  <style>\n",
              "    .colab-df-container {\n",
              "      display:flex;\n",
              "      flex-wrap:wrap;\n",
              "      gap: 12px;\n",
              "    }\n",
              "\n",
              "    .colab-df-convert {\n",
              "      background-color: #E8F0FE;\n",
              "      border: none;\n",
              "      border-radius: 50%;\n",
              "      cursor: pointer;\n",
              "      display: none;\n",
              "      fill: #1967D2;\n",
              "      height: 32px;\n",
              "      padding: 0 0 0 0;\n",
              "      width: 32px;\n",
              "    }\n",
              "\n",
              "    .colab-df-convert:hover {\n",
              "      background-color: #E2EBFA;\n",
              "      box-shadow: 0px 1px 2px rgba(60, 64, 67, 0.3), 0px 1px 3px 1px rgba(60, 64, 67, 0.15);\n",
              "      fill: #174EA6;\n",
              "    }\n",
              "\n",
              "    [theme=dark] .colab-df-convert {\n",
              "      background-color: #3B4455;\n",
              "      fill: #D2E3FC;\n",
              "    }\n",
              "\n",
              "    [theme=dark] .colab-df-convert:hover {\n",
              "      background-color: #434B5C;\n",
              "      box-shadow: 0px 1px 3px 1px rgba(0, 0, 0, 0.15);\n",
              "      filter: drop-shadow(0px 1px 2px rgba(0, 0, 0, 0.3));\n",
              "      fill: #FFFFFF;\n",
              "    }\n",
              "  </style>\n",
              "\n",
              "      <script>\n",
              "        const buttonEl =\n",
              "          document.querySelector('#df-a236233d-fe81-4dae-a8a2-f2e59875ba32 button.colab-df-convert');\n",
              "        buttonEl.style.display =\n",
              "          google.colab.kernel.accessAllowed ? 'block' : 'none';\n",
              "\n",
              "        async function convertToInteractive(key) {\n",
              "          const element = document.querySelector('#df-a236233d-fe81-4dae-a8a2-f2e59875ba32');\n",
              "          const dataTable =\n",
              "            await google.colab.kernel.invokeFunction('convertToInteractive',\n",
              "                                                     [key], {});\n",
              "          if (!dataTable) return;\n",
              "\n",
              "          const docLinkHtml = 'Like what you see? Visit the ' +\n",
              "            '<a target=\"_blank\" href=https://colab.research.google.com/notebooks/data_table.ipynb>data table notebook</a>'\n",
              "            + ' to learn more about interactive tables.';\n",
              "          element.innerHTML = '';\n",
              "          dataTable['output_type'] = 'display_data';\n",
              "          await google.colab.output.renderOutput(dataTable, element);\n",
              "          const docLink = document.createElement('div');\n",
              "          docLink.innerHTML = docLinkHtml;\n",
              "          element.appendChild(docLink);\n",
              "        }\n",
              "      </script>\n",
              "    </div>\n",
              "  </div>\n",
              "  "
            ]
          },
          "metadata": {},
          "execution_count": 3
        }
      ]
    },
    {
      "cell_type": "code",
      "source": [
        "## transforming the dataset\n",
        "df_comp = raw_csv_data.copy()\n",
        "df_comp.date = pd.to_datetime(df_comp.date, dayfirst=True)\n",
        "df_comp.set_index(\"date\", inplace=True)\n",
        "df_comp = df_comp.asfreq('b') # business days as frequency\n",
        "df_comp = df_comp.fillna(method='ffill')"
      ],
      "metadata": {
        "id": "QEhsiewOUS69"
      },
      "execution_count": 4,
      "outputs": []
    },
    {
      "cell_type": "code",
      "source": [
        "df_comp['market_value'] = df_comp.ftse"
      ],
      "metadata": {
        "id": "fWdyfH5qUX-7"
      },
      "execution_count": 5,
      "outputs": []
    },
    {
      "cell_type": "code",
      "source": [
        "del df_comp['spx'], df_comp['dax'], df_comp['ftse'], df_comp['nikkei']"
      ],
      "metadata": {
        "id": "MUOw5MEMUcjn"
      },
      "execution_count": 6,
      "outputs": []
    },
    {
      "cell_type": "markdown",
      "source": [
        "## Splitting the Training and Testing Set"
      ],
      "metadata": {
        "id": "56gNkbCyUf5N"
      }
    },
    {
      "cell_type": "code",
      "source": [
        "size = int(len(df_comp) * 0.8)\n",
        "df, df_test = df_comp.iloc[:size], df_comp.iloc[size:]"
      ],
      "metadata": {
        "id": "kdPtXEKbUraJ"
      },
      "execution_count": 7,
      "outputs": []
    },
    {
      "cell_type": "markdown",
      "source": [
        "## The Dickey-Fuller Test"
      ],
      "metadata": {
        "id": "BDEyAhN-Uv21"
      }
    },
    {
      "cell_type": "code",
      "source": [
        "sts.adfuller(df.market_value)"
      ],
      "metadata": {
        "colab": {
          "base_uri": "https://localhost:8080/"
        },
        "id": "jW33YFPJU29_",
        "outputId": "d26e6cb8-5e1f-42a3-ead3-e977091a0bd0"
      },
      "execution_count": 8,
      "outputs": [
        {
          "output_type": "execute_result",
          "data": {
            "text/plain": [
              "(-1.9041551418836864,\n",
              " 0.33010893277028336,\n",
              " 6,\n",
              " 5014,\n",
              " {'1%': -3.4316548765428174,\n",
              "  '10%': -2.5670769326348926,\n",
              "  '5%': -2.8621166146845334},\n",
              " 54854.15304507557)"
            ]
          },
          "metadata": {},
          "execution_count": 8
        }
      ]
    },
    {
      "cell_type": "markdown",
      "source": [
        "## The ACF and the PACF"
      ],
      "metadata": {
        "id": "F2j89ghtVGa1"
      }
    },
    {
      "cell_type": "code",
      "source": [
        "sgt.plot_acf(df.market_value, zero=False, lags=40)\n",
        "plt.title('ACF for Prices', size=24)\n",
        "plt.show()"
      ],
      "metadata": {
        "colab": {
          "base_uri": "https://localhost:8080/",
          "height": 293
        },
        "id": "eoibWKHsVRQ0",
        "outputId": "a3ba01c2-c7e7-431f-a8ec-ea0de5a2583b"
      },
      "execution_count": 9,
      "outputs": [
        {
          "output_type": "display_data",
          "data": {
            "text/plain": [
              "<Figure size 432x288 with 1 Axes>"
            ],
            "image/png": "[encoded data removed]"
          },
          "metadata": {
            "needs_background": "light"
          }
        }
      ]
    },
    {
      "cell_type": "code",
      "source": [
        "sgt.plot_pacf(df.market_value, zero=False, lags=40, alpha=0.5, method=('ols'))\n",
        "plt.title('PACF for Prices', size=24)\n",
        "plt.show()"
      ],
      "metadata": {
        "colab": {
          "base_uri": "https://localhost:8080/",
          "height": 293
        },
        "id": "jWnHAsvKVTeo",
        "outputId": "93799a4e-cf5f-43fa-889e-048b21eee2a5"
      },
      "execution_count": 10,
      "outputs": [
        {
          "output_type": "display_data",
          "data": {
            "text/plain": [
              "<Figure size 432x288 with 1 Axes>"
            ],
            "image/png": "[encoded data removed]"
          },
          "metadata": {
            "needs_background": "light"
          }
        }
      ]
    },
    {
      "cell_type": "markdown",
      "source": [
        "## Using Returns\n",
        "\n",
        "returns -> the % change between the values for 2 consecutive periods."
      ],
      "metadata": {
        "id": "822bhAo3VXv0"
      }
    },
    {
      "cell_type": "code",
      "source": [
        "df['returns'] = df.market_value.pct_change(1).mul(100) ## mul 100 used to make it percentage"
      ],
      "metadata": {
        "colab": {
          "base_uri": "https://localhost:8080/"
        },
        "id": "CRviTqqYVkqT",
        "outputId": "3e0a2b73-39dd-4ef3-806a-eb90d8a3a51c"
      },
      "execution_count": 11,
      "outputs": [
        {
          "output_type": "stream",
          "name": "stderr",
          "text": [
            "/usr/local/lib/python3.7/dist-packages/ipykernel_launcher.py:1: SettingWithCopyWarning: \n",
            "A value is trying to be set on a copy of a slice from a DataFrame.\n",
            "Try using .loc[row_indexer,col_indexer] = value instead\n",
            "\n",
            "See the caveats in the documentation: https://pandas.pydata.org/pandas-docs/stable/user_guide/indexing.html#returning-a-view-versus-a-copy\n",
            "  \"\"\"Entry point for launching an IPython kernel.\n"
          ]
        }
      ]
    },
    {
      "cell_type": "markdown",
      "source": [
        "## The Log-Likelihood Test"
      ],
      "metadata": {
        "id": "IKunC0_gVolo"
      }
    },
    {
      "cell_type": "code",
      "source": [
        "def llr_test(mod_1, mod_2, DF=1):\n",
        "   \"\"\" mod_1, mod_2= models to compare, df=degrees of freedom\"\"\"\n",
        "   L1 = mod_1.fit(trend='nc').llf ## Add trend='ct'\n",
        "   L2 = mod_2.fit(trend='nc').llf ## log likelihood\n",
        "   LR = (2*(L2-L1)) ## test statistics\n",
        "   p = chi2.sf(LR, DF).round(3) ## p-value\n",
        "   return p"
      ],
      "metadata": {
        "id": "MZ_N9R0jVzti"
      },
      "execution_count": 12,
      "outputs": []
    },
    {
      "cell_type": "markdown",
      "source": [
        "## ARMA(1,1)"
      ],
      "metadata": {
        "id": "6uXXZ4ovsgSp"
      }
    },
    {
      "cell_type": "code",
      "source": [
        "model_ret_ar_1_ma_1 = ARMA(df.returns[1:], order=(1,1))\n",
        "results_ret_ar1_ma1 = model_ret_ar_1_ma_1.fit()\n",
        "print(results_ret_ar1_ma1.summary())"
      ],
      "metadata": {
        "id": "R3zDPFQysuX6",
        "outputId": "c62212fb-2b5f-4089-8129-78cbdc6635ca",
        "colab": {
          "base_uri": "https://localhost:8080/"
        }
      },
      "execution_count": 13,
      "outputs": [
        {
          "output_type": "stream",
          "name": "stdout",
          "text": [
            "                              ARMA Model Results                              \n",
            "==============================================================================\n",
            "Dep. Variable:                returns   No. Observations:                 5020\n",
            "Model:                     ARMA(1, 1)   Log Likelihood               -7916.500\n",
            "Method:                       css-mle   S.D. of innovations              1.171\n",
            "Date:                Tue, 02 Aug 2022   AIC                          15841.000\n",
            "Time:                        07:03:56   BIC                          15867.085\n",
            "Sample:                    01-10-1994   HQIC                         15850.140\n",
            "                         - 04-05-2013                                         \n",
            "=================================================================================\n",
            "                    coef    std err          z      P>|z|      [0.025      0.975]\n",
            "---------------------------------------------------------------------------------\n",
            "const             0.0189      0.013      1.446      0.148      -0.007       0.045\n",
            "ar.L1.returns     0.7649      0.067     11.349      0.000       0.633       0.897\n",
            "ma.L1.returns    -0.8141      0.061    -13.406      0.000      -0.933      -0.695\n",
            "                                    Roots                                    \n",
            "=============================================================================\n",
            "                  Real          Imaginary           Modulus         Frequency\n",
            "-----------------------------------------------------------------------------\n",
            "AR.1            1.3074           +0.0000j            1.3074            0.0000\n",
            "MA.1            1.2284           +0.0000j            1.2284            0.0000\n",
            "-----------------------------------------------------------------------------\n"
          ]
        }
      ]
    },
    {
      "cell_type": "markdown",
      "source": [
        "The **constant** is significantly different from 0(zero). Since we are using **Returns** it is reasonable to centre around 0 and that is totally acceptable.\n",
        "\n",
        "Next we see Auto-Regressive is positive and Moving Average is negative. AR is **76%** positive which means a positive tendency between past and present values. Returns move in trends of consecutive positive or negative values.\n",
        "This leads to periods of persistent increase or decreases when tranlated to prices.\n",
        "\n",
        "The **negative** coefficients of MA are slightly harder to interpret, it suggests we should be moving away from the past period(t-1) values rather than trying to using them as targets for calibration. We want to prevent our targets from moving, before we have accounted for them.\n",
        "\n",
        "\n"
      ],
      "metadata": {
        "id": "SU_t7a5etJr2"
      }
    },
    {
      "cell_type": "markdown",
      "source": [
        "Since the ARMA is simultaneously an extension of AR(1) and MA(1) we sould execute the Log-Likeligood test to determine iof it is a better predictor."
      ],
      "metadata": {
        "id": "sGYB3JjUwT2N"
      }
    },
    {
      "cell_type": "code",
      "source": [
        "##LLR test for the AR(1) and MA(1) both individually\n",
        "\n",
        "model_ret_ar_1 = ARMA(df.returns[1:], order=(1,0))\n",
        "model_ret_ma_1 = ARMA(df.returns[1:], order=(0,1))"
      ],
      "metadata": {
        "id": "AorB2Zaaw6-7"
      },
      "execution_count": 14,
      "outputs": []
    },
    {
      "cell_type": "code",
      "source": [
        "print(\"\\nARMA VS AR\", llr_test(model_ret_ar_1, model_ret_ar_1_ma_1))\n",
        "print(\"\\nARMA VS MA\", llr_test(model_ret_ma_1, model_ret_ar_1_ma_1))"
      ],
      "metadata": {
        "id": "FFQWbT4JyAs5",
        "outputId": "964c84ee-2d8d-4428-a1ea-0c298fafd0eb",
        "colab": {
          "base_uri": "https://localhost:8080/"
        }
      },
      "execution_count": 15,
      "outputs": [
        {
          "output_type": "stream",
          "name": "stdout",
          "text": [
            "\n",
            "ARMA VS AR 0.0\n",
            "\n",
            "ARMA VS MA 0.0\n"
          ]
        }
      ]
    },
    {
      "cell_type": "markdown",
      "source": [
        "**NOTE :-** In the Log-Likelihood function **trend** changed to 'nc' worked."
      ],
      "metadata": {
        "id": "kHTGuMT0yptI"
      }
    },
    {
      "cell_type": "markdown",
      "source": [
        "## Higer-Lag ARMA Models"
      ],
      "metadata": {
        "id": "ybrhe692zd8k"
      }
    },
    {
      "cell_type": "code",
      "source": [
        "model_ret_ar_3_ma_3 = ARMA(df.returns[1:], order=(3,3))\n",
        "results_ret_ar_3_ma_3 = model_ret_ar_3_ma_3.fit()\n",
        "print(results_ret_ar_3_ma_3.summary())\n",
        "print(\"\\nLLR test p-value\", llr_test(model_ret_ar_1_ma_1, model_ret_ar_3_ma_3, DF=4))"
      ],
      "metadata": {
        "id": "CdB4DfC0ToEb",
        "outputId": "ad12eee0-cca2-4cbe-e6b7-b663463d5926",
        "colab": {
          "base_uri": "https://localhost:8080/"
        }
      },
      "execution_count": 16,
      "outputs": [
        {
          "output_type": "stream",
          "name": "stdout",
          "text": [
            "                              ARMA Model Results                              \n",
            "==============================================================================\n",
            "Dep. Variable:                returns   No. Observations:                 5020\n",
            "Model:                     ARMA(3, 3)   Log Likelihood               -7893.515\n",
            "Method:                       css-mle   S.D. of innovations              1.166\n",
            "Date:                Tue, 02 Aug 2022   AIC                          15803.030\n",
            "Time:                        07:04:01   BIC                          15855.199\n",
            "Sample:                    01-10-1994   HQIC                         15821.310\n",
            "                         - 04-05-2013                                         \n",
            "=================================================================================\n",
            "                    coef    std err          z      P>|z|      [0.025      0.975]\n",
            "---------------------------------------------------------------------------------\n",
            "const             0.0189      0.014      1.395      0.163      -0.008       0.045\n",
            "ar.L1.returns    -0.1898      0.104     -1.827      0.068      -0.393       0.014\n",
            "ar.L2.returns    -0.2942      0.087     -3.389      0.001      -0.464      -0.124\n",
            "ar.L3.returns     0.4459      0.138      3.225      0.001       0.175       0.717\n",
            "ma.L1.returns     0.1707      0.099      1.726      0.084      -0.023       0.365\n",
            "ma.L2.returns     0.2277      0.084      2.701      0.007       0.062       0.393\n",
            "ma.L3.returns    -0.5432      0.127     -4.270      0.000      -0.793      -0.294\n",
            "                                    Roots                                    \n",
            "=============================================================================\n",
            "                  Real          Imaginary           Modulus         Frequency\n",
            "-----------------------------------------------------------------------------\n",
            "AR.1           -0.5168           -1.0283j            1.1508           -0.3241\n",
            "AR.2           -0.5168           +1.0283j            1.1508            0.3241\n",
            "AR.3            1.6932           -0.0000j            1.6932           -0.0000\n",
            "MA.1           -0.5286           -0.9835j            1.1166           -0.3285\n",
            "MA.2           -0.5286           +0.9835j            1.1166            0.3285\n",
            "MA.3            1.4764           -0.0000j            1.4764           -0.0000\n",
            "-----------------------------------------------------------------------------\n",
            "\n",
            "LLR test p-value 0.0\n"
          ]
        }
      ]
    },
    {
      "cell_type": "code",
      "source": [
        "model_ret_ar_3_ma_2 = ARMA(df.returns[1:], order=(3,2))\n",
        "results_ret_ar_3_ma_2 = model_ret_ar_3_ma_2.fit()\n",
        "print(results_ret_ar_3_ma_2.summary())"
      ],
      "metadata": {
        "id": "32MGgsiOUIgX",
        "outputId": "ccc70d92-29f9-4487-da2c-650f26f41259",
        "colab": {
          "base_uri": "https://localhost:8080/"
        }
      },
      "execution_count": 17,
      "outputs": [
        {
          "output_type": "stream",
          "name": "stdout",
          "text": [
            "                              ARMA Model Results                              \n",
            "==============================================================================\n",
            "Dep. Variable:                returns   No. Observations:                 5020\n",
            "Model:                     ARMA(3, 2)   Log Likelihood               -7895.747\n",
            "Method:                       css-mle   S.D. of innovations              1.166\n",
            "Date:                Tue, 02 Aug 2022   AIC                          15805.495\n",
            "Time:                        07:04:06   BIC                          15851.143\n",
            "Sample:                    01-10-1994   HQIC                         15821.491\n",
            "                         - 04-05-2013                                         \n",
            "=================================================================================\n",
            "                    coef    std err          z      P>|z|      [0.025      0.975]\n",
            "---------------------------------------------------------------------------------\n",
            "const             0.0188      0.015      1.251      0.211      -0.011       0.048\n",
            "ar.L1.returns    -0.6785      0.087     -7.799      0.000      -0.849      -0.508\n",
            "ar.L2.returns    -0.5088      0.139     -3.670      0.000      -0.780      -0.237\n",
            "ar.L3.returns    -0.1141      0.015     -7.655      0.000      -0.143      -0.085\n",
            "ma.L1.returns     0.6568      0.087      7.536      0.000       0.486       0.828\n",
            "ma.L2.returns     0.4474      0.141      3.175      0.002       0.171       0.724\n",
            "                                    Roots                                    \n",
            "=============================================================================\n",
            "                  Real          Imaginary           Modulus         Frequency\n",
            "-----------------------------------------------------------------------------\n",
            "AR.1           -0.4929           -1.5101j            1.5885           -0.3002\n",
            "AR.2           -0.4929           +1.5101j            1.5885            0.3002\n",
            "AR.3           -3.4748           -0.0000j            3.4748           -0.5000\n",
            "MA.1           -0.7340           -1.3025j            1.4951           -0.3317\n",
            "MA.2           -0.7340           +1.3025j            1.4951            0.3317\n",
            "-----------------------------------------------------------------------------\n"
          ]
        }
      ]
    },
    {
      "cell_type": "markdown",
      "source": [
        "Returns in an efficient market should be close to 0 anyway.\n",
        "\n",
        "None of the p-values for this model are troublesome.\n",
        "\n",
        "The further back in time we go, the less relevant values and errors become."
      ],
      "metadata": {
        "id": "GkHMIbsyVi32"
      }
    },
    {
      "cell_type": "code",
      "source": [
        "model_ret_ar_2_ma_3 = ARMA(df.returns[1:], order=(2,3))\n",
        "results_ret_ar_2_ma_3 = model_ret_ar_2_ma_3.fit()\n",
        "print(results_ret_ar_2_ma_3.summary())"
      ],
      "metadata": {
        "id": "UXVk9dOaWUVX",
        "outputId": "74813570-9a4d-4612-f819-1abfdaca0bb0",
        "colab": {
          "base_uri": "https://localhost:8080/"
        }
      },
      "execution_count": 18,
      "outputs": [
        {
          "output_type": "stream",
          "name": "stdout",
          "text": [
            "                              ARMA Model Results                              \n",
            "==============================================================================\n",
            "Dep. Variable:                returns   No. Observations:                 5020\n",
            "Model:                     ARMA(2, 3)   Log Likelihood               -7895.587\n",
            "Method:                       css-mle   S.D. of innovations              1.166\n",
            "Date:                Tue, 02 Aug 2022   AIC                          15805.174\n",
            "Time:                        07:04:08   BIC                          15850.823\n",
            "Sample:                    01-10-1994   HQIC                         15821.170\n",
            "                         - 04-05-2013                                         \n",
            "=================================================================================\n",
            "                    coef    std err          z      P>|z|      [0.025      0.975]\n",
            "---------------------------------------------------------------------------------\n",
            "const             0.0189      0.015      1.276      0.202      -0.010       0.048\n",
            "ar.L1.returns    -0.5605      0.090     -6.245      0.000      -0.736      -0.385\n",
            "ar.L2.returns    -0.4187      0.193     -2.172      0.030      -0.797      -0.041\n",
            "ma.L1.returns     0.5378      0.090      6.000      0.000       0.362       0.714\n",
            "ma.L2.returns     0.3540      0.195      1.818      0.069      -0.028       0.736\n",
            "ma.L3.returns    -0.1158      0.016     -7.369      0.000      -0.147      -0.085\n",
            "                                    Roots                                    \n",
            "=============================================================================\n",
            "                  Real          Imaginary           Modulus         Frequency\n",
            "-----------------------------------------------------------------------------\n",
            "AR.1           -0.6694           -1.3930j            1.5455           -0.3213\n",
            "AR.2           -0.6694           +1.3930j            1.5455            0.3213\n",
            "MA.1           -0.7270           -1.1772j            1.3836           -0.3381\n",
            "MA.2           -0.7270           +1.1772j            1.3836            0.3381\n",
            "MA.3            4.5096           -0.0000j            4.5096           -0.0000\n",
            "-----------------------------------------------------------------------------\n"
          ]
        }
      ]
    },
    {
      "cell_type": "code",
      "source": [
        "print(\"\\nThe LLR test p-value: \", llr_test(model_ret_ar_2_ma_3, model_ret_ar_3_ma_3))"
      ],
      "metadata": {
        "id": "yhwK_JH165wH",
        "outputId": "b9bcd81d-686f-4d91-cbeb-329fbe1e15fa",
        "colab": {
          "base_uri": "https://localhost:8080/"
        }
      },
      "execution_count": 19,
      "outputs": [
        {
          "output_type": "stream",
          "name": "stdout",
          "text": [
            "\n",
            "The LLR test p-value:  0.05\n"
          ]
        }
      ]
    },
    {
      "cell_type": "code",
      "source": [
        "model_ret_ar_3_ma_1 = ARMA(df.returns[1:], order=(3,1))\n",
        "results_ret_ar_3_ma_1 = model_ret_ar_3_ma_1.fit()\n",
        "print(results_ret_ar_3_ma_1.summary())"
      ],
      "metadata": {
        "id": "4WPgHGe17OSS",
        "outputId": "95446956-3a1c-4c4e-eac4-4ca783d362e2",
        "colab": {
          "base_uri": "https://localhost:8080/"
        }
      },
      "execution_count": 20,
      "outputs": [
        {
          "output_type": "stream",
          "name": "stdout",
          "text": [
            "                              ARMA Model Results                              \n",
            "==============================================================================\n",
            "Dep. Variable:                returns   No. Observations:                 5020\n",
            "Model:                     ARMA(3, 1)   Log Likelihood               -7899.072\n",
            "Method:                       css-mle   S.D. of innovations              1.167\n",
            "Date:                Tue, 02 Aug 2022   AIC                          15810.144\n",
            "Time:                        07:04:12   BIC                          15849.271\n",
            "Sample:                    01-10-1994   HQIC                         15823.855\n",
            "                         - 04-05-2013                                         \n",
            "=================================================================================\n",
            "                    coef    std err          z      P>|z|      [0.025      0.975]\n",
            "---------------------------------------------------------------------------------\n",
            "const             0.0189      0.015      1.298      0.194      -0.010       0.047\n",
            "ar.L1.returns    -0.5077      0.088     -5.769      0.000      -0.680      -0.335\n",
            "ar.L2.returns    -0.0638      0.016     -4.023      0.000      -0.095      -0.033\n",
            "ar.L3.returns    -0.1102      0.014     -7.850      0.000      -0.138      -0.083\n",
            "ma.L1.returns     0.4838      0.088      5.500      0.000       0.311       0.656\n",
            "                                    Roots                                    \n",
            "=============================================================================\n",
            "                  Real          Imaginary           Modulus         Frequency\n",
            "-----------------------------------------------------------------------------\n",
            "AR.1           -1.5095           -0.0000j            1.5095           -0.5000\n",
            "AR.2            0.4653           -2.4076j            2.4521           -0.2196\n",
            "AR.3            0.4653           +2.4076j            2.4521            0.2196\n",
            "MA.1           -2.0668           +0.0000j            2.0668            0.5000\n",
            "-----------------------------------------------------------------------------\n"
          ]
        }
      ]
    },
    {
      "cell_type": "markdown",
      "source": [
        "From the above model we can see :\n",
        "\n",
        "All the p-values apart from the constant are 0(zero), they are significant.\n",
        "\n",
        "All the MA components has positive coefficients.\n",
        "\n",
        "All the AR components has negative coefficients."
      ],
      "metadata": {
        "id": "PmEMZSgF7fAu"
      }
    },
    {
      "cell_type": "code",
      "source": [
        "print(\"\\nThe LLR test p-value : \", llr_test(model_ret_ar_3_ma_1, model_ret_ar_3_ma_2))"
      ],
      "metadata": {
        "id": "z3KDI4aB8jK9",
        "outputId": "6cbea0a0-1d67-4365-e522-23e142196edb",
        "colab": {
          "base_uri": "https://localhost:8080/"
        }
      },
      "execution_count": 21,
      "outputs": [
        {
          "output_type": "stream",
          "name": "stdout",
          "text": [
            "\n",
            "The LLR test p-value :  0.009\n"
          ]
        }
      ]
    },
    {
      "cell_type": "code",
      "source": [
        "model_ret_ar_2_ma_2 = ARMA(df.returns[1:], order=(2,2))\n",
        "results_ret_ar_2_ma_2 = model_ret_ar_2_ma_2.fit()\n",
        "print(results_ret_ar_2_ma_2.summary())"
      ],
      "metadata": {
        "id": "8BE8R3zf8yxl",
        "outputId": "c55983c5-7839-4c6f-8ef0-7493c051f08a",
        "colab": {
          "base_uri": "https://localhost:8080/"
        }
      },
      "execution_count": 22,
      "outputs": [
        {
          "output_type": "stream",
          "name": "stdout",
          "text": [
            "                              ARMA Model Results                              \n",
            "==============================================================================\n",
            "Dep. Variable:                returns   No. Observations:                 5020\n",
            "Model:                     ARMA(2, 2)   Log Likelihood               -7913.223\n",
            "Method:                       css-mle   S.D. of innovations              1.170\n",
            "Date:                Tue, 02 Aug 2022   AIC                          15838.446\n",
            "Time:                        07:04:16   BIC                          15877.573\n",
            "Sample:                    01-10-1994   HQIC                         15852.156\n",
            "                         - 04-05-2013                                         \n",
            "=================================================================================\n",
            "                    coef    std err          z      P>|z|      [0.025      0.975]\n",
            "---------------------------------------------------------------------------------\n",
            "const             0.0189      0.014      1.394      0.163      -0.008       0.045\n",
            "ar.L1.returns     0.7820      0.238      3.284      0.001       0.315       1.249\n",
            "ar.L2.returns    -0.1563      0.177     -0.884      0.377      -0.503       0.190\n",
            "ma.L1.returns    -0.8104      0.239     -3.388      0.001      -1.279      -0.342\n",
            "ma.L2.returns     0.1177      0.187      0.628      0.530      -0.250       0.485\n",
            "                                    Roots                                    \n",
            "=============================================================================\n",
            "                  Real          Imaginary           Modulus         Frequency\n",
            "-----------------------------------------------------------------------------\n",
            "AR.1            2.5018           -0.3737j            2.5295           -0.0236\n",
            "AR.2            2.5018           +0.3737j            2.5295            0.0236\n",
            "MA.1            1.6107           +0.0000j            1.6107            0.0000\n",
            "MA.2            5.2742           +0.0000j            5.2742            0.0000\n",
            "-----------------------------------------------------------------------------\n"
          ]
        }
      ]
    },
    {
      "cell_type": "markdown",
      "source": [
        "From the above model we can see :\n",
        "\n",
        "2 of it's parameter coefficients are not significant **(0.377  and 0.530)**\n",
        "\n",
        "Interestingly both non-significant coefficients are associated with the 2nd lag.\n",
        "\n",
        "This shows that simpler models like the ARMA(1,2) or the ARMA(2,1) would outperform it ARMA(2,2).\n"
      ],
      "metadata": {
        "id": "8KIxA10Y9RMd"
      }
    },
    {
      "cell_type": "code",
      "source": [
        "## Let's move with ARMA(1,3)\n",
        "model_ret_ar_1_ma_3 = ARMA(df.returns[1:], order=(1,3))\n",
        "results_ret_ar_1_ma_3 = model_ret_ar_1_ma_3.fit()\n",
        "print(results_ret_ar_1_ma_3.summary())"
      ],
      "metadata": {
        "id": "no_pCVeo-kx7",
        "outputId": "63928572-2b42-4760-9a9e-ff662eac005d",
        "colab": {
          "base_uri": "https://localhost:8080/"
        }
      },
      "execution_count": 23,
      "outputs": [
        {
          "output_type": "stream",
          "name": "stdout",
          "text": [
            "                              ARMA Model Results                              \n",
            "==============================================================================\n",
            "Dep. Variable:                returns   No. Observations:                 5020\n",
            "Model:                     ARMA(1, 3)   Log Likelihood               -7896.838\n",
            "Method:                       css-mle   S.D. of innovations              1.167\n",
            "Date:                Tue, 02 Aug 2022   AIC                          15805.676\n",
            "Time:                        07:04:17   BIC                          15844.803\n",
            "Sample:                    01-10-1994   HQIC                         15819.386\n",
            "                         - 04-05-2013                                         \n",
            "=================================================================================\n",
            "                    coef    std err          z      P>|z|      [0.025      0.975]\n",
            "---------------------------------------------------------------------------------\n",
            "const             0.0189      0.014      1.332      0.183      -0.009       0.047\n",
            "ar.L1.returns    -0.4699      0.096     -4.901      0.000      -0.658      -0.282\n",
            "ma.L1.returns     0.4474      0.095      4.691      0.000       0.260       0.634\n",
            "ma.L2.returns    -0.0637      0.015     -4.113      0.000      -0.094      -0.033\n",
            "ma.L3.returns    -0.1182      0.014     -8.200      0.000      -0.146      -0.090\n",
            "                                    Roots                                    \n",
            "=============================================================================\n",
            "                  Real          Imaginary           Modulus         Frequency\n",
            "-----------------------------------------------------------------------------\n",
            "AR.1           -2.1282           +0.0000j            2.1282            0.5000\n",
            "MA.1           -1.4882           -1.1206j            1.8629           -0.3973\n",
            "MA.2           -1.4882           +1.1206j            1.8629            0.3973\n",
            "MA.3            2.4376           -0.0000j            2.4376           -0.0000\n",
            "-----------------------------------------------------------------------------\n"
          ]
        }
      ]
    },
    {
      "cell_type": "markdown",
      "source": [
        "The p-value of the all 4 coefficients are significant.\n",
        "\n",
        "Usually we would go on to use the Log-likelihood ratio test here to compare it with the ARMA(3,2)\n",
        "\n",
        "ARMA(3,2) and ARMA(1,3) aren't nested."
      ],
      "metadata": {
        "id": "VoPfBSdO-zvi"
      }
    },
    {
      "cell_type": "markdown",
      "source": [
        "**Nested Models**\n",
        "\n",
        "Let's say there are two models **ARMA(P1,Q1)** and **ARMA(P2,Q2)**.\n",
        "\n",
        "Model ARMA(p2,Q2) is nested if 3 conditions are satisfied :\n",
        "\n",
        "1. P1 + Q1 > P2 + Q2\n",
        "\n",
        "2. P1 >= P2\n",
        "\n",
        "3. Q1 >= Q2\n",
        "\n",
        "LLR test is possible if ARMA(P2,Q2) is nested."
      ],
      "metadata": {
        "id": "3pTEKP7j_eQY"
      }
    },
    {
      "cell_type": "code",
      "source": [
        "## print the 'llf' and information criterion AIC\n",
        "print(\"\\nARMA(3,2): LL = \", results_ret_ar_3_ma_2.llf, \"\\tAIC : \", results_ret_ar_3_ma_2.aic)\n",
        "print(\"\\nARMA(1,3): LL = \", results_ret_ar_1_ma_3.llf, \"\\tAIC : \", results_ret_ar_1_ma_3.aic)"
      ],
      "metadata": {
        "id": "25vJduvkaWnZ",
        "outputId": "63b5f73c-ec46-4b3c-e1da-0678792762c7",
        "colab": {
          "base_uri": "https://localhost:8080/"
        }
      },
      "execution_count": 25,
      "outputs": [
        {
          "output_type": "stream",
          "name": "stdout",
          "text": [
            "\n",
            "ARMA(3,2): LL =  -7895.747458514506 \tAIC :  15805.494917029013\n",
            "\n",
            "ARMA(1,3): LL =  -7896.837893752919 \tAIC :  15805.675787505837\n"
          ]
        }
      ]
    },
    {
      "cell_type": "markdown",
      "source": [
        "So the final conclusion is **ARMA(3,2)** is the best model :\n",
        "\n",
        "1)  All significant coefficients.\n",
        "\n",
        "2) Outpredicts all less complex alternatives."
      ],
      "metadata": {
        "id": "B6eao-L1boNK"
      }
    },
    {
      "cell_type": "markdown",
      "source": [
        "## Residuals for Returns"
      ],
      "metadata": {
        "id": "OAIPky2ZcOOY"
      }
    },
    {
      "cell_type": "code",
      "source": [
        "df['res_ret_ar_3_ma_2'] = results_ret_ar_3_ma_2.resid[1:]"
      ],
      "metadata": {
        "id": "6UurFZaQcqjK",
        "outputId": "b0c61d4f-fdc3-4f1e-da5c-6fe95db51918",
        "colab": {
          "base_uri": "https://localhost:8080/"
        }
      },
      "execution_count": 26,
      "outputs": [
        {
          "output_type": "stream",
          "name": "stderr",
          "text": [
            "/usr/local/lib/python3.7/dist-packages/ipykernel_launcher.py:1: SettingWithCopyWarning: \n",
            "A value is trying to be set on a copy of a slice from a DataFrame.\n",
            "Try using .loc[row_indexer,col_indexer] = value instead\n",
            "\n",
            "See the caveats in the documentation: https://pandas.pydata.org/pandas-docs/stable/user_guide/indexing.html#returning-a-view-versus-a-copy\n",
            "  \"\"\"Entry point for launching an IPython kernel.\n"
          ]
        }
      ]
    },
    {
      "cell_type": "code",
      "source": [
        "df.res_ret_ar_3_ma_2.plot(figsize=(20,5))\n",
        "plt.title(\"Residuals for Returns\", size=24)\n",
        "plt.show()"
      ],
      "metadata": {
        "id": "RRwkj5HvdXJJ",
        "outputId": "8efca6be-1524-4987-f8dd-8b449c5e1d78",
        "colab": {
          "base_uri": "https://localhost:8080/",
          "height": 364
        }
      },
      "execution_count": 27,
      "outputs": [
        {
          "output_type": "display_data",
          "data": {
            "text/plain": [
              "<Figure size 1440x360 with 1 Axes>"
            ],
            "image/png": "[encoded data removed]"
          },
          "metadata": {
            "needs_background": "light"
          }
        }
      ]
    },
    {
      "cell_type": "markdown",
      "source": [
        "The above plot shows the volatility in Returns might not be fully comprehendable if we use only ARMA models"
      ],
      "metadata": {
        "id": "VS6Hn2TjdrKU"
      }
    },
    {
      "cell_type": "code",
      "source": [
        ""
      ],
      "metadata": {
        "id": "-ehBA8PLd83x"
      },
      "execution_count": null,
      "outputs": []
    }
  ]
}
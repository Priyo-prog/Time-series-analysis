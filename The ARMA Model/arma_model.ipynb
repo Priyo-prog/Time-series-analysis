{
  "nbformat": 4,
  "nbformat_minor": 0,
  "metadata": {
    "colab": {
      "name": "arma_model.ipynb",
      "provenance": [],
      "authorship_tag": "ABX9TyPmcVmQ9g3cBIF7WLTmwUFh",
      "include_colab_link": true
    },
    "kernelspec": {
      "name": "python3",
      "display_name": "Python 3"
    },
    "language_info": {
      "name": "python"
    }
  },
  "cells": [
    {
      "cell_type": "markdown",
      "metadata": {
        "id": "view-in-github",
        "colab_type": "text"
      },
      "source": [
        "<a href=\"https://colab.research.google.com/github/Priyo-prog/Time-series-analysis/blob/main/The%20ARMA%20Model/arma_model.ipynb\" target=\"_parent\"><img src=\"https://colab.research.google.com/assets/colab-badge.svg\" alt=\"Open In Colab\"/></a>"
      ]
    },
    {
      "cell_type": "markdown",
      "source": [
        "#**The ARMA Model**"
      ],
      "metadata": {
        "id": "Dcv-AQV3RJLw"
      }
    },
    {
      "cell_type": "markdown",
      "source": [
        "## Import the Packages and Libraries"
      ],
      "metadata": {
        "id": "fjFlQqXaRQ4H"
      }
    },
    {
      "cell_type": "code",
      "source": [
        "import pandas as pd\n",
        "import numpy as np\n",
        "import matplotlib.pyplot as plt\n",
        "import statsmodels.graphics.tsaplots as sgt\n",
        "import statsmodels.tsa.stattools as sts\n",
        "from statsmodels.tsa.seasonal import seasonal_decompose\n",
        "from statsmodels.tsa.arima_model import ARMA\n",
        "from scipy.stats.distributions import chi2\n",
        "import seaborn as sns\n",
        "sns.set()"
      ],
      "metadata": {
        "id": "9JSJQLaHTt33"
      },
      "execution_count": 34,
      "outputs": []
    },
    {
      "cell_type": "markdown",
      "source": [
        "## Import the Data"
      ],
      "metadata": {
        "id": "rS1jCPnAT3KZ"
      }
    },
    {
      "cell_type": "code",
      "source": [
        "## mount the google drive to fetch the data\n",
        "from google.colab import drive\n",
        "drive.mount('/content/drive')"
      ],
      "metadata": {
        "colab": {
          "base_uri": "https://localhost:8080/"
        },
        "id": "TEyKjk_SUD7f",
        "outputId": "4c9fbab7-5735-4aa5-9a02-62bb7ea35f01"
      },
      "execution_count": 35,
      "outputs": [
        {
          "output_type": "stream",
          "name": "stdout",
          "text": [
            "Drive already mounted at /content/drive; to attempt to forcibly remount, call drive.mount(\"/content/drive\", force_remount=True).\n"
          ]
        }
      ]
    },
    {
      "cell_type": "code",
      "source": [
        "## load the dataset\n",
        "raw_csv_data = pd.read_csv('/content/drive/MyDrive/Data Science/Time Series/Index2018.csv')\n",
        "raw_csv_data.head()"
      ],
      "metadata": {
        "colab": {
          "base_uri": "https://localhost:8080/",
          "height": 206
        },
        "id": "bDNQFjpsUIG7",
        "outputId": "e82f338d-25e3-42de-8f68-bee70cb629d4"
      },
      "execution_count": 36,
      "outputs": [
        {
          "output_type": "execute_result",
          "data": {
            "text/plain": [
              "         date     spx      dax     ftse    nikkei\n",
              "0  07/01/1994  469.90  2224.95  3445.98  18124.01\n",
              "1  10/01/1994  475.27  2225.00  3440.58  18443.44\n",
              "2  11/01/1994  474.13  2228.10  3413.77  18485.25\n",
              "3  12/01/1994  474.17  2182.06  3372.02  18793.88\n",
              "4  13/01/1994  472.47  2142.37  3360.01  18577.26"
            ],
            "text/html": [
              "\n",
              "  <div id=\"df-14568725-7c7b-4c2c-8ade-3f782a962e96\">\n",
              "    <div class=\"colab-df-container\">\n",
              "      <div>\n",
              "<style scoped>\n",
              "    .dataframe tbody tr th:only-of-type {\n",
              "        vertical-align: middle;\n",
              "    }\n",
              "\n",
              "    .dataframe tbody tr th {\n",
              "        vertical-align: top;\n",
              "    }\n",
              "\n",
              "    .dataframe thead th {\n",
              "        text-align: right;\n",
              "    }\n",
              "</style>\n",
              "<table border=\"1\" class=\"dataframe\">\n",
              "  <thead>\n",
              "    <tr style=\"text-align: right;\">\n",
              "      <th></th>\n",
              "      <th>date</th>\n",
              "      <th>spx</th>\n",
              "      <th>dax</th>\n",
              "      <th>ftse</th>\n",
              "      <th>nikkei</th>\n",
              "    </tr>\n",
              "  </thead>\n",
              "  <tbody>\n",
              "    <tr>\n",
              "      <th>0</th>\n",
              "      <td>07/01/1994</td>\n",
              "      <td>469.90</td>\n",
              "      <td>2224.95</td>\n",
              "      <td>3445.98</td>\n",
              "      <td>18124.01</td>\n",
              "    </tr>\n",
              "    <tr>\n",
              "      <th>1</th>\n",
              "      <td>10/01/1994</td>\n",
              "      <td>475.27</td>\n",
              "      <td>2225.00</td>\n",
              "      <td>3440.58</td>\n",
              "      <td>18443.44</td>\n",
              "    </tr>\n",
              "    <tr>\n",
              "      <th>2</th>\n",
              "      <td>11/01/1994</td>\n",
              "      <td>474.13</td>\n",
              "      <td>2228.10</td>\n",
              "      <td>3413.77</td>\n",
              "      <td>18485.25</td>\n",
              "    </tr>\n",
              "    <tr>\n",
              "      <th>3</th>\n",
              "      <td>12/01/1994</td>\n",
              "      <td>474.17</td>\n",
              "      <td>2182.06</td>\n",
              "      <td>3372.02</td>\n",
              "      <td>18793.88</td>\n",
              "    </tr>\n",
              "    <tr>\n",
              "      <th>4</th>\n",
              "      <td>13/01/1994</td>\n",
              "      <td>472.47</td>\n",
              "      <td>2142.37</td>\n",
              "      <td>3360.01</td>\n",
              "      <td>18577.26</td>\n",
              "    </tr>\n",
              "  </tbody>\n",
              "</table>\n",
              "</div>\n",
              "      <button class=\"colab-df-convert\" onclick=\"convertToInteractive('df-14568725-7c7b-4c2c-8ade-3f782a962e96')\"\n",
              "              title=\"Convert this dataframe to an interactive table.\"\n",
              "              style=\"display:none;\">\n",
              "        \n",
              "  <svg xmlns=\"http://www.w3.org/2000/svg\" height=\"24px\"viewBox=\"0 0 24 24\"\n",
              "       width=\"24px\">\n",
              "    <path d=\"M0 0h24v24H0V0z\" fill=\"none\"/>\n",
              "    <path d=\"M18.56 5.44l.94 2.06.94-2.06 2.06-.94-2.06-.94-.94-2.06-.94 2.06-2.06.94zm-11 1L8.5 8.5l.94-2.06 2.06-.94-2.06-.94L8.5 2.5l-.94 2.06-2.06.94zm10 10l.94 2.06.94-2.06 2.06-.94-2.06-.94-.94-2.06-.94 2.06-2.06.94z\"/><path d=\"M17.41 7.96l-1.37-1.37c-.4-.4-.92-.59-1.43-.59-.52 0-1.04.2-1.43.59L10.3 9.45l-7.72 7.72c-.78.78-.78 2.05 0 2.83L4 21.41c.39.39.9.59 1.41.59.51 0 1.02-.2 1.41-.59l7.78-7.78 2.81-2.81c.8-.78.8-2.07 0-2.86zM5.41 20L4 18.59l7.72-7.72 1.47 1.35L5.41 20z\"/>\n",
              "  </svg>\n",
              "      </button>\n",
              "      \n",
              "  <style>\n",
              "    .colab-df-container {\n",
              "      display:flex;\n",
              "      flex-wrap:wrap;\n",
              "      gap: 12px;\n",
              "    }\n",
              "\n",
              "    .colab-df-convert {\n",
              "      background-color: #E8F0FE;\n",
              "      border: none;\n",
              "      border-radius: 50%;\n",
              "      cursor: pointer;\n",
              "      display: none;\n",
              "      fill: #1967D2;\n",
              "      height: 32px;\n",
              "      padding: 0 0 0 0;\n",
              "      width: 32px;\n",
              "    }\n",
              "\n",
              "    .colab-df-convert:hover {\n",
              "      background-color: #E2EBFA;\n",
              "      box-shadow: 0px 1px 2px rgba(60, 64, 67, 0.3), 0px 1px 3px 1px rgba(60, 64, 67, 0.15);\n",
              "      fill: #174EA6;\n",
              "    }\n",
              "\n",
              "    [theme=dark] .colab-df-convert {\n",
              "      background-color: #3B4455;\n",
              "      fill: #D2E3FC;\n",
              "    }\n",
              "\n",
              "    [theme=dark] .colab-df-convert:hover {\n",
              "      background-color: #434B5C;\n",
              "      box-shadow: 0px 1px 3px 1px rgba(0, 0, 0, 0.15);\n",
              "      filter: drop-shadow(0px 1px 2px rgba(0, 0, 0, 0.3));\n",
              "      fill: #FFFFFF;\n",
              "    }\n",
              "  </style>\n",
              "\n",
              "      <script>\n",
              "        const buttonEl =\n",
              "          document.querySelector('#df-14568725-7c7b-4c2c-8ade-3f782a962e96 button.colab-df-convert');\n",
              "        buttonEl.style.display =\n",
              "          google.colab.kernel.accessAllowed ? 'block' : 'none';\n",
              "\n",
              "        async function convertToInteractive(key) {\n",
              "          const element = document.querySelector('#df-14568725-7c7b-4c2c-8ade-3f782a962e96');\n",
              "          const dataTable =\n",
              "            await google.colab.kernel.invokeFunction('convertToInteractive',\n",
              "                                                     [key], {});\n",
              "          if (!dataTable) return;\n",
              "\n",
              "          const docLinkHtml = 'Like what you see? Visit the ' +\n",
              "            '<a target=\"_blank\" href=https://colab.research.google.com/notebooks/data_table.ipynb>data table notebook</a>'\n",
              "            + ' to learn more about interactive tables.';\n",
              "          element.innerHTML = '';\n",
              "          dataTable['output_type'] = 'display_data';\n",
              "          await google.colab.output.renderOutput(dataTable, element);\n",
              "          const docLink = document.createElement('div');\n",
              "          docLink.innerHTML = docLinkHtml;\n",
              "          element.appendChild(docLink);\n",
              "        }\n",
              "      </script>\n",
              "    </div>\n",
              "  </div>\n",
              "  "
            ]
          },
          "metadata": {},
          "execution_count": 36
        }
      ]
    },
    {
      "cell_type": "code",
      "source": [
        "## transforming the dataset\n",
        "df_comp = raw_csv_data.copy()\n",
        "df_comp.date = pd.to_datetime(df_comp.date, dayfirst=True)\n",
        "df_comp.set_index(\"date\", inplace=True)\n",
        "df_comp = df_comp.asfreq('b') # business days as frequency\n",
        "df_comp = df_comp.fillna(method='ffill')"
      ],
      "metadata": {
        "id": "QEhsiewOUS69"
      },
      "execution_count": 37,
      "outputs": []
    },
    {
      "cell_type": "code",
      "source": [
        "df_comp['market_value'] = df_comp.ftse"
      ],
      "metadata": {
        "id": "fWdyfH5qUX-7"
      },
      "execution_count": 38,
      "outputs": []
    },
    {
      "cell_type": "code",
      "source": [
        "del df_comp['spx'], df_comp['dax'], df_comp['ftse'], df_comp['nikkei']"
      ],
      "metadata": {
        "id": "MUOw5MEMUcjn"
      },
      "execution_count": 39,
      "outputs": []
    },
    {
      "cell_type": "markdown",
      "source": [
        "## Splitting the Training and Testing Set"
      ],
      "metadata": {
        "id": "56gNkbCyUf5N"
      }
    },
    {
      "cell_type": "code",
      "source": [
        "size = int(len(df_comp) * 0.8)\n",
        "df, df_test = df_comp.iloc[:size], df_comp.iloc[size:]"
      ],
      "metadata": {
        "id": "kdPtXEKbUraJ"
      },
      "execution_count": 40,
      "outputs": []
    },
    {
      "cell_type": "markdown",
      "source": [
        "## The Dickey-Fuller Test"
      ],
      "metadata": {
        "id": "BDEyAhN-Uv21"
      }
    },
    {
      "cell_type": "code",
      "source": [
        "sts.adfuller(df.market_value)"
      ],
      "metadata": {
        "colab": {
          "base_uri": "https://localhost:8080/"
        },
        "id": "jW33YFPJU29_",
        "outputId": "c423f117-9fef-4072-f4d7-918fca1c84a4"
      },
      "execution_count": 41,
      "outputs": [
        {
          "output_type": "execute_result",
          "data": {
            "text/plain": [
              "(-1.9041551418836864,\n",
              " 0.33010893277028336,\n",
              " 6,\n",
              " 5014,\n",
              " {'1%': -3.4316548765428174,\n",
              "  '10%': -2.5670769326348926,\n",
              "  '5%': -2.8621166146845334},\n",
              " 54854.15304507557)"
            ]
          },
          "metadata": {},
          "execution_count": 41
        }
      ]
    },
    {
      "cell_type": "markdown",
      "source": [
        "## The ACF and the PACF"
      ],
      "metadata": {
        "id": "F2j89ghtVGa1"
      }
    },
    {
      "cell_type": "code",
      "source": [
        "sgt.plot_acf(df.market_value, zero=False, lags=40)\n",
        "plt.title('ACF for Prices', size=24)\n",
        "plt.show()"
      ],
      "metadata": {
        "colab": {
          "base_uri": "https://localhost:8080/",
          "height": 293
        },
        "id": "eoibWKHsVRQ0",
        "outputId": "88882cda-12f6-4087-b499-82467af4ac41"
      },
      "execution_count": 42,
      "outputs": [
        {
          "output_type": "display_data",
          "data": {
            "text/plain": [
              "<Figure size 432x288 with 1 Axes>"
            ],
            "image/png": "[encoded data removed]"
          },
          "metadata": {}
        }
      ]
    },
    {
      "cell_type": "code",
      "source": [
        "sgt.plot_pacf(df.market_value, zero=False, lags=40, alpha=0.5, method=('ols'))\n",
        "plt.title('PACF for Prices', size=24)\n",
        "plt.show()"
      ],
      "metadata": {
        "colab": {
          "base_uri": "https://localhost:8080/",
          "height": 293
        },
        "id": "jWnHAsvKVTeo",
        "outputId": "c72b462e-d1b0-49a0-f8ff-1d59ba3615db"
      },
      "execution_count": 43,
      "outputs": [
        {
          "output_type": "display_data",
          "data": {
            "text/plain": [
              "<Figure size 432x288 with 1 Axes>"
            ],
            "image/png": "[encoded data removed]"
          },
          "metadata": {}
        }
      ]
    },
    {
      "cell_type": "markdown",
      "source": [
        "## Using Returns\n",
        "\n",
        "returns -> the % change between the values for 2 consecutive periods."
      ],
      "metadata": {
        "id": "822bhAo3VXv0"
      }
    },
    {
      "cell_type": "code",
      "source": [
        "df['returns'] = df.market_value.pct_change(1).mul(100) ## mul 100 used to make it percentage"
      ],
      "metadata": {
        "colab": {
          "base_uri": "https://localhost:8080/"
        },
        "id": "CRviTqqYVkqT",
        "outputId": "5fbf15d0-9afd-4e6c-d1b7-8b37e289ddf7"
      },
      "execution_count": 44,
      "outputs": [
        {
          "output_type": "stream",
          "name": "stderr",
          "text": [
            "/usr/local/lib/python3.7/dist-packages/ipykernel_launcher.py:1: SettingWithCopyWarning: \n",
            "A value is trying to be set on a copy of a slice from a DataFrame.\n",
            "Try using .loc[row_indexer,col_indexer] = value instead\n",
            "\n",
            "See the caveats in the documentation: https://pandas.pydata.org/pandas-docs/stable/user_guide/indexing.html#returning-a-view-versus-a-copy\n",
            "  \"\"\"Entry point for launching an IPython kernel.\n"
          ]
        }
      ]
    },
    {
      "cell_type": "markdown",
      "source": [
        "## The Log-Likelihood Test"
      ],
      "metadata": {
        "id": "IKunC0_gVolo"
      }
    },
    {
      "cell_type": "code",
      "source": [
        "def llr_test(mod_1, mod_2, DF=1):\n",
        "   \"\"\" mod_1, mod_2= models to compare, df=degrees of freedom\"\"\"\n",
        "   L1 = mod_1.fit(trend='nc').llf ## Add trend='ct'\n",
        "   L2 = mod_2.fit(trend='nc').llf ## log likelihood\n",
        "   LR = (2*(L2-L1)) ## test statistics\n",
        "   p = chi2.sf(LR, DF).round(3) ## p-value\n",
        "   return p"
      ],
      "metadata": {
        "id": "MZ_N9R0jVzti"
      },
      "execution_count": 45,
      "outputs": []
    },
    {
      "cell_type": "markdown",
      "source": [
        "## ARMA(1,1)"
      ],
      "metadata": {
        "id": "6uXXZ4ovsgSp"
      }
    },
    {
      "cell_type": "code",
      "source": [
        "model_ret_ar_1_ma_1 = ARMA(df.returns[1:], order=(1,1))\n",
        "results_ret_ar1_ma1 = model_ret_ar_1_ma_1.fit()\n",
        "print(results_ret_ar1_ma1.summary())"
      ],
      "metadata": {
        "id": "R3zDPFQysuX6",
        "outputId": "ba4ebe2a-8ff3-46b9-9e62-9775dc8d42ca",
        "colab": {
          "base_uri": "https://localhost:8080/"
        }
      },
      "execution_count": 46,
      "outputs": [
        {
          "output_type": "stream",
          "name": "stdout",
          "text": [
            "                              ARMA Model Results                              \n",
            "==============================================================================\n",
            "Dep. Variable:                returns   No. Observations:                 5020\n",
            "Model:                     ARMA(1, 1)   Log Likelihood               -7916.500\n",
            "Method:                       css-mle   S.D. of innovations              1.171\n",
            "Date:                Tue, 02 Aug 2022   AIC                          15841.000\n",
            "Time:                        08:33:09   BIC                          15867.085\n",
            "Sample:                    01-10-1994   HQIC                         15850.140\n",
            "                         - 04-05-2013                                         \n",
            "=================================================================================\n",
            "                    coef    std err          z      P>|z|      [0.025      0.975]\n",
            "---------------------------------------------------------------------------------\n",
            "const             0.0189      0.013      1.446      0.148      -0.007       0.045\n",
            "ar.L1.returns     0.7649      0.067     11.349      0.000       0.633       0.897\n",
            "ma.L1.returns    -0.8141      0.061    -13.406      0.000      -0.933      -0.695\n",
            "                                    Roots                                    \n",
            "=============================================================================\n",
            "                  Real          Imaginary           Modulus         Frequency\n",
            "-----------------------------------------------------------------------------\n",
            "AR.1            1.3074           +0.0000j            1.3074            0.0000\n",
            "MA.1            1.2284           +0.0000j            1.2284            0.0000\n",
            "-----------------------------------------------------------------------------\n"
          ]
        }
      ]
    },
    {
      "cell_type": "markdown",
      "source": [
        "The **constant** is significantly different from 0(zero). Since we are using **Returns** it is reasonable to centre around 0 and that is totally acceptable.\n",
        "\n",
        "Next we see Auto-Regressive is positive and Moving Average is negative. AR is **76%** positive which means a positive tendency between past and present values. Returns move in trends of consecutive positive or negative values.\n",
        "This leads to periods of persistent increase or decreases when tranlated to prices.\n",
        "\n",
        "The **negative** coefficients of MA are slightly harder to interpret, it suggests we should be moving away from the past period(t-1) values rather than trying to using them as targets for calibration. We want to prevent our targets from moving, before we have accounted for them.\n",
        "\n",
        "\n"
      ],
      "metadata": {
        "id": "SU_t7a5etJr2"
      }
    },
    {
      "cell_type": "markdown",
      "source": [
        "Since the ARMA is simultaneously an extension of AR(1) and MA(1) we sould execute the Log-Likeligood test to determine iof it is a better predictor."
      ],
      "metadata": {
        "id": "sGYB3JjUwT2N"
      }
    },
    {
      "cell_type": "code",
      "source": [
        "##LLR test for the AR(1) and MA(1) both individually\n",
        "\n",
        "model_ret_ar_1 = ARMA(df.returns[1:], order=(1,0))\n",
        "model_ret_ma_1 = ARMA(df.returns[1:], order=(0,1))"
      ],
      "metadata": {
        "id": "AorB2Zaaw6-7"
      },
      "execution_count": 47,
      "outputs": []
    },
    {
      "cell_type": "code",
      "source": [
        "print(\"\\nARMA VS AR\", llr_test(model_ret_ar_1, model_ret_ar_1_ma_1))\n",
        "print(\"\\nARMA VS MA\", llr_test(model_ret_ma_1, model_ret_ar_1_ma_1))"
      ],
      "metadata": {
        "id": "FFQWbT4JyAs5",
        "outputId": "1ab61c86-3571-47b1-8832-60e1bcc289df",
        "colab": {
          "base_uri": "https://localhost:8080/"
        }
      },
      "execution_count": 48,
      "outputs": [
        {
          "output_type": "stream",
          "name": "stdout",
          "text": [
            "\n",
            "ARMA VS AR 0.0\n",
            "\n",
            "ARMA VS MA 0.0\n"
          ]
        }
      ]
    },
    {
      "cell_type": "markdown",
      "source": [
        "**NOTE :-** In the Log-Likelihood function **trend** changed to 'nc' worked."
      ],
      "metadata": {
        "id": "kHTGuMT0yptI"
      }
    },
    {
      "cell_type": "markdown",
      "source": [
        "## Higer-Lag ARMA Models"
      ],
      "metadata": {
        "id": "ybrhe692zd8k"
      }
    },
    {
      "cell_type": "code",
      "source": [
        "model_ret_ar_3_ma_3 = ARMA(df.returns[1:], order=(3,3))\n",
        "results_ret_ar_3_ma_3 = model_ret_ar_3_ma_3.fit()\n",
        "print(results_ret_ar_3_ma_3.summary())\n",
        "print(\"\\nLLR test p-value\", llr_test(model_ret_ar_1_ma_1, model_ret_ar_3_ma_3, DF=4))"
      ],
      "metadata": {
        "id": "CdB4DfC0ToEb",
        "outputId": "888404d7-1fa5-4e43-dec2-095e70922e86",
        "colab": {
          "base_uri": "https://localhost:8080/"
        }
      },
      "execution_count": 49,
      "outputs": [
        {
          "output_type": "stream",
          "name": "stdout",
          "text": [
            "                              ARMA Model Results                              \n",
            "==============================================================================\n",
            "Dep. Variable:                returns   No. Observations:                 5020\n",
            "Model:                     ARMA(3, 3)   Log Likelihood               -7893.515\n",
            "Method:                       css-mle   S.D. of innovations              1.166\n",
            "Date:                Tue, 02 Aug 2022   AIC                          15803.030\n",
            "Time:                        08:33:14   BIC                          15855.199\n",
            "Sample:                    01-10-1994   HQIC                         15821.310\n",
            "                         - 04-05-2013                                         \n",
            "=================================================================================\n",
            "                    coef    std err          z      P>|z|      [0.025      0.975]\n",
            "---------------------------------------------------------------------------------\n",
            "const             0.0189      0.014      1.395      0.163      -0.008       0.045\n",
            "ar.L1.returns    -0.1898      0.104     -1.827      0.068      -0.393       0.014\n",
            "ar.L2.returns    -0.2942      0.087     -3.389      0.001      -0.464      -0.124\n",
            "ar.L3.returns     0.4459      0.138      3.225      0.001       0.175       0.717\n",
            "ma.L1.returns     0.1707      0.099      1.726      0.084      -0.023       0.365\n",
            "ma.L2.returns     0.2277      0.084      2.701      0.007       0.062       0.393\n",
            "ma.L3.returns    -0.5432      0.127     -4.270      0.000      -0.793      -0.294\n",
            "                                    Roots                                    \n",
            "=============================================================================\n",
            "                  Real          Imaginary           Modulus         Frequency\n",
            "-----------------------------------------------------------------------------\n",
            "AR.1           -0.5168           -1.0283j            1.1508           -0.3241\n",
            "AR.2           -0.5168           +1.0283j            1.1508            0.3241\n",
            "AR.3            1.6932           -0.0000j            1.6932           -0.0000\n",
            "MA.1           -0.5286           -0.9835j            1.1166           -0.3285\n",
            "MA.2           -0.5286           +0.9835j            1.1166            0.3285\n",
            "MA.3            1.4764           -0.0000j            1.4764           -0.0000\n",
            "-----------------------------------------------------------------------------\n",
            "\n",
            "LLR test p-value 0.0\n"
          ]
        }
      ]
    },
    {
      "cell_type": "code",
      "source": [
        "model_ret_ar_3_ma_2 = ARMA(df.returns[1:], order=(3,2))\n",
        "results_ret_ar_3_ma_2 = model_ret_ar_3_ma_2.fit()\n",
        "print(results_ret_ar_3_ma_2.summary())"
      ],
      "metadata": {
        "id": "32MGgsiOUIgX",
        "outputId": "0b03af67-07c8-4099-b2a0-1613b93a8633",
        "colab": {
          "base_uri": "https://localhost:8080/"
        }
      },
      "execution_count": 50,
      "outputs": [
        {
          "output_type": "stream",
          "name": "stdout",
          "text": [
            "                              ARMA Model Results                              \n",
            "==============================================================================\n",
            "Dep. Variable:                returns   No. Observations:                 5020\n",
            "Model:                     ARMA(3, 2)   Log Likelihood               -7895.747\n",
            "Method:                       css-mle   S.D. of innovations              1.166\n",
            "Date:                Tue, 02 Aug 2022   AIC                          15805.495\n",
            "Time:                        08:33:19   BIC                          15851.143\n",
            "Sample:                    01-10-1994   HQIC                         15821.491\n",
            "                         - 04-05-2013                                         \n",
            "=================================================================================\n",
            "                    coef    std err          z      P>|z|      [0.025      0.975]\n",
            "---------------------------------------------------------------------------------\n",
            "const             0.0188      0.015      1.251      0.211      -0.011       0.048\n",
            "ar.L1.returns    -0.6785      0.087     -7.799      0.000      -0.849      -0.508\n",
            "ar.L2.returns    -0.5088      0.139     -3.670      0.000      -0.780      -0.237\n",
            "ar.L3.returns    -0.1141      0.015     -7.655      0.000      -0.143      -0.085\n",
            "ma.L1.returns     0.6568      0.087      7.536      0.000       0.486       0.828\n",
            "ma.L2.returns     0.4474      0.141      3.175      0.002       0.171       0.724\n",
            "                                    Roots                                    \n",
            "=============================================================================\n",
            "                  Real          Imaginary           Modulus         Frequency\n",
            "-----------------------------------------------------------------------------\n",
            "AR.1           -0.4929           -1.5101j            1.5885           -0.3002\n",
            "AR.2           -0.4929           +1.5101j            1.5885            0.3002\n",
            "AR.3           -3.4748           -0.0000j            3.4748           -0.5000\n",
            "MA.1           -0.7340           -1.3025j            1.4951           -0.3317\n",
            "MA.2           -0.7340           +1.3025j            1.4951            0.3317\n",
            "-----------------------------------------------------------------------------\n"
          ]
        }
      ]
    },
    {
      "cell_type": "markdown",
      "source": [
        "Returns in an efficient market should be close to 0 anyway.\n",
        "\n",
        "None of the p-values for this model are troublesome.\n",
        "\n",
        "The further back in time we go, the less relevant values and errors become."
      ],
      "metadata": {
        "id": "GkHMIbsyVi32"
      }
    },
    {
      "cell_type": "code",
      "source": [
        "model_ret_ar_2_ma_3 = ARMA(df.returns[1:], order=(2,3))\n",
        "results_ret_ar_2_ma_3 = model_ret_ar_2_ma_3.fit()\n",
        "print(results_ret_ar_2_ma_3.summary())"
      ],
      "metadata": {
        "id": "UXVk9dOaWUVX",
        "outputId": "03896e7c-abb8-417e-df9b-a039832f379d",
        "colab": {
          "base_uri": "https://localhost:8080/"
        }
      },
      "execution_count": 51,
      "outputs": [
        {
          "output_type": "stream",
          "name": "stdout",
          "text": [
            "                              ARMA Model Results                              \n",
            "==============================================================================\n",
            "Dep. Variable:                returns   No. Observations:                 5020\n",
            "Model:                     ARMA(2, 3)   Log Likelihood               -7895.587\n",
            "Method:                       css-mle   S.D. of innovations              1.166\n",
            "Date:                Tue, 02 Aug 2022   AIC                          15805.174\n",
            "Time:                        08:33:21   BIC                          15850.823\n",
            "Sample:                    01-10-1994   HQIC                         15821.170\n",
            "                         - 04-05-2013                                         \n",
            "=================================================================================\n",
            "                    coef    std err          z      P>|z|      [0.025      0.975]\n",
            "---------------------------------------------------------------------------------\n",
            "const             0.0189      0.015      1.276      0.202      -0.010       0.048\n",
            "ar.L1.returns    -0.5605      0.090     -6.245      0.000      -0.736      -0.385\n",
            "ar.L2.returns    -0.4187      0.193     -2.172      0.030      -0.797      -0.041\n",
            "ma.L1.returns     0.5378      0.090      6.000      0.000       0.362       0.714\n",
            "ma.L2.returns     0.3540      0.195      1.818      0.069      -0.028       0.736\n",
            "ma.L3.returns    -0.1158      0.016     -7.369      0.000      -0.147      -0.085\n",
            "                                    Roots                                    \n",
            "=============================================================================\n",
            "                  Real          Imaginary           Modulus         Frequency\n",
            "-----------------------------------------------------------------------------\n",
            "AR.1           -0.6694           -1.3930j            1.5455           -0.3213\n",
            "AR.2           -0.6694           +1.3930j            1.5455            0.3213\n",
            "MA.1           -0.7270           -1.1772j            1.3836           -0.3381\n",
            "MA.2           -0.7270           +1.1772j            1.3836            0.3381\n",
            "MA.3            4.5096           -0.0000j            4.5096           -0.0000\n",
            "-----------------------------------------------------------------------------\n"
          ]
        }
      ]
    },
    {
      "cell_type": "code",
      "source": [
        "print(\"\\nThe LLR test p-value: \", llr_test(model_ret_ar_2_ma_3, model_ret_ar_3_ma_3))"
      ],
      "metadata": {
        "id": "yhwK_JH165wH",
        "outputId": "94ad6c36-7401-4728-a92e-5e7d7eae1afd",
        "colab": {
          "base_uri": "https://localhost:8080/"
        }
      },
      "execution_count": 52,
      "outputs": [
        {
          "output_type": "stream",
          "name": "stdout",
          "text": [
            "\n",
            "The LLR test p-value:  0.05\n"
          ]
        }
      ]
    },
    {
      "cell_type": "code",
      "source": [
        "model_ret_ar_3_ma_1 = ARMA(df.returns[1:], order=(3,1))\n",
        "results_ret_ar_3_ma_1 = model_ret_ar_3_ma_1.fit()\n",
        "print(results_ret_ar_3_ma_1.summary())"
      ],
      "metadata": {
        "id": "4WPgHGe17OSS",
        "outputId": "2944bb34-4c1f-4caa-edb0-026d406d1bff",
        "colab": {
          "base_uri": "https://localhost:8080/"
        }
      },
      "execution_count": 53,
      "outputs": [
        {
          "output_type": "stream",
          "name": "stdout",
          "text": [
            "                              ARMA Model Results                              \n",
            "==============================================================================\n",
            "Dep. Variable:                returns   No. Observations:                 5020\n",
            "Model:                     ARMA(3, 1)   Log Likelihood               -7899.072\n",
            "Method:                       css-mle   S.D. of innovations              1.167\n",
            "Date:                Tue, 02 Aug 2022   AIC                          15810.144\n",
            "Time:                        08:33:26   BIC                          15849.271\n",
            "Sample:                    01-10-1994   HQIC                         15823.855\n",
            "                         - 04-05-2013                                         \n",
            "=================================================================================\n",
            "                    coef    std err          z      P>|z|      [0.025      0.975]\n",
            "---------------------------------------------------------------------------------\n",
            "const             0.0189      0.015      1.298      0.194      -0.010       0.047\n",
            "ar.L1.returns    -0.5077      0.088     -5.769      0.000      -0.680      -0.335\n",
            "ar.L2.returns    -0.0638      0.016     -4.023      0.000      -0.095      -0.033\n",
            "ar.L3.returns    -0.1102      0.014     -7.850      0.000      -0.138      -0.083\n",
            "ma.L1.returns     0.4838      0.088      5.500      0.000       0.311       0.656\n",
            "                                    Roots                                    \n",
            "=============================================================================\n",
            "                  Real          Imaginary           Modulus         Frequency\n",
            "-----------------------------------------------------------------------------\n",
            "AR.1           -1.5095           -0.0000j            1.5095           -0.5000\n",
            "AR.2            0.4653           -2.4076j            2.4521           -0.2196\n",
            "AR.3            0.4653           +2.4076j            2.4521            0.2196\n",
            "MA.1           -2.0668           +0.0000j            2.0668            0.5000\n",
            "-----------------------------------------------------------------------------\n"
          ]
        }
      ]
    },
    {
      "cell_type": "markdown",
      "source": [
        "From the above model we can see :\n",
        "\n",
        "All the p-values apart from the constant are 0(zero), they are significant.\n",
        "\n",
        "All the MA components has positive coefficients.\n",
        "\n",
        "All the AR components has negative coefficients."
      ],
      "metadata": {
        "id": "PmEMZSgF7fAu"
      }
    },
    {
      "cell_type": "code",
      "source": [
        "print(\"\\nThe LLR test p-value : \", llr_test(model_ret_ar_3_ma_1, model_ret_ar_3_ma_2))"
      ],
      "metadata": {
        "id": "z3KDI4aB8jK9",
        "outputId": "a3cd097b-0661-4830-c702-e5d336a6c3b6",
        "colab": {
          "base_uri": "https://localhost:8080/"
        }
      },
      "execution_count": 54,
      "outputs": [
        {
          "output_type": "stream",
          "name": "stdout",
          "text": [
            "\n",
            "The LLR test p-value :  0.009\n"
          ]
        }
      ]
    },
    {
      "cell_type": "code",
      "source": [
        "model_ret_ar_2_ma_2 = ARMA(df.returns[1:], order=(2,2))\n",
        "results_ret_ar_2_ma_2 = model_ret_ar_2_ma_2.fit()\n",
        "print(results_ret_ar_2_ma_2.summary())"
      ],
      "metadata": {
        "id": "8BE8R3zf8yxl",
        "outputId": "46f3aca4-315f-4237-fbdc-6392a5c81542",
        "colab": {
          "base_uri": "https://localhost:8080/"
        }
      },
      "execution_count": 55,
      "outputs": [
        {
          "output_type": "stream",
          "name": "stdout",
          "text": [
            "                              ARMA Model Results                              \n",
            "==============================================================================\n",
            "Dep. Variable:                returns   No. Observations:                 5020\n",
            "Model:                     ARMA(2, 2)   Log Likelihood               -7913.223\n",
            "Method:                       css-mle   S.D. of innovations              1.170\n",
            "Date:                Tue, 02 Aug 2022   AIC                          15838.446\n",
            "Time:                        08:33:29   BIC                          15877.573\n",
            "Sample:                    01-10-1994   HQIC                         15852.156\n",
            "                         - 04-05-2013                                         \n",
            "=================================================================================\n",
            "                    coef    std err          z      P>|z|      [0.025      0.975]\n",
            "---------------------------------------------------------------------------------\n",
            "const             0.0189      0.014      1.394      0.163      -0.008       0.045\n",
            "ar.L1.returns     0.7820      0.238      3.284      0.001       0.315       1.249\n",
            "ar.L2.returns    -0.1563      0.177     -0.884      0.377      -0.503       0.190\n",
            "ma.L1.returns    -0.8104      0.239     -3.388      0.001      -1.279      -0.342\n",
            "ma.L2.returns     0.1177      0.187      0.628      0.530      -0.250       0.485\n",
            "                                    Roots                                    \n",
            "=============================================================================\n",
            "                  Real          Imaginary           Modulus         Frequency\n",
            "-----------------------------------------------------------------------------\n",
            "AR.1            2.5018           -0.3737j            2.5295           -0.0236\n",
            "AR.2            2.5018           +0.3737j            2.5295            0.0236\n",
            "MA.1            1.6107           +0.0000j            1.6107            0.0000\n",
            "MA.2            5.2742           +0.0000j            5.2742            0.0000\n",
            "-----------------------------------------------------------------------------\n"
          ]
        }
      ]
    },
    {
      "cell_type": "markdown",
      "source": [
        "From the above model we can see :\n",
        "\n",
        "2 of it's parameter coefficients are not significant **(0.377  and 0.530)**\n",
        "\n",
        "Interestingly both non-significant coefficients are associated with the 2nd lag.\n",
        "\n",
        "This shows that simpler models like the ARMA(1,2) or the ARMA(2,1) would outperform it ARMA(2,2).\n"
      ],
      "metadata": {
        "id": "8KIxA10Y9RMd"
      }
    },
    {
      "cell_type": "code",
      "source": [
        "## Let's move with ARMA(1,3)\n",
        "model_ret_ar_1_ma_3 = ARMA(df.returns[1:], order=(1,3))\n",
        "results_ret_ar_1_ma_3 = model_ret_ar_1_ma_3.fit()\n",
        "print(results_ret_ar_1_ma_3.summary())"
      ],
      "metadata": {
        "id": "no_pCVeo-kx7",
        "outputId": "f38c8d70-ecd5-4153-9499-8bac8b31ec12",
        "colab": {
          "base_uri": "https://localhost:8080/"
        }
      },
      "execution_count": 56,
      "outputs": [
        {
          "output_type": "stream",
          "name": "stdout",
          "text": [
            "                              ARMA Model Results                              \n",
            "==============================================================================\n",
            "Dep. Variable:                returns   No. Observations:                 5020\n",
            "Model:                     ARMA(1, 3)   Log Likelihood               -7896.838\n",
            "Method:                       css-mle   S.D. of innovations              1.167\n",
            "Date:                Tue, 02 Aug 2022   AIC                          15805.676\n",
            "Time:                        08:33:31   BIC                          15844.803\n",
            "Sample:                    01-10-1994   HQIC                         15819.386\n",
            "                         - 04-05-2013                                         \n",
            "=================================================================================\n",
            "                    coef    std err          z      P>|z|      [0.025      0.975]\n",
            "---------------------------------------------------------------------------------\n",
            "const             0.0189      0.014      1.332      0.183      -0.009       0.047\n",
            "ar.L1.returns    -0.4699      0.096     -4.901      0.000      -0.658      -0.282\n",
            "ma.L1.returns     0.4474      0.095      4.691      0.000       0.260       0.634\n",
            "ma.L2.returns    -0.0637      0.015     -4.113      0.000      -0.094      -0.033\n",
            "ma.L3.returns    -0.1182      0.014     -8.200      0.000      -0.146      -0.090\n",
            "                                    Roots                                    \n",
            "=============================================================================\n",
            "                  Real          Imaginary           Modulus         Frequency\n",
            "-----------------------------------------------------------------------------\n",
            "AR.1           -2.1282           +0.0000j            2.1282            0.5000\n",
            "MA.1           -1.4882           -1.1206j            1.8629           -0.3973\n",
            "MA.2           -1.4882           +1.1206j            1.8629            0.3973\n",
            "MA.3            2.4376           -0.0000j            2.4376           -0.0000\n",
            "-----------------------------------------------------------------------------\n"
          ]
        }
      ]
    },
    {
      "cell_type": "markdown",
      "source": [
        "The p-value of the all 4 coefficients are significant.\n",
        "\n",
        "Usually we would go on to use the Log-likelihood ratio test here to compare it with the ARMA(3,2)\n",
        "\n",
        "ARMA(3,2) and ARMA(1,3) aren't nested."
      ],
      "metadata": {
        "id": "VoPfBSdO-zvi"
      }
    },
    {
      "cell_type": "markdown",
      "source": [
        "**Nested Models**\n",
        "\n",
        "Let's say there are two models **ARMA(P1,Q1)** and **ARMA(P2,Q2)**.\n",
        "\n",
        "Model ARMA(p2,Q2) is nested if 3 conditions are satisfied :\n",
        "\n",
        "1. P1 + Q1 > P2 + Q2\n",
        "\n",
        "2. P1 >= P2\n",
        "\n",
        "3. Q1 >= Q2\n",
        "\n",
        "LLR test is possible if ARMA(P2,Q2) is nested."
      ],
      "metadata": {
        "id": "3pTEKP7j_eQY"
      }
    },
    {
      "cell_type": "code",
      "source": [
        "## print the 'llf' and information criterion AIC\n",
        "print(\"\\nARMA(3,2): LL = \", results_ret_ar_3_ma_2.llf, \"\\tAIC : \", results_ret_ar_3_ma_2.aic)\n",
        "print(\"\\nARMA(1,3): LL = \", results_ret_ar_1_ma_3.llf, \"\\tAIC : \", results_ret_ar_1_ma_3.aic)"
      ],
      "metadata": {
        "colab": {
          "base_uri": "https://localhost:8080/"
        },
        "id": "25vJduvkaWnZ",
        "outputId": "0d6498ac-8adf-4bd7-fd05-3de791f70cb7"
      },
      "execution_count": 57,
      "outputs": [
        {
          "output_type": "stream",
          "name": "stdout",
          "text": [
            "\n",
            "ARMA(3,2): LL =  -7895.747458514506 \tAIC :  15805.494917029013\n",
            "\n",
            "ARMA(1,3): LL =  -7896.837893752919 \tAIC :  15805.675787505837\n"
          ]
        }
      ]
    },
    {
      "cell_type": "markdown",
      "source": [
        "So the final conclusion is **ARMA(3,2)** is the best model :\n",
        "\n",
        "1)  All significant coefficients.\n",
        "\n",
        "2) Outpredicts all less complex alternatives."
      ],
      "metadata": {
        "id": "B6eao-L1boNK"
      }
    },
    {
      "cell_type": "markdown",
      "source": [
        "## Residuals for Returns"
      ],
      "metadata": {
        "id": "OAIPky2ZcOOY"
      }
    },
    {
      "cell_type": "code",
      "source": [
        "df['res_ret_ar_3_ma_2'] = results_ret_ar_3_ma_2.resid[1:]"
      ],
      "metadata": {
        "colab": {
          "base_uri": "https://localhost:8080/"
        },
        "id": "6UurFZaQcqjK",
        "outputId": "db4315fc-2cd1-4c8d-a896-ec55b647f4bf"
      },
      "execution_count": 58,
      "outputs": [
        {
          "output_type": "stream",
          "name": "stderr",
          "text": [
            "/usr/local/lib/python3.7/dist-packages/ipykernel_launcher.py:1: SettingWithCopyWarning: \n",
            "A value is trying to be set on a copy of a slice from a DataFrame.\n",
            "Try using .loc[row_indexer,col_indexer] = value instead\n",
            "\n",
            "See the caveats in the documentation: https://pandas.pydata.org/pandas-docs/stable/user_guide/indexing.html#returning-a-view-versus-a-copy\n",
            "  \"\"\"Entry point for launching an IPython kernel.\n"
          ]
        }
      ]
    },
    {
      "cell_type": "code",
      "source": [
        "df.res_ret_ar_3_ma_2.plot(figsize=(20,5))\n",
        "plt.title(\"Residuals for Returns\", size=24)\n",
        "plt.show()"
      ],
      "metadata": {
        "colab": {
          "base_uri": "https://localhost:8080/",
          "height": 364
        },
        "id": "RRwkj5HvdXJJ",
        "outputId": "ba03e552-7fbc-4428-8b18-fe05cd06353e"
      },
      "execution_count": 59,
      "outputs": [
        {
          "output_type": "display_data",
          "data": {
            "text/plain": [
              "<Figure size 1440x360 with 1 Axes>"
            ],
            "image/png": "[encoded data removed]"
          },
          "metadata": {}
        }
      ]
    },
    {
      "cell_type": "markdown",
      "source": [
        "The above plot shows the volatility in Returns might not be fully comprehendable if we use only ARMA models"
      ],
      "metadata": {
        "id": "VS6Hn2TjdrKU"
      }
    },
    {
      "cell_type": "code",
      "source": [
        "sgt.plot_acf(df.res_ret_ar_3_ma_2[2:], zero = False)\n",
        "plt.title(\"ACF for Residuals for Returns\", size =24)\n",
        "plt.show()"
      ],
      "metadata": {
        "colab": {
          "base_uri": "https://localhost:8080/",
          "height": 293
        },
        "id": "-ehBA8PLd83x",
        "outputId": "e94dae26-2503-4d23-aed8-4bb61cecde01"
      },
      "execution_count": 60,
      "outputs": [
        {
          "output_type": "display_data",
          "data": {
            "text/plain": [
              "<Figure size 432x288 with 1 Axes>"
            ],
            "image/png": "[encoded data removed]"
          },
          "metadata": {}
        }
      ]
    },
    {
      "cell_type": "markdown",
      "source": [
        "The above plot shoe that the coefficients are more significant than AR or MA model."
      ],
      "metadata": {
        "id": "59V1tJkDeinS"
      }
    },
    {
      "cell_type": "markdown",
      "source": [
        "## Re-evaluating the Model Selection"
      ],
      "metadata": {
        "id": "8OeGqETXfVi-"
      }
    },
    {
      "cell_type": "code",
      "source": [
        "## Go ahead with the model ARMA(5,5) as from the ACF plot\n",
        "model_ret_ar_5_ma_5 = ARMA(df.returns[1:], order=(5,5))\n",
        "results_ret_ar_5_ma_5 = model_ret_ar_5_ma_5.fit()\n",
        "print(results_ret_ar_5_ma_5.summary())"
      ],
      "metadata": {
        "colab": {
          "base_uri": "https://localhost:8080/"
        },
        "id": "ZBaTZ9CNfdGF",
        "outputId": "9f75922e-0c7d-486d-d909-18381409e148"
      },
      "execution_count": 61,
      "outputs": [
        {
          "output_type": "stream",
          "name": "stdout",
          "text": [
            "                              ARMA Model Results                              \n",
            "==============================================================================\n",
            "Dep. Variable:                returns   No. Observations:                 5020\n",
            "Model:                     ARMA(5, 5)   Log Likelihood               -7882.160\n",
            "Method:                       css-mle   S.D. of innovations              1.163\n",
            "Date:                Tue, 02 Aug 2022   AIC                          15788.321\n",
            "Time:                        08:33:46   BIC                          15866.575\n",
            "Sample:                    01-10-1994   HQIC                         15815.742\n",
            "                         - 04-05-2013                                         \n",
            "=================================================================================\n",
            "                    coef    std err          z      P>|z|      [0.025      0.975]\n",
            "---------------------------------------------------------------------------------\n",
            "const             0.0189      0.013      1.402      0.161      -0.008       0.045\n",
            "ar.L1.returns    -0.0684      0.140     -0.490      0.624      -0.342       0.205\n",
            "ar.L2.returns    -0.6722      0.146     -4.603      0.000      -0.958      -0.386\n",
            "ar.L3.returns    -0.1152      0.141     -0.817      0.414      -0.392       0.161\n",
            "ar.L4.returns     0.1779      0.129      1.381      0.167      -0.075       0.430\n",
            "ar.L5.returns     0.1215      0.107      1.132      0.258      -0.089       0.332\n",
            "ma.L1.returns     0.0443      0.138      0.322      0.748      -0.226       0.314\n",
            "ma.L2.returns     0.6223      0.144      4.321      0.000       0.340       0.905\n",
            "ma.L3.returns     0.0107      0.136      0.079      0.937      -0.256       0.277\n",
            "ma.L4.returns    -0.1753      0.122     -1.436      0.151      -0.415       0.064\n",
            "ma.L5.returns    -0.2240      0.104     -2.148      0.032      -0.428      -0.020\n",
            "                                    Roots                                    \n",
            "=============================================================================\n",
            "                  Real          Imaginary           Modulus         Frequency\n",
            "-----------------------------------------------------------------------------\n",
            "AR.1            0.0870           -1.0364j            1.0401           -0.2367\n",
            "AR.2            0.0870           +1.0364j            1.0401            0.2367\n",
            "AR.3            1.7715           -0.0000j            1.7715           -0.0000\n",
            "AR.4           -1.7050           -1.1784j            2.0726           -0.4038\n",
            "AR.5           -1.7050           +1.1784j            2.0726            0.4038\n",
            "MA.1            0.1033           -1.0434j            1.0485           -0.2343\n",
            "MA.2            0.1033           +1.0434j            1.0485            0.2343\n",
            "MA.3            1.4855           -0.0000j            1.4855           -0.0000\n",
            "MA.4           -1.2373           -1.0965j            1.6532           -0.3846\n",
            "MA.5           -1.2373           +1.0965j            1.6532            0.3846\n",
            "-----------------------------------------------------------------------------\n"
          ]
        }
      ]
    },
    {
      "cell_type": "code",
      "source": [
        "model_ret_ar_5_ma_1 = ARMA(df.returns[1:], order=(5,1))\n",
        "results_ret_ar_5_ma_1 = model_ret_ar_5_ma_1.fit()\n",
        "print(results_ret_ar_5_ma_1.summary())"
      ],
      "metadata": {
        "colab": {
          "base_uri": "https://localhost:8080/"
        },
        "id": "hhE6XbLHpdrY",
        "outputId": "2d7c7e12-a920-4ea1-ed4a-3c2826a2fbbf"
      },
      "execution_count": 62,
      "outputs": [
        {
          "output_type": "stream",
          "name": "stdout",
          "text": [
            "                              ARMA Model Results                              \n",
            "==============================================================================\n",
            "Dep. Variable:                returns   No. Observations:                 5020\n",
            "Model:                     ARMA(5, 1)   Log Likelihood               -7889.311\n",
            "Method:                       css-mle   S.D. of innovations              1.165\n",
            "Date:                Tue, 02 Aug 2022   AIC                          15794.623\n",
            "Time:                        08:49:08   BIC                          15846.792\n",
            "Sample:                    01-10-1994   HQIC                         15812.903\n",
            "                         - 04-05-2013                                         \n",
            "=================================================================================\n",
            "                    coef    std err          z      P>|z|      [0.025      0.975]\n",
            "---------------------------------------------------------------------------------\n",
            "const             0.0189      0.013      1.407      0.159      -0.007       0.045\n",
            "ar.L1.returns     0.3440      0.131      2.624      0.009       0.087       0.601\n",
            "ar.L2.returns    -0.0458      0.015     -3.005      0.003      -0.076      -0.016\n",
            "ar.L3.returns    -0.0652      0.016     -4.010      0.000      -0.097      -0.033\n",
            "ar.L4.returns     0.0741      0.018      4.068      0.000       0.038       0.110\n",
            "ar.L5.returns    -0.0813      0.014     -5.688      0.000      -0.109      -0.053\n",
            "ma.L1.returns    -0.3673      0.131     -2.801      0.005      -0.624      -0.110\n",
            "                                    Roots                                    \n",
            "=============================================================================\n",
            "                  Real          Imaginary           Modulus         Frequency\n",
            "-----------------------------------------------------------------------------\n",
            "AR.1           -1.6158           -0.0000j            1.6158           -0.5000\n",
            "AR.2            1.3793           -0.8613j            1.6261           -0.0888\n",
            "AR.3            1.3793           +0.8613j            1.6261            0.0888\n",
            "AR.4           -0.1156           -1.6929j            1.6968           -0.2608\n",
            "AR.5           -0.1156           +1.6929j            1.6968            0.2608\n",
            "MA.1            2.7223           +0.0000j            2.7223            0.0000\n",
            "-----------------------------------------------------------------------------\n"
          ]
        }
      ]
    },
    {
      "cell_type": "code",
      "source": [
        "model_ret_ar_1_ma_5 = ARMA(df.returns[1:], order=(1,5))\n",
        "results_ret_ar_1_ma_5 = model_ret_ar_1_ma_5.fit()\n",
        "print(results_ret_ar_1_ma_5.summary())"
      ],
      "metadata": {
        "colab": {
          "base_uri": "https://localhost:8080/"
        },
        "id": "Bj5gw205voWv",
        "outputId": "e8fe5100-9c0e-4bcf-f4ee-1377ffd3129b"
      },
      "execution_count": 63,
      "outputs": [
        {
          "output_type": "stream",
          "name": "stdout",
          "text": [
            "                              ARMA Model Results                              \n",
            "==============================================================================\n",
            "Dep. Variable:                returns   No. Observations:                 5020\n",
            "Model:                     ARMA(1, 5)   Log Likelihood               -7890.973\n",
            "Method:                       css-mle   S.D. of innovations              1.165\n",
            "Date:                Tue, 02 Aug 2022   AIC                          15797.947\n",
            "Time:                        08:49:36   BIC                          15850.116\n",
            "Sample:                    01-10-1994   HQIC                         15816.228\n",
            "                         - 04-05-2013                                         \n",
            "=================================================================================\n",
            "                    coef    std err          z      P>|z|      [0.025      0.975]\n",
            "---------------------------------------------------------------------------------\n",
            "const             0.0189      0.013      1.419      0.156      -0.007       0.045\n",
            "ar.L1.returns     0.3285      0.152      2.159      0.031       0.030       0.627\n",
            "ma.L1.returns    -0.3534      0.152     -2.332      0.020      -0.650      -0.056\n",
            "ma.L2.returns    -0.0404      0.015     -2.624      0.009      -0.071      -0.010\n",
            "ma.L3.returns    -0.0679      0.017     -4.022      0.000      -0.101      -0.035\n",
            "ma.L4.returns     0.0742      0.020      3.771      0.000       0.036       0.113\n",
            "ma.L5.returns    -0.0683      0.015     -4.660      0.000      -0.097      -0.040\n",
            "                                    Roots                                    \n",
            "=============================================================================\n",
            "                  Real          Imaginary           Modulus         Frequency\n",
            "-----------------------------------------------------------------------------\n",
            "AR.1            3.0443           +0.0000j            3.0443            0.0000\n",
            "MA.1           -1.1897           -1.1548j            1.6580           -0.3774\n",
            "MA.2           -1.1897           +1.1548j            1.6580            0.3774\n",
            "MA.3            1.5041           -0.0000j            1.5041           -0.0000\n",
            "MA.4            0.9809           -1.6057j            1.8815           -0.1627\n",
            "MA.5            0.9809           +1.6057j            1.8815            0.1627\n",
            "-----------------------------------------------------------------------------\n"
          ]
        }
      ]
    },
    {
      "cell_type": "code",
      "source": [
        "## print the 'llf' and information criterion AIC\n",
        "print(\"\\nARMA(5,1): LL = \", results_ret_ar_5_ma_1.llf, \"\\tAIC : \", results_ret_ar_5_ma_1.aic)\n",
        "print(\"\\nARMA(1,5): LL = \", results_ret_ar_1_ma_5.llf, \"\\tAIC : \", results_ret_ar_1_ma_5.aic)"
      ],
      "metadata": {
        "colab": {
          "base_uri": "https://localhost:8080/"
        },
        "id": "mIDJfdlgvvW0",
        "outputId": "7dac6648-cb17-4db4-81c0-b8f097692ccd"
      },
      "execution_count": 64,
      "outputs": [
        {
          "output_type": "stream",
          "name": "stdout",
          "text": [
            "\n",
            "ARMA(5,1): LL =  -7889.31128294623 \tAIC :  15794.62256589246\n",
            "\n",
            "ARMA(1,5): LL =  -7890.973460209589 \tAIC :  15797.946920419177\n"
          ]
        }
      ]
    },
    {
      "cell_type": "code",
      "source": [
        "## print the 'llf' and information criterion AIC\n",
        "print(\"\\nARMA(3,2): LL = \", results_ret_ar_3_ma_2.llf, \"\\tAIC : \", results_ret_ar_3_ma_2.aic)"
      ],
      "metadata": {
        "colab": {
          "base_uri": "https://localhost:8080/"
        },
        "id": "SnP-ih5mv-hA",
        "outputId": "6183dacb-e8c3-4d1b-f198-995336144ab3"
      },
      "execution_count": 65,
      "outputs": [
        {
          "output_type": "stream",
          "name": "stdout",
          "text": [
            "\n",
            "ARMA(3,2): LL =  -7895.747458514506 \tAIC :  15805.494917029013\n"
          ]
        }
      ]
    },
    {
      "cell_type": "markdown",
      "source": [
        "## Residuals for the New Model"
      ],
      "metadata": {
        "id": "_bx48cQKwWdD"
      }
    },
    {
      "cell_type": "code",
      "source": [
        "df['res_ret_ar_5_ma_1'] = results_ret_ar_5_ma_1.resid"
      ],
      "metadata": {
        "colab": {
          "base_uri": "https://localhost:8080/"
        },
        "id": "fOoLhcbFwoT5",
        "outputId": "d00e8811-8fab-46f1-f901-6bb56ce17f3c"
      },
      "execution_count": 66,
      "outputs": [
        {
          "output_type": "stream",
          "name": "stderr",
          "text": [
            "/usr/local/lib/python3.7/dist-packages/ipykernel_launcher.py:1: SettingWithCopyWarning: \n",
            "A value is trying to be set on a copy of a slice from a DataFrame.\n",
            "Try using .loc[row_indexer,col_indexer] = value instead\n",
            "\n",
            "See the caveats in the documentation: https://pandas.pydata.org/pandas-docs/stable/user_guide/indexing.html#returning-a-view-versus-a-copy\n",
            "  \"\"\"Entry point for launching an IPython kernel.\n"
          ]
        }
      ]
    },
    {
      "cell_type": "code",
      "source": [
        "sgt.plot_acf(df.res_ret_ar_5_ma_1[1:], zero=False, lags=40)\n",
        "plt.title(\"ACF for Residuals for Returns\", size=24)\n",
        "plt.show()"
      ],
      "metadata": {
        "colab": {
          "base_uri": "https://localhost:8080/",
          "height": 293
        },
        "id": "ejLXkDtjxM-Q",
        "outputId": "8fa37f9d-9577-4dd2-c8a6-8661155f86b2"
      },
      "execution_count": 67,
      "outputs": [
        {
          "output_type": "display_data",
          "data": {
            "text/plain": [
              "<Figure size 432x288 with 1 Axes>"
            ],
            "image/png": "[encoded data removed]"
          },
          "metadata": {}
        }
      ]
    },
    {
      "cell_type": "markdown",
      "source": [
        "We can see that lags from 18 can be included but including higher lags of data will :\n",
        "\n",
        "predespose the model to failure when facing unfamiliar data.\n",
        "\n",
        "Will help us know how this specific dataset moves rather than how actual market returns fluctuate."
      ],
      "metadata": {
        "id": "VdYm7P4nxkGr"
      }
    },
    {
      "cell_type": "markdown",
      "source": [
        "## ARMA Models for Prices"
      ],
      "metadata": {
        "id": "_xLcUbFLyF5b"
      }
    },
    {
      "cell_type": "code",
      "source": [
        "sgt.plot_acf(df.market_value, unbiased=True, zero=False, lags=40)\n",
        "plt.title(\"Autocorrelation Function for Prices\", size=20)\n",
        "plt.show()"
      ],
      "metadata": {
        "colab": {
          "base_uri": "https://localhost:8080/",
          "height": 289
        },
        "id": "w5GwIQyiy2mz",
        "outputId": "d0afaa47-1c11-4ec9-adfe-86dc24e4a32e"
      },
      "execution_count": 68,
      "outputs": [
        {
          "output_type": "display_data",
          "data": {
            "text/plain": [
              "<Figure size 432x288 with 1 Axes>"
            ],
            "image/png": "[encoded data removed]"
          },
          "metadata": {}
        }
      ]
    },
    {
      "cell_type": "code",
      "source": [
        "sgt.plot_pacf(df.market_value, zero=False, lags=40, alpha=0.05, method=('ols'))\n",
        "plt.title(\"Partial Autocorrelation Function for Prices\", size=20)\n",
        "plt.show()"
      ],
      "metadata": {
        "colab": {
          "base_uri": "https://localhost:8080/",
          "height": 289
        },
        "id": "zWhmjR3TzjwI",
        "outputId": "ff412695-dc64-4d99-b8b8-89ded98c2c7b"
      },
      "execution_count": 69,
      "outputs": [
        {
          "output_type": "display_data",
          "data": {
            "text/plain": [
              "<Figure size 432x288 with 1 Axes>"
            ],
            "image/png": "[encoded data removed]"
          },
          "metadata": {}
        }
      ]
    },
    {
      "cell_type": "markdown",
      "source": [
        "An **MA(infinite)**(with certain restrictions) is equivalent to a simple AR model.\n",
        "\n",
        "As long as we include AR components we should be able to describe the data well."
      ],
      "metadata": {
        "id": "DFlukxV9z6ic"
      }
    },
    {
      "cell_type": "code",
      "source": [
        "model_ar_1_ma_1 = ARMA(df.market_value, order=(1,1))\n",
        "results_ar_1_ma_1 = model_ar_1_ma_1.fit()\n",
        "print(results_ar_1_ma_1.summary())"
      ],
      "metadata": {
        "colab": {
          "base_uri": "https://localhost:8080/"
        },
        "id": "Edfrdm6a0i0k",
        "outputId": "24502620-a6a9-463d-f5a1-86a0d1878065"
      },
      "execution_count": 70,
      "outputs": [
        {
          "output_type": "stream",
          "name": "stdout",
          "text": [
            "                              ARMA Model Results                              \n",
            "==============================================================================\n",
            "Dep. Variable:           market_value   No. Observations:                 5021\n",
            "Model:                     ARMA(1, 1)   Log Likelihood              -27621.784\n",
            "Method:                       css-mle   S.D. of innovations             59.248\n",
            "Date:                Tue, 02 Aug 2022   AIC                          55251.568\n",
            "Time:                        09:12:50   BIC                          55277.654\n",
            "Sample:                    01-07-1994   HQIC                         55260.709\n",
            "                         - 04-05-2013                                         \n",
            "======================================================================================\n",
            "                         coef    std err          z      P>|z|      [0.025      0.975]\n",
            "--------------------------------------------------------------------------------------\n",
            "const               5031.5678    496.810     10.128      0.000    4057.837    6005.298\n",
            "ar.L1.market_value     0.9985      0.001   1324.999      0.000       0.997       1.000\n",
            "ma.L1.market_value    -0.0190      0.015     -1.274      0.203      -0.048       0.010\n",
            "                                    Roots                                    \n",
            "=============================================================================\n",
            "                  Real          Imaginary           Modulus         Frequency\n",
            "-----------------------------------------------------------------------------\n",
            "AR.1            1.0015           +0.0000j            1.0015            0.0000\n",
            "MA.1           52.5113           +0.0000j           52.5113            0.0000\n",
            "-----------------------------------------------------------------------------\n"
          ]
        }
      ]
    },
    {
      "cell_type": "markdown",
      "source": [
        "The p-value of MA coefficient is not significant.Therefore we need to examine the **residual** before going towards over parameterized model."
      ],
      "metadata": {
        "id": "evIAAkNG1Du9"
      }
    },
    {
      "cell_type": "code",
      "source": [
        "df['res_ar_1_ma_1'] = results_ar_1_ma_1.resid"
      ],
      "metadata": {
        "colab": {
          "base_uri": "https://localhost:8080/"
        },
        "id": "YpcmX-LG1ziy",
        "outputId": "9ecb3f73-c6a9-475e-a172-e6039a8b03ed"
      },
      "execution_count": 71,
      "outputs": [
        {
          "output_type": "stream",
          "name": "stderr",
          "text": [
            "/usr/local/lib/python3.7/dist-packages/ipykernel_launcher.py:1: SettingWithCopyWarning: \n",
            "A value is trying to be set on a copy of a slice from a DataFrame.\n",
            "Try using .loc[row_indexer,col_indexer] = value instead\n",
            "\n",
            "See the caveats in the documentation: https://pandas.pydata.org/pandas-docs/stable/user_guide/indexing.html#returning-a-view-versus-a-copy\n",
            "  \"\"\"Entry point for launching an IPython kernel.\n"
          ]
        }
      ]
    },
    {
      "cell_type": "code",
      "source": [
        "sgt.plot_acf(df.res_ar_1_ma_1, zero=False, lags=40)\n",
        "plt.title(\"ACF Residuals for Prices\", size=20)\n",
        "plt.show()"
      ],
      "metadata": {
        "id": "8JWls3Rd5lZJ",
        "outputId": "a4bbc63d-82e3-45f5-d7f7-8f8a53bcf9b0",
        "colab": {
          "base_uri": "https://localhost:8080/",
          "height": 289
        }
      },
      "execution_count": 72,
      "outputs": [
        {
          "output_type": "display_data",
          "data": {
            "text/plain": [
              "<Figure size 432x288 with 1 Axes>"
            ],
            "image/png": "[encoded data removed]"
          },
          "metadata": {}
        }
      ]
    },
    {
      "cell_type": "code",
      "source": [
        "model_ar_6_ma_6 = ARMA(df.market_value, order=(6,6))\n",
        "results_ar_6_ma_6 = model_ar_6_ma_6.fit()\n",
        "print(results_ar_6_ma_6.summary())"
      ],
      "metadata": {
        "id": "jvRQ3wsQ53Zk",
        "outputId": "65aea61f-1599-48d7-a214-8d530ecca8ba",
        "colab": {
          "base_uri": "https://localhost:8080/",
          "height": 380
        }
      },
      "execution_count": 73,
      "outputs": [
        {
          "output_type": "error",
          "ename": "ValueError",
          "evalue": "ignored",
          "traceback": [
            "\u001b[0;31m---------------------------------------------------------------------------\u001b[0m",
            "\u001b[0;31mValueError\u001b[0m                                Traceback (most recent call last)",
            "\u001b[0;32m<ipython-input-73-5be65eaea646>\u001b[0m in \u001b[0;36m<module>\u001b[0;34m()\u001b[0m\n\u001b[1;32m      1\u001b[0m \u001b[0mmodel_ar_6_ma_6\u001b[0m \u001b[0;34m=\u001b[0m \u001b[0mARMA\u001b[0m\u001b[0;34m(\u001b[0m\u001b[0mdf\u001b[0m\u001b[0;34m.\u001b[0m\u001b[0mmarket_value\u001b[0m\u001b[0;34m,\u001b[0m \u001b[0morder\u001b[0m\u001b[0;34m=\u001b[0m\u001b[0;34m(\u001b[0m\u001b[0;36m6\u001b[0m\u001b[0;34m,\u001b[0m\u001b[0;36m6\u001b[0m\u001b[0;34m)\u001b[0m\u001b[0;34m)\u001b[0m\u001b[0;34m\u001b[0m\u001b[0;34m\u001b[0m\u001b[0m\n\u001b[0;32m----> 2\u001b[0;31m \u001b[0mresults_ar_6_ma_6\u001b[0m \u001b[0;34m=\u001b[0m \u001b[0mmodel_ar_6_ma_6\u001b[0m\u001b[0;34m.\u001b[0m\u001b[0mfit\u001b[0m\u001b[0;34m(\u001b[0m\u001b[0;34m)\u001b[0m\u001b[0;34m\u001b[0m\u001b[0;34m\u001b[0m\u001b[0m\n\u001b[0m\u001b[1;32m      3\u001b[0m \u001b[0mprint\u001b[0m\u001b[0;34m(\u001b[0m\u001b[0mresults_ar_6_ma_6\u001b[0m\u001b[0;34m.\u001b[0m\u001b[0msummary\u001b[0m\u001b[0;34m(\u001b[0m\u001b[0;34m)\u001b[0m\u001b[0;34m)\u001b[0m\u001b[0;34m\u001b[0m\u001b[0;34m\u001b[0m\u001b[0m\n",
            "\u001b[0;32m/usr/local/lib/python3.7/dist-packages/statsmodels/tsa/arima_model.py\u001b[0m in \u001b[0;36mfit\u001b[0;34m(self, start_params, trend, method, transparams, solver, maxiter, full_output, disp, callback, start_ar_lags, **kwargs)\u001b[0m\n\u001b[1;32m    936\u001b[0m         \u001b[0;32melse\u001b[0m\u001b[0;34m:\u001b[0m  \u001b[0;31m# estimate starting parameters\u001b[0m\u001b[0;34m\u001b[0m\u001b[0;34m\u001b[0m\u001b[0m\n\u001b[1;32m    937\u001b[0m             start_params = self._fit_start_params((k_ar, k_ma, k), method,\n\u001b[0;32m--> 938\u001b[0;31m                                                   start_ar_lags)\n\u001b[0m\u001b[1;32m    939\u001b[0m \u001b[0;34m\u001b[0m\u001b[0m\n\u001b[1;32m    940\u001b[0m         \u001b[0;32mif\u001b[0m \u001b[0mtransparams\u001b[0m\u001b[0;34m:\u001b[0m  \u001b[0;31m# transform initial parameters to ensure invertibility\u001b[0m\u001b[0;34m\u001b[0m\u001b[0;34m\u001b[0m\u001b[0m\n",
            "\u001b[0;32m/usr/local/lib/python3.7/dist-packages/statsmodels/tsa/arima_model.py\u001b[0m in \u001b[0;36m_fit_start_params\u001b[0;34m(self, order, method, start_ar_lags)\u001b[0m\n\u001b[1;32m    552\u001b[0m             \u001b[0mfunc\u001b[0m \u001b[0;34m=\u001b[0m \u001b[0;32mlambda\u001b[0m \u001b[0mparams\u001b[0m\u001b[0;34m:\u001b[0m \u001b[0;34m-\u001b[0m\u001b[0mself\u001b[0m\u001b[0;34m.\u001b[0m\u001b[0mloglike_css\u001b[0m\u001b[0;34m(\u001b[0m\u001b[0mparams\u001b[0m\u001b[0;34m)\u001b[0m\u001b[0;34m\u001b[0m\u001b[0;34m\u001b[0m\u001b[0m\n\u001b[1;32m    553\u001b[0m             \u001b[0;31m#start_params = [.1]*(k_ar+k_ma+k_exog) # different one for k?\u001b[0m\u001b[0;34m\u001b[0m\u001b[0;34m\u001b[0m\u001b[0;34m\u001b[0m\u001b[0m\n\u001b[0;32m--> 554\u001b[0;31m             \u001b[0mstart_params\u001b[0m \u001b[0;34m=\u001b[0m \u001b[0mself\u001b[0m\u001b[0;34m.\u001b[0m\u001b[0m_fit_start_params_hr\u001b[0m\u001b[0;34m(\u001b[0m\u001b[0morder\u001b[0m\u001b[0;34m,\u001b[0m \u001b[0mstart_ar_lags\u001b[0m\u001b[0;34m)\u001b[0m\u001b[0;34m\u001b[0m\u001b[0;34m\u001b[0m\u001b[0m\n\u001b[0m\u001b[1;32m    555\u001b[0m             \u001b[0;32mif\u001b[0m \u001b[0mself\u001b[0m\u001b[0;34m.\u001b[0m\u001b[0mtransparams\u001b[0m\u001b[0;34m:\u001b[0m\u001b[0;34m\u001b[0m\u001b[0;34m\u001b[0m\u001b[0m\n\u001b[1;32m    556\u001b[0m                 \u001b[0mstart_params\u001b[0m \u001b[0;34m=\u001b[0m \u001b[0mself\u001b[0m\u001b[0;34m.\u001b[0m\u001b[0m_invtransparams\u001b[0m\u001b[0;34m(\u001b[0m\u001b[0mstart_params\u001b[0m\u001b[0;34m)\u001b[0m\u001b[0;34m\u001b[0m\u001b[0;34m\u001b[0m\u001b[0m\n",
            "\u001b[0;32m/usr/local/lib/python3.7/dist-packages/statsmodels/tsa/arima_model.py\u001b[0m in \u001b[0;36m_fit_start_params_hr\u001b[0;34m(self, order, start_ar_lags)\u001b[0m\n\u001b[1;32m    531\u001b[0m         if p and not np.all(np.abs(np.roots(np.r_[1, -start_params[k:k + p]]\n\u001b[1;32m    532\u001b[0m                                             )) < 1):\n\u001b[0;32m--> 533\u001b[0;31m             raise ValueError(\"The computed initial AR coefficients are not \"\n\u001b[0m\u001b[1;32m    534\u001b[0m                              \u001b[0;34m\"stationary\\nYou should induce stationarity, \"\u001b[0m\u001b[0;34m\u001b[0m\u001b[0;34m\u001b[0m\u001b[0m\n\u001b[1;32m    535\u001b[0m                              \u001b[0;34m\"choose a different model order, or you can\\n\"\u001b[0m\u001b[0;34m\u001b[0m\u001b[0;34m\u001b[0m\u001b[0m\n",
            "\u001b[0;31mValueError\u001b[0m: The computed initial AR coefficients are not stationary\nYou should induce stationarity, choose a different model order, or you can\npass your own start_params."
          ]
        }
      ]
    },
    {
      "cell_type": "markdown",
      "source": [
        "The above error says the issue with AR coefficients and the last solution is **\"pass your own parameters\"** .\n",
        "\n",
        "We do this by passing **\"start_ar_lags\"** parameter in the **fit()** method of the model. The values are the integers **greater** than the **AR order** of the model."
      ],
      "metadata": {
        "id": "JqwTUY276TmO"
      }
    },
    {
      "cell_type": "code",
      "source": [
        "## we have tried with various start_ar_lags parameters and 11 shows stable result\n",
        "model_ar_6_ma_6 = ARMA(df.market_value, order=(6,6))\n",
        "results_ar_6_ma_6 = model_ar_6_ma_6.fit(start_ar_lags=11)\n",
        "print(results_ar_6_ma_6.summary())"
      ],
      "metadata": {
        "id": "Ii1xyW--7LCK",
        "outputId": "7c1e4605-fe14-4426-90fc-cb8ceaf46fb9",
        "colab": {
          "base_uri": "https://localhost:8080/"
        }
      },
      "execution_count": 74,
      "outputs": [
        {
          "output_type": "stream",
          "name": "stdout",
          "text": [
            "                              ARMA Model Results                              \n",
            "==============================================================================\n",
            "Dep. Variable:           market_value   No. Observations:                 5021\n",
            "Model:                     ARMA(6, 6)   Log Likelihood              -27587.932\n",
            "Method:                       css-mle   S.D. of innovations             58.849\n",
            "Date:                Tue, 02 Aug 2022   AIC                          55203.864\n",
            "Time:                        09:42:02   BIC                          55295.164\n",
            "Sample:                    01-07-1994   HQIC                         55235.856\n",
            "                         - 04-05-2013                                         \n",
            "======================================================================================\n",
            "                         coef    std err          z      P>|z|      [0.025      0.975]\n",
            "--------------------------------------------------------------------------------------\n",
            "const               5089.6488    568.148      8.958      0.000    3976.100    6203.198\n",
            "ar.L1.market_value     1.9272      0.032     59.876      0.000       1.864       1.990\n",
            "ar.L2.market_value    -1.7356      0.040    -43.336      0.000      -1.814      -1.657\n",
            "ar.L3.market_value     1.2677      0.034     36.798      0.000       1.200       1.335\n",
            "ar.L4.market_value    -0.2375      0.156     -1.522      0.128      -0.543       0.068\n",
            "ar.L5.market_value    -0.4059      0.163     -2.486      0.013      -0.726      -0.086\n",
            "ar.L6.market_value     0.1837      0.049      3.761      0.000       0.088       0.279\n",
            "ma.L1.market_value    -0.9483      0.035    -27.015      0.000      -1.017      -0.879\n",
            "ma.L2.market_value     0.7799      0.032     24.189      0.000       0.717       0.843\n",
            "ma.L3.market_value    -0.5084      0.031    -16.320      0.000      -0.569      -0.447\n",
            "ma.L4.market_value    -0.1561      0.157     -0.996      0.319      -0.463       0.151\n",
            "ma.L5.market_value     0.0949      0.057      1.675      0.094      -0.016       0.206\n",
            "ma.L6.market_value     0.0670      0.024      2.823      0.005       0.020       0.114\n",
            "                                    Roots                                    \n",
            "=============================================================================\n",
            "                  Real          Imaginary           Modulus         Frequency\n",
            "-----------------------------------------------------------------------------\n",
            "AR.1            0.0857           -1.0502j            1.0537           -0.2370\n",
            "AR.2            0.0857           +1.0502j            1.0537            0.2370\n",
            "AR.3           -2.0264           -0.0000j            2.0264           -0.5000\n",
            "AR.4            1.0011           -0.0000j            1.0011           -0.0000\n",
            "AR.5            1.5318           -0.2659j            1.5548           -0.0274\n",
            "AR.6            1.5318           +0.2659j            1.5548            0.0274\n",
            "MA.1            0.1028           -1.0612j            1.0662           -0.2346\n",
            "MA.2            0.1028           +1.0612j            1.0662            0.2346\n",
            "MA.3            1.3629           -0.2791j            1.3912           -0.0322\n",
            "MA.4            1.3629           +0.2791j            1.3912            0.0322\n",
            "MA.5           -2.1740           -1.4344j            2.6046           -0.4072\n",
            "MA.6           -2.1740           +1.4344j            2.6046            0.4072\n",
            "-----------------------------------------------------------------------------\n"
          ]
        }
      ]
    },
    {
      "cell_type": "markdown",
      "source": [
        "We have seen that some of the coefficients are insignificant.\n",
        "\n",
        "We should lower the total number of lags. We should try all models which contain either 6 AR lags or 6 MA lags.\n",
        "\n",
        "Here we are trying ARMA(5,6) and ARMA(6,1) models."
      ],
      "metadata": {
        "id": "9xiWyWnX7q2z"
      }
    },
    {
      "cell_type": "code",
      "source": [
        "model_ar_5_ma_6 = ARMA(df.market_value, order=(5,6))\n",
        "results_ar_5_ma_6 = model_ar_5_ma_6.fit(start_ar_lags=7)\n",
        "print(results_ar_5_ma_6.summary())"
      ],
      "metadata": {
        "id": "17DV0d458eV5",
        "outputId": "98d60f55-843c-4a02-f848-a2f52d30cf3f",
        "colab": {
          "base_uri": "https://localhost:8080/"
        }
      },
      "execution_count": 75,
      "outputs": [
        {
          "output_type": "stream",
          "name": "stdout",
          "text": [
            "                              ARMA Model Results                              \n",
            "==============================================================================\n",
            "Dep. Variable:           market_value   No. Observations:                 5021\n",
            "Model:                     ARMA(5, 6)   Log Likelihood              -27587.863\n",
            "Method:                       css-mle   S.D. of innovations             58.849\n",
            "Date:                Tue, 02 Aug 2022   AIC                          55201.726\n",
            "Time:                        09:47:19   BIC                          55286.504\n",
            "Sample:                    01-07-1994   HQIC                         55231.433\n",
            "                         - 04-05-2013                                         \n",
            "======================================================================================\n",
            "                         coef    std err          z      P>|z|      [0.025      0.975]\n",
            "--------------------------------------------------------------------------------------\n",
            "const               5089.6464    580.870      8.762      0.000    3951.163    6228.130\n",
            "ar.L1.market_value     1.3584      0.177      7.655      0.000       1.011       1.706\n",
            "ar.L2.market_value    -1.1288      0.237     -4.763      0.000      -1.593      -0.664\n",
            "ar.L3.market_value     0.9146      0.228      4.003      0.000       0.467       1.362\n",
            "ar.L4.market_value     0.0160      0.204      0.078      0.937      -0.383       0.415\n",
            "ar.L5.market_value    -0.1613      0.119     -1.353      0.176      -0.395       0.072\n",
            "ma.L1.market_value    -0.3795      0.178     -2.133      0.033      -0.728      -0.031\n",
            "ma.L2.market_value     0.7293      0.125      5.833      0.000       0.484       0.974\n",
            "ma.L3.market_value    -0.2197      0.153     -1.438      0.151      -0.519       0.080\n",
            "ma.L4.market_value    -0.1387      0.114     -1.216      0.224      -0.362       0.085\n",
            "ma.L5.market_value    -0.0879      0.017     -5.325      0.000      -0.120      -0.056\n",
            "ma.L6.market_value     0.0265      0.024      1.128      0.259      -0.020       0.073\n",
            "                                    Roots                                    \n",
            "=============================================================================\n",
            "                  Real          Imaginary           Modulus         Frequency\n",
            "-----------------------------------------------------------------------------\n",
            "AR.1            0.0917           -1.0418j            1.0459           -0.2360\n",
            "AR.2            0.0917           +1.0418j            1.0459            0.2360\n",
            "AR.3            1.0010           -0.0000j            1.0010           -0.0000\n",
            "AR.4            1.8980           -0.0000j            1.8980           -0.0000\n",
            "AR.5           -2.9835           -0.0000j            2.9835           -0.5000\n",
            "MA.1            0.1071           -1.0487j            1.0542           -0.2338\n",
            "MA.2            0.1071           +1.0487j            1.0542            0.2338\n",
            "MA.3           -1.5354           -1.5156j            2.1574           -0.3760\n",
            "MA.4           -1.5354           +1.5156j            2.1574            0.3760\n",
            "MA.5            1.5919           -0.0000j            1.5919           -0.0000\n",
            "MA.6            4.5792           -0.0000j            4.5792           -0.0000\n",
            "-----------------------------------------------------------------------------\n"
          ]
        }
      ]
    },
    {
      "cell_type": "code",
      "source": [
        "model_ar_6_ma_1 = ARMA(df.market_value, order=(6,1))\n",
        "results_ar_6_ma_1 = model_ar_6_ma_1.fit(start_ar_lags=7)\n",
        "print(results_ar_6_ma_1.summary())"
      ],
      "metadata": {
        "id": "8WqJe7Vn861j",
        "outputId": "b812bfab-9718-4874-f72e-3da673a5fc86",
        "colab": {
          "base_uri": "https://localhost:8080/"
        }
      },
      "execution_count": 76,
      "outputs": [
        {
          "output_type": "stream",
          "name": "stdout",
          "text": [
            "                              ARMA Model Results                              \n",
            "==============================================================================\n",
            "Dep. Variable:           market_value   No. Observations:                 5021\n",
            "Model:                     ARMA(6, 1)   Log Likelihood              -27594.195\n",
            "Method:                       css-mle   S.D. of innovations             58.923\n",
            "Date:                Tue, 02 Aug 2022   AIC                          55206.389\n",
            "Time:                        09:47:47   BIC                          55265.082\n",
            "Sample:                    01-07-1994   HQIC                         55226.956\n",
            "                         - 04-05-2013                                         \n",
            "======================================================================================\n",
            "                         coef    std err          z      P>|z|      [0.025      0.975]\n",
            "--------------------------------------------------------------------------------------\n",
            "const               5089.6419    586.495      8.678      0.000    3940.133    6239.151\n",
            "ar.L1.market_value     1.3921      0.058     23.929      0.000       1.278       1.506\n",
            "ar.L2.market_value    -0.4369      0.059     -7.400      0.000      -0.553      -0.321\n",
            "ar.L3.market_value    -0.0101      0.025     -0.409      0.683      -0.059       0.038\n",
            "ar.L4.market_value     0.1126      0.025      4.527      0.000       0.064       0.161\n",
            "ar.L5.market_value    -0.1158      0.025     -4.717      0.000      -0.164      -0.068\n",
            "ar.L6.market_value     0.0573      0.014      4.067      0.000       0.030       0.085\n",
            "ma.L1.market_value    -0.4127      0.060     -6.925      0.000      -0.529      -0.296\n",
            "                                    Roots                                    \n",
            "=============================================================================\n",
            "                  Real          Imaginary           Modulus         Frequency\n",
            "-----------------------------------------------------------------------------\n",
            "AR.1            1.0010           -0.0000j            1.0010           -0.0000\n",
            "AR.2           -1.7608           -0.0000j            1.7608           -0.5000\n",
            "AR.3           -0.0803           -1.8407j            1.8425           -0.2569\n",
            "AR.4           -0.0803           +1.8407j            1.8425            0.2569\n",
            "AR.5            1.4694           -0.8691j            1.7072           -0.0850\n",
            "AR.6            1.4694           +0.8691j            1.7072            0.0850\n",
            "MA.1            2.4233           +0.0000j            2.4233            0.0000\n",
            "-----------------------------------------------------------------------------\n"
          ]
        }
      ]
    },
    {
      "cell_type": "markdown",
      "source": [
        "## Check for the Log-Likelihood and Information Criterion"
      ],
      "metadata": {
        "id": "_UyttYdn9DSi"
      }
    },
    {
      "cell_type": "code",
      "source": [
        "## print the 'llf' and information criterion AIC\n",
        "print(\"\\nARMA(5,6): LL = \", results_ar_5_ma_6.llf, \"\\tAIC : \", results_ar_5_ma_6.aic)\n",
        "print(\"\\nARMA(6,1): LL = \", results_ar_6_ma_1.llf, \"\\tAIC : \", results_ar_6_ma_1.aic)"
      ],
      "metadata": {
        "id": "WADIGOmg9SSm",
        "outputId": "0d0ec961-7740-4f2f-cc16-9cf0ee85b363",
        "colab": {
          "base_uri": "https://localhost:8080/"
        }
      },
      "execution_count": 78,
      "outputs": [
        {
          "output_type": "stream",
          "name": "stdout",
          "text": [
            "\n",
            "ARMA(5,6): LL =  -27587.86294825482 \tAIC :  55201.72589650964\n",
            "\n",
            "ARMA(6,1): LL =  -27594.19457096373 \tAIC :  55206.38914192746\n"
          ]
        }
      ]
    },
    {
      "cell_type": "markdown",
      "source": [
        "ARMA(5,6) outperforms ARMA(6,1) as it has higer log-Likelihood and Lower Information Criterion."
      ],
      "metadata": {
        "id": "eYG4nssf9cye"
      }
    },
    {
      "cell_type": "code",
      "source": [
        "df['res_ar_5_ma_6'] = results_ar_5_ma_6.resid\n",
        "sgt.plot_acf(df.res_ar_5_ma_6, zero=False, lags=40)\n",
        "plt.title(\"ACF Residuals for Prices\", size=20)\n",
        "plt.show()"
      ],
      "metadata": {
        "id": "pK-Po4bv93xn",
        "outputId": "138d2b68-5bb0-43ac-fbd9-7dbf39bdafc8",
        "colab": {
          "base_uri": "https://localhost:8080/",
          "height": 393
        }
      },
      "execution_count": 79,
      "outputs": [
        {
          "output_type": "stream",
          "name": "stderr",
          "text": [
            "/usr/local/lib/python3.7/dist-packages/ipykernel_launcher.py:1: SettingWithCopyWarning: \n",
            "A value is trying to be set on a copy of a slice from a DataFrame.\n",
            "Try using .loc[row_indexer,col_indexer] = value instead\n",
            "\n",
            "See the caveats in the documentation: https://pandas.pydata.org/pandas-docs/stable/user_guide/indexing.html#returning-a-view-versus-a-copy\n",
            "  \"\"\"Entry point for launching an IPython kernel.\n"
          ]
        },
        {
          "output_type": "display_data",
          "data": {
            "text/plain": [
              "<Figure size 432x288 with 1 Axes>"
            ],
            "image/png": "[encoded data removed]"
          },
          "metadata": {}
        }
      ]
    },
    {
      "cell_type": "markdown",
      "source": [
        "## ARMA for Returns vs ARMA for Prices"
      ],
      "metadata": {
        "id": "Jf_bisyf-VwI"
      }
    },
    {
      "cell_type": "code",
      "source": [
        "print(\"\\nARMA(5,6): LL = \", results_ar_5_ma_6.llf, \"\\tAIC : \", results_ar_5_ma_6.aic)\n",
        "print(\"\\nARMA(5,1): LL = \", results_ret_ar_5_ma_1.llf, \"\\tAIC : \", results_ret_ar_5_ma_1.aic)"
      ],
      "metadata": {
        "id": "o5tgEC2h-yQS",
        "outputId": "336a24e2-378a-4b59-cab8-1aa27cf43040",
        "colab": {
          "base_uri": "https://localhost:8080/"
        }
      },
      "execution_count": 80,
      "outputs": [
        {
          "output_type": "stream",
          "name": "stdout",
          "text": [
            "\n",
            "ARMA(5,6): LL =  -27587.86294825482 \tAIC :  55201.72589650964\n",
            "\n",
            "ARMA(5,1): LL =  -7889.31128294623 \tAIC :  15794.62256589246\n"
          ]
        }
      ]
    }
  ]
}
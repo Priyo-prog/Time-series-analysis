{
  "nbformat": 4,
  "nbformat_minor": 0,
  "metadata": {
    "colab": {
      "name": "the_arima_model.ipynb",
      "provenance": [],
      "authorship_tag": "ABX9TyOzUjMHINbZJXni5mXwfGBR",
      "include_colab_link": true
    },
    "kernelspec": {
      "name": "python3",
      "display_name": "Python 3"
    },
    "language_info": {
      "name": "python"
    }
  },
  "cells": [
    {
      "cell_type": "markdown",
      "metadata": {
        "id": "view-in-github",
        "colab_type": "text"
      },
      "source": [
        "<a href=\"https://colab.research.google.com/github/Priyo-prog/Time-series-analysis/blob/main/The%20ARIMA%20Model/the_arima_model.ipynb\" target=\"_parent\"><img src=\"https://colab.research.google.com/assets/colab-badge.svg\" alt=\"Open In Colab\"/></a>"
      ]
    },
    {
      "cell_type": "markdown",
      "source": [
        "#**The ARIMA Model**\n",
        "\n",
        "The **ARIMA** model has 3 orders **(p,d,q)**\n",
        "\n",
        "**p :** - represents **AR** lags\n",
        "\n",
        "**q :** - represents **MA** lags\n",
        "\n",
        "**d :** - represents the integration order. The times we need to integrate the time-series to ensure stationarity.\n",
        "\n",
        "Accounting for non-seasonal difference between periods.\n",
        "\n",
        "**No Integration** :\n",
        "\n",
        "**ARIMA(p,0,q)** = **ARMA(p,q)**\n",
        "\n",
        "**ARIMA(0,0,q)** = **MA(q)**\n",
        "\n",
        "**ARIMA(p,0,0)** = **AR(p)**\n",
        "\n",
        "ARIMA models are more computationally intensive than the ARMA models"
      ],
      "metadata": {
        "id": "REAuHi1eNMsw"
      }
    },
    {
      "cell_type": "markdown",
      "source": [
        "## Import the Libraries and Packages"
      ],
      "metadata": {
        "id": "QlKOpzrLNTbi"
      }
    },
    {
      "cell_type": "code",
      "source": [
        "import pandas as pd\n",
        "import numpy as np\n",
        "import matplotlib.pyplot as plt\n",
        "import statsmodels.graphics.tsaplots as sgt\n",
        "import statsmodels.tsa.stattools as sts\n",
        "from statsmodels.tsa.seasonal import seasonal_decompose\n",
        "from statsmodels.tsa.arima_model import ARMA\n",
        "from statsmodels.tsa.arima_model import ARIMA # new special package for ARIMA models\n",
        "from scipy.stats.distributions import chi2\n",
        "import seaborn as sns\n",
        "sns.set()"
      ],
      "metadata": {
        "id": "JNHtk6jiNmXl"
      },
      "execution_count": 29,
      "outputs": []
    },
    {
      "cell_type": "markdown",
      "source": [
        "## Import the Data"
      ],
      "metadata": {
        "id": "sWltrNEbNomG"
      }
    },
    {
      "cell_type": "code",
      "source": [
        "## mount the google drive to fetch the data\n",
        "from google.colab import drive\n",
        "drive.mount('/content/drive')"
      ],
      "metadata": {
        "id": "fRjyuYhHNvAk",
        "outputId": "427ccf0d-5bbf-4fff-c6b2-1353c8ee0166",
        "colab": {
          "base_uri": "https://localhost:8080/"
        }
      },
      "execution_count": 30,
      "outputs": [
        {
          "output_type": "stream",
          "name": "stdout",
          "text": [
            "Drive already mounted at /content/drive; to attempt to forcibly remount, call drive.mount(\"/content/drive\", force_remount=True).\n"
          ]
        }
      ]
    },
    {
      "cell_type": "code",
      "source": [
        "## load the dataset\n",
        "raw_csv_data = pd.read_csv('/content/drive/MyDrive/Data Science/Time Series/Index2018.csv')\n",
        "raw_csv_data.head()"
      ],
      "metadata": {
        "id": "EtlrEv4MNyZk",
        "outputId": "2b445d9d-10db-46a5-f5ef-1d51589290e1",
        "colab": {
          "base_uri": "https://localhost:8080/",
          "height": 206
        }
      },
      "execution_count": 31,
      "outputs": [
        {
          "output_type": "execute_result",
          "data": {
            "text/plain": [
              "         date     spx      dax     ftse    nikkei\n",
              "0  07/01/1994  469.90  2224.95  3445.98  18124.01\n",
              "1  10/01/1994  475.27  2225.00  3440.58  18443.44\n",
              "2  11/01/1994  474.13  2228.10  3413.77  18485.25\n",
              "3  12/01/1994  474.17  2182.06  3372.02  18793.88\n",
              "4  13/01/1994  472.47  2142.37  3360.01  18577.26"
            ],
            "text/html": [
              "\n",
              "  <div id=\"df-3d9b9488-7433-4a7e-838b-c6bcdd6395da\">\n",
              "    <div class=\"colab-df-container\">\n",
              "      <div>\n",
              "<style scoped>\n",
              "    .dataframe tbody tr th:only-of-type {\n",
              "        vertical-align: middle;\n",
              "    }\n",
              "\n",
              "    .dataframe tbody tr th {\n",
              "        vertical-align: top;\n",
              "    }\n",
              "\n",
              "    .dataframe thead th {\n",
              "        text-align: right;\n",
              "    }\n",
              "</style>\n",
              "<table border=\"1\" class=\"dataframe\">\n",
              "  <thead>\n",
              "    <tr style=\"text-align: right;\">\n",
              "      <th></th>\n",
              "      <th>date</th>\n",
              "      <th>spx</th>\n",
              "      <th>dax</th>\n",
              "      <th>ftse</th>\n",
              "      <th>nikkei</th>\n",
              "    </tr>\n",
              "  </thead>\n",
              "  <tbody>\n",
              "    <tr>\n",
              "      <th>0</th>\n",
              "      <td>07/01/1994</td>\n",
              "      <td>469.90</td>\n",
              "      <td>2224.95</td>\n",
              "      <td>3445.98</td>\n",
              "      <td>18124.01</td>\n",
              "    </tr>\n",
              "    <tr>\n",
              "      <th>1</th>\n",
              "      <td>10/01/1994</td>\n",
              "      <td>475.27</td>\n",
              "      <td>2225.00</td>\n",
              "      <td>3440.58</td>\n",
              "      <td>18443.44</td>\n",
              "    </tr>\n",
              "    <tr>\n",
              "      <th>2</th>\n",
              "      <td>11/01/1994</td>\n",
              "      <td>474.13</td>\n",
              "      <td>2228.10</td>\n",
              "      <td>3413.77</td>\n",
              "      <td>18485.25</td>\n",
              "    </tr>\n",
              "    <tr>\n",
              "      <th>3</th>\n",
              "      <td>12/01/1994</td>\n",
              "      <td>474.17</td>\n",
              "      <td>2182.06</td>\n",
              "      <td>3372.02</td>\n",
              "      <td>18793.88</td>\n",
              "    </tr>\n",
              "    <tr>\n",
              "      <th>4</th>\n",
              "      <td>13/01/1994</td>\n",
              "      <td>472.47</td>\n",
              "      <td>2142.37</td>\n",
              "      <td>3360.01</td>\n",
              "      <td>18577.26</td>\n",
              "    </tr>\n",
              "  </tbody>\n",
              "</table>\n",
              "</div>\n",
              "      <button class=\"colab-df-convert\" onclick=\"convertToInteractive('df-3d9b9488-7433-4a7e-838b-c6bcdd6395da')\"\n",
              "              title=\"Convert this dataframe to an interactive table.\"\n",
              "              style=\"display:none;\">\n",
              "        \n",
              "  <svg xmlns=\"http://www.w3.org/2000/svg\" height=\"24px\"viewBox=\"0 0 24 24\"\n",
              "       width=\"24px\">\n",
              "    <path d=\"M0 0h24v24H0V0z\" fill=\"none\"/>\n",
              "    <path d=\"M18.56 5.44l.94 2.06.94-2.06 2.06-.94-2.06-.94-.94-2.06-.94 2.06-2.06.94zm-11 1L8.5 8.5l.94-2.06 2.06-.94-2.06-.94L8.5 2.5l-.94 2.06-2.06.94zm10 10l.94 2.06.94-2.06 2.06-.94-2.06-.94-.94-2.06-.94 2.06-2.06.94z\"/><path d=\"M17.41 7.96l-1.37-1.37c-.4-.4-.92-.59-1.43-.59-.52 0-1.04.2-1.43.59L10.3 9.45l-7.72 7.72c-.78.78-.78 2.05 0 2.83L4 21.41c.39.39.9.59 1.41.59.51 0 1.02-.2 1.41-.59l7.78-7.78 2.81-2.81c.8-.78.8-2.07 0-2.86zM5.41 20L4 18.59l7.72-7.72 1.47 1.35L5.41 20z\"/>\n",
              "  </svg>\n",
              "      </button>\n",
              "      \n",
              "  <style>\n",
              "    .colab-df-container {\n",
              "      display:flex;\n",
              "      flex-wrap:wrap;\n",
              "      gap: 12px;\n",
              "    }\n",
              "\n",
              "    .colab-df-convert {\n",
              "      background-color: #E8F0FE;\n",
              "      border: none;\n",
              "      border-radius: 50%;\n",
              "      cursor: pointer;\n",
              "      display: none;\n",
              "      fill: #1967D2;\n",
              "      height: 32px;\n",
              "      padding: 0 0 0 0;\n",
              "      width: 32px;\n",
              "    }\n",
              "\n",
              "    .colab-df-convert:hover {\n",
              "      background-color: #E2EBFA;\n",
              "      box-shadow: 0px 1px 2px rgba(60, 64, 67, 0.3), 0px 1px 3px 1px rgba(60, 64, 67, 0.15);\n",
              "      fill: #174EA6;\n",
              "    }\n",
              "\n",
              "    [theme=dark] .colab-df-convert {\n",
              "      background-color: #3B4455;\n",
              "      fill: #D2E3FC;\n",
              "    }\n",
              "\n",
              "    [theme=dark] .colab-df-convert:hover {\n",
              "      background-color: #434B5C;\n",
              "      box-shadow: 0px 1px 3px 1px rgba(0, 0, 0, 0.15);\n",
              "      filter: drop-shadow(0px 1px 2px rgba(0, 0, 0, 0.3));\n",
              "      fill: #FFFFFF;\n",
              "    }\n",
              "  </style>\n",
              "\n",
              "      <script>\n",
              "        const buttonEl =\n",
              "          document.querySelector('#df-3d9b9488-7433-4a7e-838b-c6bcdd6395da button.colab-df-convert');\n",
              "        buttonEl.style.display =\n",
              "          google.colab.kernel.accessAllowed ? 'block' : 'none';\n",
              "\n",
              "        async function convertToInteractive(key) {\n",
              "          const element = document.querySelector('#df-3d9b9488-7433-4a7e-838b-c6bcdd6395da');\n",
              "          const dataTable =\n",
              "            await google.colab.kernel.invokeFunction('convertToInteractive',\n",
              "                                                     [key], {});\n",
              "          if (!dataTable) return;\n",
              "\n",
              "          const docLinkHtml = 'Like what you see? Visit the ' +\n",
              "            '<a target=\"_blank\" href=https://colab.research.google.com/notebooks/data_table.ipynb>data table notebook</a>'\n",
              "            + ' to learn more about interactive tables.';\n",
              "          element.innerHTML = '';\n",
              "          dataTable['output_type'] = 'display_data';\n",
              "          await google.colab.output.renderOutput(dataTable, element);\n",
              "          const docLink = document.createElement('div');\n",
              "          docLink.innerHTML = docLinkHtml;\n",
              "          element.appendChild(docLink);\n",
              "        }\n",
              "      </script>\n",
              "    </div>\n",
              "  </div>\n",
              "  "
            ]
          },
          "metadata": {},
          "execution_count": 31
        }
      ]
    },
    {
      "cell_type": "markdown",
      "source": [
        "## Preprocess the Data"
      ],
      "metadata": {
        "id": "rD3MlOH6T0Vb"
      }
    },
    {
      "cell_type": "code",
      "source": [
        "## transforming the dataset\n",
        "df_comp = raw_csv_data.copy()\n",
        "df_comp.date = pd.to_datetime(df_comp.date, dayfirst=True)\n",
        "df_comp.set_index(\"date\", inplace=True)\n",
        "df_comp = df_comp.asfreq('b') # business days as frequency\n",
        "df_comp = df_comp.fillna(method='ffill')"
      ],
      "metadata": {
        "id": "jgKQFIIIN4ni"
      },
      "execution_count": 32,
      "outputs": []
    },
    {
      "cell_type": "code",
      "source": [
        "df_comp['market_value'] = df_comp.ftse"
      ],
      "metadata": {
        "id": "ba7VF8IPN6hB"
      },
      "execution_count": 33,
      "outputs": []
    },
    {
      "cell_type": "code",
      "source": [
        "del df_comp['dax'], df_comp['ftse'], df_comp['nikkei']"
      ],
      "metadata": {
        "id": "TSBHMvH5N9KR"
      },
      "execution_count": 34,
      "outputs": []
    },
    {
      "cell_type": "markdown",
      "source": [
        "## Splitting the Training and Testing Set"
      ],
      "metadata": {
        "id": "smyM0bFfN_bQ"
      }
    },
    {
      "cell_type": "code",
      "source": [
        "## Getting the 80% of data as training set\n",
        "size = int(len(df_comp) * 0.8)\n",
        "df, df_test = df_comp.iloc[:size], df_comp.iloc[size:]"
      ],
      "metadata": {
        "id": "gpoBZoOkOE6_"
      },
      "execution_count": 35,
      "outputs": []
    },
    {
      "cell_type": "markdown",
      "source": [
        "## The Log-Likelihood Ratio Test"
      ],
      "metadata": {
        "id": "TsTBLHWxOHH3"
      }
    },
    {
      "cell_type": "code",
      "source": [
        "def llr_test(mod_1, mod_2, DF=1):\n",
        "   \"\"\" mod_1, mod_2= models to compare, df=degrees of freedom\"\"\"\n",
        "   L1 = mod_1.fit(trend='nc').llf ## Add trend='ct'\n",
        "   L2 = mod_2.fit(trend='nc').llf ## log likelihood\n",
        "   LR = (2*(L2-L1)) ## test statistics\n",
        "   p = chi2.sf(LR, DF).round(3) ## p-value\n",
        "   return p"
      ],
      "metadata": {
        "id": "4zzGWIo4SJln"
      },
      "execution_count": 36,
      "outputs": []
    },
    {
      "cell_type": "markdown",
      "source": [
        "## Creating Returns"
      ],
      "metadata": {
        "id": "9ApHHnaeSU24"
      }
    },
    {
      "cell_type": "code",
      "source": [
        "df['returns'] = df.market_value.pct_change(1).mul(100)"
      ],
      "metadata": {
        "id": "xp6D9Xj3SY42",
        "outputId": "b8ad386e-8ec8-4df0-8b7a-e038ded5edf2",
        "colab": {
          "base_uri": "https://localhost:8080/"
        }
      },
      "execution_count": 37,
      "outputs": [
        {
          "output_type": "stream",
          "name": "stderr",
          "text": [
            "/usr/local/lib/python3.7/dist-packages/ipykernel_launcher.py:1: SettingWithCopyWarning: \n",
            "A value is trying to be set on a copy of a slice from a DataFrame.\n",
            "Try using .loc[row_indexer,col_indexer] = value instead\n",
            "\n",
            "See the caveats in the documentation: https://pandas.pydata.org/pandas-docs/stable/user_guide/indexing.html#returning-a-view-versus-a-copy\n",
            "  \"\"\"Entry point for launching an IPython kernel.\n"
          ]
        }
      ]
    },
    {
      "cell_type": "markdown",
      "source": [
        "## ARIMA(1,1,1)"
      ],
      "metadata": {
        "id": "mUNJxTD6SmrL"
      }
    },
    {
      "cell_type": "code",
      "source": [
        "model_ar_1_i_1_ma_1 = ARIMA(df.market_value, order=(1,1,1))\n",
        "results_ar_1_i_1_ma_1 = model_ar_1_i_1_ma_1.fit()\n",
        "print(results_ar_1_i_1_ma_1.summary())"
      ],
      "metadata": {
        "id": "57TjXkThS7h7",
        "outputId": "5c115928-a859-4025-9376-6592374f872c",
        "colab": {
          "base_uri": "https://localhost:8080/"
        }
      },
      "execution_count": 38,
      "outputs": [
        {
          "output_type": "stream",
          "name": "stdout",
          "text": [
            "                             ARIMA Model Results                              \n",
            "==============================================================================\n",
            "Dep. Variable:         D.market_value   No. Observations:                 5020\n",
            "Model:                 ARIMA(1, 1, 1)   Log Likelihood              -27603.666\n",
            "Method:                       css-mle   S.D. of innovations             59.134\n",
            "Date:                Wed, 03 Aug 2022   AIC                          55215.333\n",
            "Time:                        06:06:38   BIC                          55241.418\n",
            "Sample:                    01-10-1994   HQIC                         55224.473\n",
            "                         - 04-05-2013                                         \n",
            "========================================================================================\n",
            "                           coef    std err          z      P>|z|      [0.025      0.975]\n",
            "----------------------------------------------------------------------------------------\n",
            "const                    0.5655      0.682      0.829      0.407      -0.772       1.903\n",
            "ar.L1.D.market_value     0.7475      0.070     10.652      0.000       0.610       0.885\n",
            "ma.L1.D.market_value    -0.7936      0.064    -12.378      0.000      -0.919      -0.668\n",
            "                                    Roots                                    \n",
            "=============================================================================\n",
            "                  Real          Imaginary           Modulus         Frequency\n",
            "-----------------------------------------------------------------------------\n",
            "AR.1            1.3378           +0.0000j            1.3378            0.0000\n",
            "MA.1            1.2601           +0.0000j            1.2601            0.0000\n",
            "-----------------------------------------------------------------------------\n"
          ]
        }
      ]
    },
    {
      "cell_type": "markdown",
      "source": [
        "The above results show only 2 coefficients of AR and MA.\n",
        "\n",
        "The integration order (d) has no effect on the number of parameters we need to estimate.\n",
        "\n",
        "We are transforming the underlying data while no modelling is performed."
      ],
      "metadata": {
        "id": "bxx6vAZUTdMh"
      }
    },
    {
      "cell_type": "markdown",
      "source": [
        "## Residuals of the ARIMA(1,1,1)"
      ],
      "metadata": {
        "id": "7XddycLcUZtg"
      }
    },
    {
      "cell_type": "code",
      "source": [
        "df['res_ar_1_i_1_ma_1'] = results_ar_1_i_1_ma_1.resid\n",
        "sgt.plot_acf(df.res_ar_1_i_1_ma_1, zero=False, lags=40)\n",
        "plt.title(\"ACF of Residuals for ARIMA(1,1,1)\", size=20)\n",
        "plt.show()"
      ],
      "metadata": {
        "id": "gVqrB011UzpM",
        "outputId": "4156adb9-b5d5-4d38-a0f5-b428bc5616d4",
        "colab": {
          "base_uri": "https://localhost:8080/",
          "height": 393
        }
      },
      "execution_count": 39,
      "outputs": [
        {
          "output_type": "stream",
          "name": "stderr",
          "text": [
            "/usr/local/lib/python3.7/dist-packages/ipykernel_launcher.py:1: SettingWithCopyWarning: \n",
            "A value is trying to be set on a copy of a slice from a DataFrame.\n",
            "Try using .loc[row_indexer,col_indexer] = value instead\n",
            "\n",
            "See the caveats in the documentation: https://pandas.pydata.org/pandas-docs/stable/user_guide/indexing.html#returning-a-view-versus-a-copy\n",
            "  \"\"\"Entry point for launching an IPython kernel.\n"
          ]
        },
        {
          "output_type": "display_data",
          "data": {
            "text/plain": [
              "<Figure size 432x288 with 1 Axes>"
            ],
            "image/png": "[encoded data removed]"
          },
          "metadata": {}
        }
      ]
    },
    {
      "cell_type": "markdown",
      "source": [
        "In the above graph, we just find a straight line.\n",
        "\n",
        "The ACF failed to compute due to the missing value at the first element.\n",
        "\n",
        "We need to use the residuals from the 2nd period onwards."
      ],
      "metadata": {
        "id": "SooR4DXjVUzG"
      }
    },
    {
      "cell_type": "code",
      "source": [
        "df['res_ar_1_i_1_ma_1'] = results_ar_1_i_1_ma_1.resid\n",
        "sgt.plot_acf(df.res_ar_1_i_1_ma_1[1:], zero=False, lags=40)\n",
        "plt.title(\"ACF of Residuals for ARIMA(1,1,1)\", size=20)\n",
        "plt.show()"
      ],
      "metadata": {
        "id": "gDxlW-2mWMR6",
        "outputId": "978ff988-2458-49c3-9b68-0f61fe6f2513",
        "colab": {
          "base_uri": "https://localhost:8080/",
          "height": 393
        }
      },
      "execution_count": 40,
      "outputs": [
        {
          "output_type": "stream",
          "name": "stderr",
          "text": [
            "/usr/local/lib/python3.7/dist-packages/ipykernel_launcher.py:1: SettingWithCopyWarning: \n",
            "A value is trying to be set on a copy of a slice from a DataFrame.\n",
            "Try using .loc[row_indexer,col_indexer] = value instead\n",
            "\n",
            "See the caveats in the documentation: https://pandas.pydata.org/pandas-docs/stable/user_guide/indexing.html#returning-a-view-versus-a-copy\n",
            "  \"\"\"Entry point for launching an IPython kernel.\n"
          ]
        },
        {
          "output_type": "display_data",
          "data": {
            "text/plain": [
              "<Figure size 432x288 with 1 Axes>"
            ],
            "image/png": "[encoded data removed]"
          },
          "metadata": {}
        }
      ]
    },
    {
      "cell_type": "markdown",
      "source": [
        "## Higher Lag ARIMA Model"
      ],
      "metadata": {
        "id": "sBUXD5MaWP2J"
      }
    },
    {
      "cell_type": "code",
      "source": [
        "model_ar_1_i_1_ma_2 = ARIMA(df.market_value, order=(1,1,2))\n",
        "results_ar_1_i_1_ma_2 = model_ar_1_i_1_ma_2.fit()\n",
        "\n",
        "model_ar_1_i_1_ma_3 = ARIMA(df.market_value, order=(1,1,3))\n",
        "results_ar_1_i_1_ma_3 = model_ar_1_i_1_ma_3.fit()\n",
        "\n",
        "model_ar_2_i_1_ma_1 = ARIMA(df.market_value, order=(2,1,1))\n",
        "results_ar_2_i_1_ma_1 = model_ar_2_i_1_ma_1.fit()\n",
        "\n",
        "model_ar_3_i_1_ma_1 = ARIMA(df.market_value, order=(3,1,1))\n",
        "results_ar_3_i_1_ma_1 = model_ar_3_i_1_ma_1.fit()\n",
        "\n",
        "model_ar_3_i_1_ma_2 = ARIMA(df.market_value, order=(3,1,2))\n",
        "results_ar_3_i_1_ma_2 = model_ar_3_i_1_ma_2.fit(start_ar_lags=5)"
      ],
      "metadata": {
        "id": "mXf98Lwz7HQ7"
      },
      "execution_count": 41,
      "outputs": []
    },
    {
      "cell_type": "markdown",
      "source": [
        "## Print the Log-Likelihood and the Information Criterion AIC"
      ],
      "metadata": {
        "id": "yZ5XYpcI8pdp"
      }
    },
    {
      "cell_type": "code",
      "source": [
        "print(\"ARIMA(1,1,1): \\tLL = \", results_ar_1_i_1_ma_1.llf, \"\\t AIC = \", results_ar_1_i_1_ma_1.aic)\n",
        "print(\"ARIMA(1,1,2): \\tLL = \", results_ar_1_i_1_ma_2.llf, \"\\t AIC = \", results_ar_1_i_1_ma_2.aic)\n",
        "print(\"ARIMA(1,1,3): \\tLL = \", results_ar_1_i_1_ma_3.llf, \"\\t AIC = \", results_ar_1_i_1_ma_3.aic)\n",
        "print(\"ARIMA(2,1,1): \\tLL = \", results_ar_2_i_1_ma_1.llf, \"\\t AIC = \", results_ar_2_i_1_ma_1.aic)\n",
        "print(\"ARIMA(3,1,1): \\tLL = \", results_ar_3_i_1_ma_1.llf, \"\\t AIC = \", results_ar_3_i_1_ma_1.aic)\n",
        "print(\"ARIMA(3,1,2): \\tLL = \", results_ar_3_i_1_ma_2.llf, \"\\t AIC = \", results_ar_3_i_1_ma_2.aic)"
      ],
      "metadata": {
        "id": "ph5YZgHr8yao",
        "outputId": "416e70eb-e122-46e5-8674-4649d81de4e1",
        "colab": {
          "base_uri": "https://localhost:8080/"
        }
      },
      "execution_count": 42,
      "outputs": [
        {
          "output_type": "stream",
          "name": "stdout",
          "text": [
            "ARIMA(1,1,1): \tLL =  -27603.666412774845 \t AIC =  55215.33282554969\n",
            "ARIMA(1,1,2): \tLL =  -27600.081863139967 \t AIC =  55210.163726279934\n",
            "ARIMA(1,1,3): \tLL =  -27590.424032545823 \t AIC =  55192.848065091646\n",
            "ARIMA(2,1,1): \tLL =  -27599.80748784872 \t AIC =  55209.61497569744\n",
            "ARIMA(3,1,1): \tLL =  -27592.05537170885 \t AIC =  55196.1107434177\n",
            "ARIMA(3,1,2): \tLL =  -27590.660808987082 \t AIC =  55195.321617974165\n"
          ]
        }
      ]
    },
    {
      "cell_type": "markdown",
      "source": [
        "ARIMA(1,1,3) has highest Log-Likelihood and lowest information criterion AIC.\n",
        "\n",
        "ARIMA(1,1,1) and ARIMA(1,1,3) are nested therefore we will examine the LLR Test."
      ],
      "metadata": {
        "id": "te7k7R4j9KPT"
      }
    },
    {
      "cell_type": "code",
      "source": [
        "print(\"\\nLLR test p-value = \" + str(llr_test(model_ar_1_i_1_ma_2, model_ar_1_i_1_ma_3)))"
      ],
      "metadata": {
        "id": "3P-L0DKv-fOw",
        "outputId": "6a23c8bf-dd99-4a2c-cd38-3139e315ab98",
        "colab": {
          "base_uri": "https://localhost:8080/"
        }
      },
      "execution_count": 43,
      "outputs": [
        {
          "output_type": "stream",
          "name": "stdout",
          "text": [
            "\n",
            "LLR test p-value = 0.0\n"
          ]
        }
      ]
    },
    {
      "cell_type": "code",
      "source": [
        "print(\"\\nLLR test p-value = \" + str(llr_test(model_ar_1_i_1_ma_1, model_ar_1_i_1_ma_3, DF=2)))"
      ],
      "metadata": {
        "id": "wJ11F-Xe-6Cy",
        "outputId": "57c8af9a-07cd-4535-e87f-bbb4fa95318e",
        "colab": {
          "base_uri": "https://localhost:8080/"
        }
      },
      "execution_count": 44,
      "outputs": [
        {
          "output_type": "stream",
          "name": "stdout",
          "text": [
            "\n",
            "LLR test p-value = 0.0\n"
          ]
        }
      ]
    },
    {
      "cell_type": "markdown",
      "source": [
        "## Plot the ACF"
      ],
      "metadata": {
        "id": "Wo1m6NLG_Drh"
      }
    },
    {
      "cell_type": "code",
      "source": [
        "df['res_ar_1_i_1_ma_3'] = results_ar_1_i_1_ma_3.resid.iloc[:]\n",
        "sgt.plot_acf(df.res_ar_1_i_1_ma_3[1:], zero=False, lags=40)\n",
        "plt.title(\"ACF of Residuals for ARIMA(1,1,3)\", size=20)\n",
        "plt.show()"
      ],
      "metadata": {
        "id": "e4DSzehZ_ZJt",
        "outputId": "98ab81bd-93b2-4df3-fc4a-b3acb863fe53",
        "colab": {
          "base_uri": "https://localhost:8080/",
          "height": 393
        }
      },
      "execution_count": 45,
      "outputs": [
        {
          "output_type": "stream",
          "name": "stderr",
          "text": [
            "/usr/local/lib/python3.7/dist-packages/ipykernel_launcher.py:1: SettingWithCopyWarning: \n",
            "A value is trying to be set on a copy of a slice from a DataFrame.\n",
            "Try using .loc[row_indexer,col_indexer] = value instead\n",
            "\n",
            "See the caveats in the documentation: https://pandas.pydata.org/pandas-docs/stable/user_guide/indexing.html#returning-a-view-versus-a-copy\n",
            "  \"\"\"Entry point for launching an IPython kernel.\n"
          ]
        },
        {
          "output_type": "display_data",
          "data": {
            "text/plain": [
              "<Figure size 432x288 with 1 Axes>"
            ],
            "image/png": "[encoded data removed]"
          },
          "metadata": {}
        }
      ]
    },
    {
      "cell_type": "code",
      "source": [
        "model_ar_5_i_1_ma_1 = ARIMA(df.market_value, order=(5,1,1))\n",
        "results_ar_5_i_1_ma_1 = model_ar_5_i_1_ma_1.fit(start_ar_lags=11)\n",
        "\n",
        "model_ar_6_i_1_ma_3 = ARIMA(df.market_value, order=(6,1,3))\n",
        "results_ar_6_i_1_ma_3 = model_ar_6_i_1_ma_3.fit(start_ar_lags=11)"
      ],
      "metadata": {
        "id": "1IUgSOSQ_rC3"
      },
      "execution_count": 46,
      "outputs": []
    },
    {
      "cell_type": "markdown",
      "source": [
        "## Log-Likelihood and AIC of ARIMA(5,1,1) and ARIMA(6,1,1)"
      ],
      "metadata": {
        "id": "XSUEaHGxBFC9"
      }
    },
    {
      "cell_type": "code",
      "source": [
        "print(\"ARIMA(1,1,3): \\tLL = \", results_ar_1_i_1_ma_3.llf, \"\\t AIC = \", results_ar_1_i_1_ma_3.aic)\n",
        "print(\"ARIMA(5,1,1): \\tLL = \", results_ar_5_i_1_ma_1.llf, \"\\t AIC = \", results_ar_5_i_1_ma_1.aic)\n",
        "print(\"ARIMA(6,1,3): \\tLL = \", results_ar_6_i_1_ma_3.llf, \"\\t AIC = \", results_ar_6_i_1_ma_3.aic)"
      ],
      "metadata": {
        "id": "LtGpGgYpBT_U",
        "outputId": "bb582965-33ed-4052-ca86-e57abf98c4b2",
        "colab": {
          "base_uri": "https://localhost:8080/"
        }
      },
      "execution_count": 47,
      "outputs": [
        {
          "output_type": "stream",
          "name": "stdout",
          "text": [
            "ARIMA(1,1,3): \tLL =  -27590.424032545823 \t AIC =  55192.848065091646\n",
            "ARIMA(5,1,1): \tLL =  -27586.51188812616 \t AIC =  55189.02377625232\n",
            "ARIMA(6,1,3): \tLL =  -27583.565320399106 \t AIC =  55189.13064079821\n"
          ]
        }
      ]
    },
    {
      "cell_type": "markdown",
      "source": [
        "Since both ARIMA(1,1,3) and ARIMA(5,1,1) are nested in ARIMA(6,1,3) we can examine the LLR test."
      ],
      "metadata": {
        "id": "kHKZ0Lx6BeYn"
      }
    },
    {
      "cell_type": "code",
      "source": [
        "print(\"\\nLLR test p-value = \" + str(llr_test(model_ar_1_i_1_ma_3, model_ar_6_i_1_ma_3, DF=5)))"
      ],
      "metadata": {
        "id": "rpZhmCruCVTr",
        "outputId": "0bc424e7-00ba-4fd3-c624-f60190736095",
        "colab": {
          "base_uri": "https://localhost:8080/"
        }
      },
      "execution_count": 48,
      "outputs": [
        {
          "output_type": "stream",
          "name": "stdout",
          "text": [
            "\n",
            "LLR test p-value = 0.003\n"
          ]
        }
      ]
    },
    {
      "cell_type": "code",
      "source": [
        "print(\"\\nLLR test p-value = \" + str(llr_test(model_ar_5_i_1_ma_1, model_ar_6_i_1_ma_3, DF=3)))"
      ],
      "metadata": {
        "id": "Ti6Yc_ciCi5T",
        "outputId": "34a530b8-6976-44e7-9c93-d0be841c2fa0",
        "colab": {
          "base_uri": "https://localhost:8080/"
        }
      },
      "execution_count": 49,
      "outputs": [
        {
          "output_type": "stream",
          "name": "stdout",
          "text": [
            "\n",
            "LLR test p-value = 0.018\n"
          ]
        }
      ]
    },
    {
      "cell_type": "markdown",
      "source": [
        "## The ACF of ARIMA(5,1,1)"
      ],
      "metadata": {
        "id": "OoDNZwLsDMZx"
      }
    },
    {
      "cell_type": "code",
      "source": [
        "df['res_ar_5_i_1_ma_1'] = results_ar_5_i_1_ma_1.resid.iloc[:]\n",
        "sgt.plot_acf(df.res_ar_5_i_1_ma_1[1:], zero=False, lags=40)\n",
        "plt.title(\"ACF of Residuals for ARIMA(5,1,1)\", size=20)\n",
        "plt.show()"
      ],
      "metadata": {
        "id": "bUDf9tjtC5kO",
        "outputId": "df599916-9397-4c46-99ca-aeb4b9766ffb",
        "colab": {
          "base_uri": "https://localhost:8080/",
          "height": 393
        }
      },
      "execution_count": 50,
      "outputs": [
        {
          "output_type": "stream",
          "name": "stderr",
          "text": [
            "/usr/local/lib/python3.7/dist-packages/ipykernel_launcher.py:1: SettingWithCopyWarning: \n",
            "A value is trying to be set on a copy of a slice from a DataFrame.\n",
            "Try using .loc[row_indexer,col_indexer] = value instead\n",
            "\n",
            "See the caveats in the documentation: https://pandas.pydata.org/pandas-docs/stable/user_guide/indexing.html#returning-a-view-versus-a-copy\n",
            "  \"\"\"Entry point for launching an IPython kernel.\n"
          ]
        },
        {
          "output_type": "display_data",
          "data": {
            "text/plain": [
              "<Figure size 432x288 with 1 Axes>"
            ],
            "image/png": "[encoded data removed]"
          },
          "metadata": {}
        }
      ]
    },
    {
      "cell_type": "markdown",
      "source": [
        "## Models of Higher Levels of Integration\n",
        "\n",
        "We rely on on integration, when our time-series doesn't come from a stationary process.\n",
        "\n",
        "If a single layer of integration (d=1) accomplishes this, any additional ones are unnecessary.\n",
        "\n",
        "How do we know if the integrated data set is stationary ?\n",
        "\n",
        "1) Manually create an integrated version of the original time-series.\n",
        "\n",
        "2) Use the Augmented Dickey-Fuller Test."
      ],
      "metadata": {
        "id": "M8B6MF7XDeJ9"
      }
    },
    {
      "cell_type": "code",
      "source": [
        "## We use delta to describe the differences between the values of a series\n",
        "df['delta_prices'] = df.market_value.diff(1)\n",
        "\n",
        "model_delta_ar_1_i_1_ma_1 = ARIMA(df.delta_prices[1:], order=(1,0,1))\n",
        "results_delta_ar_1_i_1_ma_1 = model_delta_ar_1_i_1_ma_1.fit()\n",
        "print(results_delta_ar_1_i_1_ma_1.summary())"
      ],
      "metadata": {
        "colab": {
          "base_uri": "https://localhost:8080/"
        },
        "id": "3qpzPr8Lh3yE",
        "outputId": "5977109e-82e5-4666-dcb6-ddfb4a5ef107"
      },
      "execution_count": 51,
      "outputs": [
        {
          "output_type": "stream",
          "name": "stderr",
          "text": [
            "/usr/local/lib/python3.7/dist-packages/ipykernel_launcher.py:2: SettingWithCopyWarning: \n",
            "A value is trying to be set on a copy of a slice from a DataFrame.\n",
            "Try using .loc[row_indexer,col_indexer] = value instead\n",
            "\n",
            "See the caveats in the documentation: https://pandas.pydata.org/pandas-docs/stable/user_guide/indexing.html#returning-a-view-versus-a-copy\n",
            "  \n"
          ]
        },
        {
          "output_type": "stream",
          "name": "stdout",
          "text": [
            "                              ARMA Model Results                              \n",
            "==============================================================================\n",
            "Dep. Variable:           delta_prices   No. Observations:                 5020\n",
            "Model:                     ARMA(1, 1)   Log Likelihood              -27603.666\n",
            "Method:                       css-mle   S.D. of innovations             59.134\n",
            "Date:                Wed, 03 Aug 2022   AIC                          55215.333\n",
            "Time:                        06:07:14   BIC                          55241.418\n",
            "Sample:                    01-10-1994   HQIC                         55224.473\n",
            "                         - 04-05-2013                                         \n",
            "======================================================================================\n",
            "                         coef    std err          z      P>|z|      [0.025      0.975]\n",
            "--------------------------------------------------------------------------------------\n",
            "const                  0.5655      0.682      0.829      0.407      -0.772       1.903\n",
            "ar.L1.delta_prices     0.7475      0.070     10.652      0.000       0.610       0.885\n",
            "ma.L1.delta_prices    -0.7936      0.064    -12.378      0.000      -0.919      -0.668\n",
            "                                    Roots                                    \n",
            "=============================================================================\n",
            "                  Real          Imaginary           Modulus         Frequency\n",
            "-----------------------------------------------------------------------------\n",
            "AR.1            1.3378           +0.0000j            1.3378            0.0000\n",
            "MA.1            1.2601           +0.0000j            1.2601            0.0000\n",
            "-----------------------------------------------------------------------------\n"
          ]
        }
      ]
    },
    {
      "cell_type": "markdown",
      "source": [
        "## The Augmented Dickey-Fuller Test"
      ],
      "metadata": {
        "id": "YbDTFVuXjJOi"
      }
    },
    {
      "cell_type": "code",
      "source": [
        "sts.adfuller(df.delta_prices[1:])"
      ],
      "metadata": {
        "colab": {
          "base_uri": "https://localhost:8080/"
        },
        "id": "itosJVqcjksm",
        "outputId": "80ff7ecc-468b-4e6c-a4be-cf484b4ef432"
      },
      "execution_count": 52,
      "outputs": [
        {
          "output_type": "execute_result",
          "data": {
            "text/plain": [
              "(-32.244093495707475,\n",
              " 0.0,\n",
              " 5,\n",
              " 5014,\n",
              " {'1%': -3.4316548765428174,\n",
              "  '10%': -2.5670769326348926,\n",
              "  '5%': -2.8621166146845334},\n",
              " 54845.96104221891)"
            ]
          },
          "metadata": {},
          "execution_count": 52
        }
      ]
    },
    {
      "cell_type": "markdown",
      "source": [
        "The Dickey-Fuller test shows we don't need additional layer of Integration"
      ],
      "metadata": {
        "id": "-KjhPMo8jtlb"
      }
    },
    {
      "cell_type": "markdown",
      "source": [
        "ARIMA models are more suited for the non-stationary data but are more computationally intensive than ARMA models.\n",
        "\n",
        "By integrating more stationary data we are making more difficult for the model to estimate the coefficients.\n",
        "\n",
        "ARIMA needs to generate every layer of integration one by one and then try to fit the new data using any of the ARMA models we are familiar with.\n",
        "\n",
        "Another issue with integarted models we face with is **data attrition**. It means we lose observations because of **conversions of Prices to Returns**. And then we lose more observations on each layers of integration.\n",
        "\n",
        "**Issues: **\n",
        "\n",
        "1) The more layers, the more background work the models need to do before fitting the data.\n",
        "\n",
        "2) Not only we have to transform the data but we have to differentaite the values from zero.\n",
        "\n",
        "3) Data fails to converge even after 10s and 1000s of iteration.\n",
        "\n",
        "4) When the numbers are too small we may face numerical instability."
      ],
      "metadata": {
        "id": "OoIGTi3Lj5GR"
      }
    },
    {
      "cell_type": "markdown",
      "source": [
        "## ARIMAX\n",
        "\n",
        "A model that takes into acount more than just past prices or past residuals are known as **\"max\"** models.\n",
        "\n",
        "ARMAX - non-integrated models\n",
        "\n",
        "ARIMAX - intergrated models\n",
        "\n",
        "We also need to specify the exogenous arguement callled **\"exog\"**"
      ],
      "metadata": {
        "id": "rJ-qqenFnfD3"
      }
    },
    {
      "cell_type": "code",
      "source": [
        "model_ar_1_i_1_ma_1_Xspx = ARIMA(df.market_value, exog=df.spx, order=(1,1,1))\n",
        "results_ar_1_i_1_ma_1_Xspx = model_ar_1_i_1_ma_1_Xspx.fit()\n",
        "print(results_ar_1_i_1_ma_1_Xspx.summary())"
      ],
      "metadata": {
        "id": "-S5wN2PYSUJ9",
        "outputId": "73e25972-b449-48d6-bf3f-5a8ca3783368",
        "colab": {
          "base_uri": "https://localhost:8080/"
        }
      },
      "execution_count": 58,
      "outputs": [
        {
          "output_type": "stream",
          "name": "stdout",
          "text": [
            "                             ARIMA Model Results                              \n",
            "==============================================================================\n",
            "Dep. Variable:         D.market_value   No. Observations:                 5020\n",
            "Model:                 ARIMA(1, 1, 1)   Log Likelihood              -27603.556\n",
            "Method:                       css-mle   S.D. of innovations             59.132\n",
            "Date:                Wed, 03 Aug 2022   AIC                          55217.112\n",
            "Time:                        06:26:15   BIC                          55249.718\n",
            "Sample:                    01-10-1994   HQIC                         55228.538\n",
            "                         - 04-05-2013                                         \n",
            "========================================================================================\n",
            "                           coef    std err          z      P>|z|      [0.025      0.975]\n",
            "----------------------------------------------------------------------------------------\n",
            "const                   -0.5874      2.655     -0.221      0.825      -5.790       4.616\n",
            "spx                      0.0011      0.002      0.451      0.652      -0.004       0.006\n",
            "ar.L1.D.market_value     0.7463      0.070     10.602      0.000       0.608       0.884\n",
            "ma.L1.D.market_value    -0.7923      0.064    -12.305      0.000      -0.918      -0.666\n",
            "                                    Roots                                    \n",
            "=============================================================================\n",
            "                  Real          Imaginary           Modulus         Frequency\n",
            "-----------------------------------------------------------------------------\n",
            "AR.1            1.3400           +0.0000j            1.3400            0.0000\n",
            "MA.1            1.2622           +0.0000j            1.2622            0.0000\n",
            "-----------------------------------------------------------------------------\n"
          ]
        }
      ]
    },
    {
      "cell_type": "markdown",
      "source": [
        "## SARIMAX\n",
        "\n",
        "Including the seasonal orders of AR and MA apart from order **(p,d,q)** also include **(P,D,Q,s)**\n",
        "\n",
        "**s** - Length of the season"
      ],
      "metadata": {
        "id": "RE3Fv90MUQwF"
      }
    },
    {
      "cell_type": "code",
      "source": [
        "## let's include SARIMAX (1,0,1) as non-seasonal data\n",
        "## (2,0,1,5) as seasonal data and S&P as exogenous data\n",
        "\n",
        "from statsmodels.tsa.statespace.sarimax import SARIMAX"
      ],
      "metadata": {
        "id": "DmUzYfeXWz1q"
      },
      "execution_count": 55,
      "outputs": []
    },
    {
      "cell_type": "code",
      "source": [
        "model_sarimax = SARIMAX(df.market_value, exog=df.spx, order=(1,0,1), seasonal_order=(2,0,1,5))\n",
        "results_sarimax = model_sarimax.fit()\n",
        "print(results_sarimax.summary())"
      ],
      "metadata": {
        "id": "PQGHYfBXXMP0",
        "outputId": "c227d3b1-2ea6-45a3-f95c-9f92038833af",
        "colab": {
          "base_uri": "https://localhost:8080/"
        }
      },
      "execution_count": 59,
      "outputs": [
        {
          "output_type": "stream",
          "name": "stderr",
          "text": [
            "/usr/local/lib/python3.7/dist-packages/statsmodels/base/model.py:512: ConvergenceWarning: Maximum Likelihood optimization failed to converge. Check mle_retvals\n",
            "  \"Check mle_retvals\", ConvergenceWarning)\n"
          ]
        },
        {
          "output_type": "stream",
          "name": "stdout",
          "text": [
            "                                 Statespace Model Results                                \n",
            "=========================================================================================\n",
            "Dep. Variable:                      market_value   No. Observations:                 5021\n",
            "Model:             SARIMAX(1, 0, 1)x(2, 0, 1, 5)   Log Likelihood              -26712.653\n",
            "Date:                           Wed, 03 Aug 2022   AIC                          53439.307\n",
            "Time:                                   06:26:49   BIC                          53484.956\n",
            "Sample:                               01-07-1994   HQIC                         53455.303\n",
            "                                    - 04-05-2013                                         \n",
            "Covariance Type:                             opg                                         \n",
            "==============================================================================\n",
            "                 coef    std err          z      P>|z|      [0.025      0.975]\n",
            "------------------------------------------------------------------------------\n",
            "spx            2.7053      0.035     77.494      0.000       2.637       2.774\n",
            "ar.L1          0.9998      0.000   2314.161      0.000       0.999       1.001\n",
            "ma.L1         -0.3138      0.009    -33.058      0.000      -0.332      -0.295\n",
            "ar.S.L5        0.9647      0.011     89.283      0.000       0.944       0.986\n",
            "ar.S.L10       0.0350      0.010      3.539      0.000       0.016       0.054\n",
            "ma.S.L5       -0.9988      0.006   -168.820      0.000      -1.010      -0.987\n",
            "sigma2      2441.9734     28.334     86.184      0.000    2386.439    2497.508\n",
            "===================================================================================\n",
            "Ljung-Box (Q):                       95.67   Jarque-Bera (JB):              4192.88\n",
            "Prob(Q):                              0.00   Prob(JB):                         0.00\n",
            "Heteroskedasticity (H):               1.23   Skew:                            -0.52\n",
            "Prob(H) (two-sided):                  0.00   Kurtosis:                         7.36\n",
            "===================================================================================\n",
            "\n",
            "Warnings:\n",
            "[1] Covariance matrix calculated using the outer product of gradients (complex-step).\n"
          ]
        }
      ]
    },
    {
      "cell_type": "code",
      "source": [
        ""
      ],
      "metadata": {
        "id": "4I7pMkKmYSxu"
      },
      "execution_count": null,
      "outputs": []
    }
  ]
}
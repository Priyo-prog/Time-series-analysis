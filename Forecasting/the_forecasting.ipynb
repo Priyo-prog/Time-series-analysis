{
  "nbformat": 4,
  "nbformat_minor": 0,
  "metadata": {
    "colab": {
      "name": "the_forecasting.ipynb",
      "provenance": [],
      "authorship_tag": "ABX9TyNbzKTD0GEfO0Cmv9P4ZsAd",
      "include_colab_link": true
    },
    "kernelspec": {
      "name": "python3",
      "display_name": "Python 3"
    },
    "language_info": {
      "name": "python"
    }
  },
  "cells": [
    {
      "cell_type": "markdown",
      "metadata": {
        "id": "view-in-github",
        "colab_type": "text"
      },
      "source": [
        "<a href=\"https://colab.research.google.com/github/Priyo-prog/Time-series-analysis/blob/main/Forecasting/the_forecasting.ipynb\" target=\"_parent\"><img src=\"https://colab.research.google.com/assets/colab-badge.svg\" alt=\"Open In Colab\"/></a>"
      ]
    },
    {
      "cell_type": "markdown",
      "source": [
        "#**Forecasting**\n",
        "\n",
        "Forecasting based on simple AR(1) model\n",
        "\n",
        "Compare the results with the actual values for each period."
      ],
      "metadata": {
        "id": "CYzXdWxjP9hd"
      }
    },
    {
      "cell_type": "code",
      "source": [
        "!pip install yfinance"
      ],
      "metadata": {
        "colab": {
          "base_uri": "https://localhost:8080/"
        },
        "id": "o8gUogO5QGBb",
        "outputId": "a6feb117-dc38-4d37-85c5-86eef5848423"
      },
      "execution_count": 1,
      "outputs": [
        {
          "output_type": "stream",
          "name": "stdout",
          "text": [
            "Looking in indexes: https://pypi.org/simple, https://us-python.pkg.dev/colab-wheels/public/simple/\n",
            "Collecting yfinance\n",
            "  Downloading yfinance-0.1.74-py2.py3-none-any.whl (27 kB)\n",
            "Requirement already satisfied: multitasking>=0.0.7 in /usr/local/lib/python3.7/dist-packages (from yfinance) (0.0.11)\n",
            "Collecting requests>=2.26\n",
            "  Downloading requests-2.28.1-py3-none-any.whl (62 kB)\n",
            "\u001b[K     |████████████████████████████████| 62 kB 1.2 MB/s \n",
            "\u001b[?25hRequirement already satisfied: numpy>=1.15 in /usr/local/lib/python3.7/dist-packages (from yfinance) (1.21.6)\n",
            "Requirement already satisfied: lxml>=4.5.1 in /usr/local/lib/python3.7/dist-packages (from yfinance) (4.9.1)\n",
            "Requirement already satisfied: pandas>=0.24.0 in /usr/local/lib/python3.7/dist-packages (from yfinance) (1.3.5)\n",
            "Requirement already satisfied: python-dateutil>=2.7.3 in /usr/local/lib/python3.7/dist-packages (from pandas>=0.24.0->yfinance) (2.8.2)\n",
            "Requirement already satisfied: pytz>=2017.3 in /usr/local/lib/python3.7/dist-packages (from pandas>=0.24.0->yfinance) (2022.1)\n",
            "Requirement already satisfied: six>=1.5 in /usr/local/lib/python3.7/dist-packages (from python-dateutil>=2.7.3->pandas>=0.24.0->yfinance) (1.15.0)\n",
            "Requirement already satisfied: certifi>=2017.4.17 in /usr/local/lib/python3.7/dist-packages (from requests>=2.26->yfinance) (2022.6.15)\n",
            "Requirement already satisfied: urllib3<1.27,>=1.21.1 in /usr/local/lib/python3.7/dist-packages (from requests>=2.26->yfinance) (1.24.3)\n",
            "Requirement already satisfied: idna<4,>=2.5 in /usr/local/lib/python3.7/dist-packages (from requests>=2.26->yfinance) (2.10)\n",
            "Requirement already satisfied: charset-normalizer<3,>=2 in /usr/local/lib/python3.7/dist-packages (from requests>=2.26->yfinance) (2.1.0)\n",
            "Installing collected packages: requests, yfinance\n",
            "  Attempting uninstall: requests\n",
            "    Found existing installation: requests 2.23.0\n",
            "    Uninstalling requests-2.23.0:\n",
            "      Successfully uninstalled requests-2.23.0\n",
            "Successfully installed requests-2.28.1 yfinance-0.1.74\n"
          ]
        }
      ]
    },
    {
      "cell_type": "code",
      "source": [
        "!pip install arch"
      ],
      "metadata": {
        "colab": {
          "base_uri": "https://localhost:8080/"
        },
        "id": "l_sriRTMQ294",
        "outputId": "371c20c0-3172-4373-ccd9-f67dd19059fb"
      },
      "execution_count": 2,
      "outputs": [
        {
          "output_type": "stream",
          "name": "stdout",
          "text": [
            "Looking in indexes: https://pypi.org/simple, https://us-python.pkg.dev/colab-wheels/public/simple/\n",
            "Collecting arch\n",
            "  Downloading arch-5.3.1-cp37-cp37m-manylinux_2_17_x86_64.manylinux2014_x86_64.whl (903 kB)\n",
            "\u001b[K     |████████████████████████████████| 903 kB 5.5 MB/s \n",
            "\u001b[?25hRequirement already satisfied: pandas>=1.0 in /usr/local/lib/python3.7/dist-packages (from arch) (1.3.5)\n",
            "Requirement already satisfied: scipy>=1.3 in /usr/local/lib/python3.7/dist-packages (from arch) (1.7.3)\n",
            "Requirement already satisfied: numpy>=1.17 in /usr/local/lib/python3.7/dist-packages (from arch) (1.21.6)\n",
            "Collecting property-cached>=1.6.4\n",
            "  Downloading property_cached-1.6.4-py2.py3-none-any.whl (7.8 kB)\n",
            "Collecting statsmodels>=0.11\n",
            "  Downloading statsmodels-0.13.2-cp37-cp37m-manylinux_2_17_x86_64.manylinux2014_x86_64.whl (9.8 MB)\n",
            "\u001b[K     |████████████████████████████████| 9.8 MB 52.0 MB/s \n",
            "\u001b[?25hRequirement already satisfied: pytz>=2017.3 in /usr/local/lib/python3.7/dist-packages (from pandas>=1.0->arch) (2022.1)\n",
            "Requirement already satisfied: python-dateutil>=2.7.3 in /usr/local/lib/python3.7/dist-packages (from pandas>=1.0->arch) (2.8.2)\n",
            "Requirement already satisfied: six>=1.5 in /usr/local/lib/python3.7/dist-packages (from python-dateutil>=2.7.3->pandas>=1.0->arch) (1.15.0)\n",
            "Requirement already satisfied: packaging>=21.3 in /usr/local/lib/python3.7/dist-packages (from statsmodels>=0.11->arch) (21.3)\n",
            "Requirement already satisfied: patsy>=0.5.2 in /usr/local/lib/python3.7/dist-packages (from statsmodels>=0.11->arch) (0.5.2)\n",
            "Requirement already satisfied: pyparsing!=3.0.5,>=2.0.2 in /usr/local/lib/python3.7/dist-packages (from packaging>=21.3->statsmodels>=0.11->arch) (3.0.9)\n",
            "Installing collected packages: statsmodels, property-cached, arch\n",
            "  Attempting uninstall: statsmodels\n",
            "    Found existing installation: statsmodels 0.10.2\n",
            "    Uninstalling statsmodels-0.10.2:\n",
            "      Successfully uninstalled statsmodels-0.10.2\n",
            "Successfully installed arch-5.3.1 property-cached-1.6.4 statsmodels-0.13.2\n"
          ]
        }
      ]
    },
    {
      "cell_type": "code",
      "source": [
        "!pip3 install numpy scipy patsy pandas"
      ],
      "metadata": {
        "colab": {
          "base_uri": "https://localhost:8080/"
        },
        "id": "bBSfpYXrRAK-",
        "outputId": "6da0b023-a303-4730-c73e-64e3036fb229"
      },
      "execution_count": 3,
      "outputs": [
        {
          "output_type": "stream",
          "name": "stdout",
          "text": [
            "Looking in indexes: https://pypi.org/simple, https://us-python.pkg.dev/colab-wheels/public/simple/\n",
            "Requirement already satisfied: numpy in /usr/local/lib/python3.7/dist-packages (1.21.6)\n",
            "Requirement already satisfied: scipy in /usr/local/lib/python3.7/dist-packages (1.7.3)\n",
            "Requirement already satisfied: patsy in /usr/local/lib/python3.7/dist-packages (0.5.2)\n",
            "Requirement already satisfied: pandas in /usr/local/lib/python3.7/dist-packages (1.3.5)\n",
            "Requirement already satisfied: six in /usr/local/lib/python3.7/dist-packages (from patsy) (1.15.0)\n",
            "Requirement already satisfied: python-dateutil>=2.7.3 in /usr/local/lib/python3.7/dist-packages (from pandas) (2.8.2)\n",
            "Requirement already satisfied: pytz>=2017.3 in /usr/local/lib/python3.7/dist-packages (from pandas) (2022.1)\n"
          ]
        }
      ]
    },
    {
      "cell_type": "code",
      "source": [
        "!pip3 install statsmodels"
      ],
      "metadata": {
        "colab": {
          "base_uri": "https://localhost:8080/"
        },
        "id": "vfiY3FPURCb1",
        "outputId": "3a0ad2d1-c838-4d2b-de19-cde4cc9ddb27"
      },
      "execution_count": 4,
      "outputs": [
        {
          "output_type": "stream",
          "name": "stdout",
          "text": [
            "Looking in indexes: https://pypi.org/simple, https://us-python.pkg.dev/colab-wheels/public/simple/\n",
            "Requirement already satisfied: statsmodels in /usr/local/lib/python3.7/dist-packages (0.13.2)\n",
            "Requirement already satisfied: packaging>=21.3 in /usr/local/lib/python3.7/dist-packages (from statsmodels) (21.3)\n",
            "Requirement already satisfied: pandas>=0.25 in /usr/local/lib/python3.7/dist-packages (from statsmodels) (1.3.5)\n",
            "Requirement already satisfied: numpy>=1.17 in /usr/local/lib/python3.7/dist-packages (from statsmodels) (1.21.6)\n",
            "Requirement already satisfied: scipy>=1.3 in /usr/local/lib/python3.7/dist-packages (from statsmodels) (1.7.3)\n",
            "Requirement already satisfied: patsy>=0.5.2 in /usr/local/lib/python3.7/dist-packages (from statsmodels) (0.5.2)\n",
            "Requirement already satisfied: pyparsing!=3.0.5,>=2.0.2 in /usr/local/lib/python3.7/dist-packages (from packaging>=21.3->statsmodels) (3.0.9)\n",
            "Requirement already satisfied: pytz>=2017.3 in /usr/local/lib/python3.7/dist-packages (from pandas>=0.25->statsmodels) (2022.1)\n",
            "Requirement already satisfied: python-dateutil>=2.7.3 in /usr/local/lib/python3.7/dist-packages (from pandas>=0.25->statsmodels) (2.8.2)\n",
            "Requirement already satisfied: six in /usr/local/lib/python3.7/dist-packages (from patsy>=0.5.2->statsmodels) (1.15.0)\n"
          ]
        }
      ]
    },
    {
      "cell_type": "markdown",
      "source": [
        "Delete the \"!pip uninstall statsmodels\" once the installation is complete"
      ],
      "metadata": {
        "id": "gBHeJE9tR-Y4"
      }
    },
    {
      "cell_type": "markdown",
      "source": [
        "## Import Libraries and Packages"
      ],
      "metadata": {
        "id": "08K9hr6aREW1"
      }
    },
    {
      "cell_type": "code",
      "source": [
        "import pandas as pd\n",
        "import numpy as np\n",
        "import matplotlib.pyplot as plt\n",
        "import statsmodels.graphics.tsaplots as sgt\n",
        "import statsmodels.tsa.stattools as sts\n",
        "import statsmodels.api as sm\n",
        "from statsmodels.tsa.seasonal import seasonal_decompose\n",
        "from statsmodels.tsa.arima_model import ARMA\n",
        "from statsmodels.tsa.arima_model import ARIMA # new special package for ARIMA models\n",
        "from scipy.stats.distributions import chi2\n",
        "import yfinance\n",
        "import warnings\n",
        "warnings.filterwarnings(\"ignore\")\n",
        "import seaborn as sns\n",
        "sns.set()"
      ],
      "metadata": {
        "id": "8967HHFNRIPM"
      },
      "execution_count": 5,
      "outputs": []
    },
    {
      "cell_type": "markdown",
      "source": [
        "## Import the Data"
      ],
      "metadata": {
        "id": "48ATpWIgRgDP"
      }
    },
    {
      "cell_type": "code",
      "source": [
        "raw_data = yfinance.download(tickers=\"^GSPC ^FTSE ^N225 ^GDAXI\", start=\"1994-01-07\", end=\"2018-01-29\",\n",
        "                             interval=\"1d\", group_by=\"ticker\", auto_adjust=True, treads=True)"
      ],
      "metadata": {
        "colab": {
          "base_uri": "https://localhost:8080/"
        },
        "id": "sJcKlwQVRjle",
        "outputId": "4cfdd3bf-af22-42cb-ff2d-283e63c20709"
      },
      "execution_count": 6,
      "outputs": [
        {
          "output_type": "stream",
          "name": "stdout",
          "text": [
            "[*********************100%***********************]  4 of 4 completed\n"
          ]
        }
      ]
    },
    {
      "cell_type": "markdown",
      "source": [
        "## Preprocess the Data"
      ],
      "metadata": {
        "id": "BsOwhv-qRl5t"
      }
    },
    {
      "cell_type": "code",
      "source": [
        "df_comp = raw_data.copy()"
      ],
      "metadata": {
        "id": "1Ew-9_6FRrtE"
      },
      "execution_count": 7,
      "outputs": []
    },
    {
      "cell_type": "code",
      "source": [
        "df_comp['spx'] = df_comp['^GSPC'].Close[:]\n",
        "df_comp['dax'] = df_comp['^GDAXI'].Close[:]\n",
        "df_comp['ftse'] = df_comp['^FTSE'].Close[:]\n",
        "df_comp['nikkei'] = df_comp['^N225'].Close[:]"
      ],
      "metadata": {
        "id": "bS8jPxLSRsoU"
      },
      "execution_count": 8,
      "outputs": []
    },
    {
      "cell_type": "code",
      "source": [
        "df_comp = df_comp.iloc[1:]\n",
        "del df_comp['^GSPC'], df_comp['^GDAXI'], df_comp['^FTSE'], df_comp['^N225']"
      ],
      "metadata": {
        "id": "LxleO7LiRvXj"
      },
      "execution_count": 9,
      "outputs": []
    },
    {
      "cell_type": "code",
      "source": [
        "df_comp = df_comp.asfreq('b')\n",
        "df_comp = df_comp.fillna(method='ffill')\n",
        "df_comp.head()"
      ],
      "metadata": {
        "colab": {
          "base_uri": "https://localhost:8080/",
          "height": 252
        },
        "id": "NGsq3HwRRxyD",
        "outputId": "4b2fca1c-b557-402c-9dc4-3896695edcad"
      },
      "execution_count": 10,
      "outputs": [
        {
          "output_type": "execute_result",
          "data": {
            "text/plain": [
              "                   spx          dax         ftse        nikkei\n",
              "                                                              \n",
              "Date                                                          \n",
              "1994-01-10  475.269989  2225.000000  3440.600098  18443.439453\n",
              "1994-01-11  474.130005  2228.100098  3413.800049  18485.250000\n",
              "1994-01-12  474.170013  2182.060059  3372.000000  18793.880859\n",
              "1994-01-13  472.470001  2142.370117  3360.000000  18577.259766\n",
              "1994-01-14  474.910004  2151.050049  3400.600098  18973.699219"
            ],
            "text/html": [
              "\n",
              "  <div id=\"df-e443c84c-eafa-4202-bf7e-05b8316bdfe4\">\n",
              "    <div class=\"colab-df-container\">\n",
              "      <div>\n",
              "<style scoped>\n",
              "    .dataframe tbody tr th:only-of-type {\n",
              "        vertical-align: middle;\n",
              "    }\n",
              "\n",
              "    .dataframe tbody tr th {\n",
              "        vertical-align: top;\n",
              "    }\n",
              "\n",
              "    .dataframe thead tr th {\n",
              "        text-align: left;\n",
              "    }\n",
              "\n",
              "    .dataframe thead tr:last-of-type th {\n",
              "        text-align: right;\n",
              "    }\n",
              "</style>\n",
              "<table border=\"1\" class=\"dataframe\">\n",
              "  <thead>\n",
              "    <tr>\n",
              "      <th></th>\n",
              "      <th>spx</th>\n",
              "      <th>dax</th>\n",
              "      <th>ftse</th>\n",
              "      <th>nikkei</th>\n",
              "    </tr>\n",
              "    <tr>\n",
              "      <th></th>\n",
              "      <th></th>\n",
              "      <th></th>\n",
              "      <th></th>\n",
              "      <th></th>\n",
              "    </tr>\n",
              "    <tr>\n",
              "      <th>Date</th>\n",
              "      <th></th>\n",
              "      <th></th>\n",
              "      <th></th>\n",
              "      <th></th>\n",
              "    </tr>\n",
              "  </thead>\n",
              "  <tbody>\n",
              "    <tr>\n",
              "      <th>1994-01-10</th>\n",
              "      <td>475.269989</td>\n",
              "      <td>2225.000000</td>\n",
              "      <td>3440.600098</td>\n",
              "      <td>18443.439453</td>\n",
              "    </tr>\n",
              "    <tr>\n",
              "      <th>1994-01-11</th>\n",
              "      <td>474.130005</td>\n",
              "      <td>2228.100098</td>\n",
              "      <td>3413.800049</td>\n",
              "      <td>18485.250000</td>\n",
              "    </tr>\n",
              "    <tr>\n",
              "      <th>1994-01-12</th>\n",
              "      <td>474.170013</td>\n",
              "      <td>2182.060059</td>\n",
              "      <td>3372.000000</td>\n",
              "      <td>18793.880859</td>\n",
              "    </tr>\n",
              "    <tr>\n",
              "      <th>1994-01-13</th>\n",
              "      <td>472.470001</td>\n",
              "      <td>2142.370117</td>\n",
              "      <td>3360.000000</td>\n",
              "      <td>18577.259766</td>\n",
              "    </tr>\n",
              "    <tr>\n",
              "      <th>1994-01-14</th>\n",
              "      <td>474.910004</td>\n",
              "      <td>2151.050049</td>\n",
              "      <td>3400.600098</td>\n",
              "      <td>18973.699219</td>\n",
              "    </tr>\n",
              "  </tbody>\n",
              "</table>\n",
              "</div>\n",
              "      <button class=\"colab-df-convert\" onclick=\"convertToInteractive('df-e443c84c-eafa-4202-bf7e-05b8316bdfe4')\"\n",
              "              title=\"Convert this dataframe to an interactive table.\"\n",
              "              style=\"display:none;\">\n",
              "        \n",
              "  <svg xmlns=\"http://www.w3.org/2000/svg\" height=\"24px\"viewBox=\"0 0 24 24\"\n",
              "       width=\"24px\">\n",
              "    <path d=\"M0 0h24v24H0V0z\" fill=\"none\"/>\n",
              "    <path d=\"M18.56 5.44l.94 2.06.94-2.06 2.06-.94-2.06-.94-.94-2.06-.94 2.06-2.06.94zm-11 1L8.5 8.5l.94-2.06 2.06-.94-2.06-.94L8.5 2.5l-.94 2.06-2.06.94zm10 10l.94 2.06.94-2.06 2.06-.94-2.06-.94-.94-2.06-.94 2.06-2.06.94z\"/><path d=\"M17.41 7.96l-1.37-1.37c-.4-.4-.92-.59-1.43-.59-.52 0-1.04.2-1.43.59L10.3 9.45l-7.72 7.72c-.78.78-.78 2.05 0 2.83L4 21.41c.39.39.9.59 1.41.59.51 0 1.02-.2 1.41-.59l7.78-7.78 2.81-2.81c.8-.78.8-2.07 0-2.86zM5.41 20L4 18.59l7.72-7.72 1.47 1.35L5.41 20z\"/>\n",
              "  </svg>\n",
              "      </button>\n",
              "      \n",
              "  <style>\n",
              "    .colab-df-container {\n",
              "      display:flex;\n",
              "      flex-wrap:wrap;\n",
              "      gap: 12px;\n",
              "    }\n",
              "\n",
              "    .colab-df-convert {\n",
              "      background-color: #E8F0FE;\n",
              "      border: none;\n",
              "      border-radius: 50%;\n",
              "      cursor: pointer;\n",
              "      display: none;\n",
              "      fill: #1967D2;\n",
              "      height: 32px;\n",
              "      padding: 0 0 0 0;\n",
              "      width: 32px;\n",
              "    }\n",
              "\n",
              "    .colab-df-convert:hover {\n",
              "      background-color: #E2EBFA;\n",
              "      box-shadow: 0px 1px 2px rgba(60, 64, 67, 0.3), 0px 1px 3px 1px rgba(60, 64, 67, 0.15);\n",
              "      fill: #174EA6;\n",
              "    }\n",
              "\n",
              "    [theme=dark] .colab-df-convert {\n",
              "      background-color: #3B4455;\n",
              "      fill: #D2E3FC;\n",
              "    }\n",
              "\n",
              "    [theme=dark] .colab-df-convert:hover {\n",
              "      background-color: #434B5C;\n",
              "      box-shadow: 0px 1px 3px 1px rgba(0, 0, 0, 0.15);\n",
              "      filter: drop-shadow(0px 1px 2px rgba(0, 0, 0, 0.3));\n",
              "      fill: #FFFFFF;\n",
              "    }\n",
              "  </style>\n",
              "\n",
              "      <script>\n",
              "        const buttonEl =\n",
              "          document.querySelector('#df-e443c84c-eafa-4202-bf7e-05b8316bdfe4 button.colab-df-convert');\n",
              "        buttonEl.style.display =\n",
              "          google.colab.kernel.accessAllowed ? 'block' : 'none';\n",
              "\n",
              "        async function convertToInteractive(key) {\n",
              "          const element = document.querySelector('#df-e443c84c-eafa-4202-bf7e-05b8316bdfe4');\n",
              "          const dataTable =\n",
              "            await google.colab.kernel.invokeFunction('convertToInteractive',\n",
              "                                                     [key], {});\n",
              "          if (!dataTable) return;\n",
              "\n",
              "          const docLinkHtml = 'Like what you see? Visit the ' +\n",
              "            '<a target=\"_blank\" href=https://colab.research.google.com/notebooks/data_table.ipynb>data table notebook</a>'\n",
              "            + ' to learn more about interactive tables.';\n",
              "          element.innerHTML = '';\n",
              "          dataTable['output_type'] = 'display_data';\n",
              "          await google.colab.output.renderOutput(dataTable, element);\n",
              "          const docLink = document.createElement('div');\n",
              "          docLink.innerHTML = docLinkHtml;\n",
              "          element.appendChild(docLink);\n",
              "        }\n",
              "      </script>\n",
              "    </div>\n",
              "  </div>\n",
              "  "
            ]
          },
          "metadata": {},
          "execution_count": 10
        }
      ]
    },
    {
      "cell_type": "markdown",
      "source": [
        "## Creating Returns"
      ],
      "metadata": {
        "id": "FXieAMp1SO42"
      }
    },
    {
      "cell_type": "code",
      "source": [
        "df_comp['ret_spx'] = df_comp.spx.pct_change(1)*100\n",
        "df_comp['ret_ftse'] = df_comp.ftse.pct_change(1)*100\n",
        "df_comp['ret_dax'] = df_comp.dax.pct_change(1)*100\n",
        "df_comp['ret_nikkei'] = df_comp.nikkei.pct_change(1)*100"
      ],
      "metadata": {
        "id": "XyZbpw8QSQx9"
      },
      "execution_count": 11,
      "outputs": []
    },
    {
      "cell_type": "markdown",
      "source": [
        "## Splitting theTraining and Testing Sets"
      ],
      "metadata": {
        "id": "L4uIgZufSTjk"
      }
    },
    {
      "cell_type": "code",
      "source": [
        "## Getting the 80% of data as training set\n",
        "size = int(len(df_comp) * 0.8)\n",
        "df, df_test = df_comp.iloc[:size], df_comp.iloc[size:]"
      ],
      "metadata": {
        "id": "ghH82uohSaAD"
      },
      "execution_count": 12,
      "outputs": []
    },
    {
      "cell_type": "markdown",
      "source": [
        "## The Log-Likelihood Test"
      ],
      "metadata": {
        "id": "YIPWdfTNSf3y"
      }
    },
    {
      "cell_type": "code",
      "source": [
        "def llr_test(mod_1, mod_2, DF=1):\n",
        "   \"\"\" mod_1, mod_2= models to compare, df=degrees of freedom\"\"\"\n",
        "   L1 = mod_1.fit(trend='nc').llf ## Add trend='ct'\n",
        "   L2 = mod_2.fit(trend='nc').llf ## log likelihood\n",
        "   LR = (2*(L2-L1)) ## test statistics\n",
        "   p = chi2.sf(LR, DF).round(3) ## p-value\n",
        "   return p"
      ],
      "metadata": {
        "id": "ICWNLRbSSiap"
      },
      "execution_count": 13,
      "outputs": []
    },
    {
      "cell_type": "markdown",
      "source": [
        "## Fitting a Model AR(1)"
      ],
      "metadata": {
        "id": "9_0wWqXmSnGB"
      }
    },
    {
      "cell_type": "code",
      "source": [
        "from statsmodels.tsa.arima.model import ARIMA"
      ],
      "metadata": {
        "id": "2h4EZbQLVMYe"
      },
      "execution_count": 14,
      "outputs": []
    },
    {
      "cell_type": "code",
      "source": [
        "model_ar = ARIMA(df.ftse, order=(1,0,0))\n",
        "results_ar = model_ar.fit()\n",
        "print(results_ar.summary())"
      ],
      "metadata": {
        "colab": {
          "base_uri": "https://localhost:8080/"
        },
        "id": "kAYyDyqQTDOB",
        "outputId": "a7cb43de-cd6e-48d0-e66c-e77b2257b6c6"
      },
      "execution_count": 15,
      "outputs": [
        {
          "output_type": "stream",
          "name": "stdout",
          "text": [
            "                               SARIMAX Results                                \n",
            "==============================================================================\n",
            "Dep. Variable:                   ftse   No. Observations:                 5020\n",
            "Model:                 ARIMA(1, 0, 0)   Log Likelihood              -27617.795\n",
            "Date:                Fri, 05 Aug 2022   AIC                          55241.590\n",
            "Time:                        01:48:38   BIC                          55261.153\n",
            "Sample:                    01-10-1994   HQIC                         55248.445\n",
            "                         - 04-05-2013                                         \n",
            "Covariance Type:                  opg                                         \n",
            "==============================================================================\n",
            "                 coef    std err          z      P>|z|      [0.025      0.975]\n",
            "------------------------------------------------------------------------------\n",
            "const       5089.9587    423.016     12.033      0.000    4260.863    5919.054\n",
            "ar.L1          0.9984      0.001   1148.918      0.000       0.997       1.000\n",
            "sigma2      3512.3482     40.899     85.879      0.000    3432.188    3592.508\n",
            "===================================================================================\n",
            "Ljung-Box (L1) (Q):                   1.48   Jarque-Bera (JB):              3308.21\n",
            "Prob(Q):                              0.22   Prob(JB):                         0.00\n",
            "Heteroskedasticity (H):               1.90   Skew:                            -0.18\n",
            "Prob(H) (two-sided):                  0.00   Kurtosis:                         6.96\n",
            "===================================================================================\n",
            "\n",
            "Warnings:\n",
            "[1] Covariance matrix calculated using the outer product of gradients (complex-step).\n"
          ]
        }
      ]
    },
    {
      "cell_type": "markdown",
      "source": [
        "## Simple Forecasting\n",
        "\n",
        "We must choose time interval for forecasting. Choose a **start-date** and **end-date** for forecasting of time-series.\n",
        "\n",
        "The first day after the end of the Training Set.\n",
        "\n"
      ],
      "metadata": {
        "id": "qkrVY2EITyfB"
      }
    },
    {
      "cell_type": "code",
      "source": [
        "df.tail()"
      ],
      "metadata": {
        "id": "qwaEMm9UwX_T",
        "outputId": "5f983a82-f0ba-494d-9425-2ee3ab8387db",
        "colab": {
          "base_uri": "https://localhost:8080/",
          "height": 252
        }
      },
      "execution_count": 16,
      "outputs": [
        {
          "output_type": "execute_result",
          "data": {
            "text/plain": [
              "                    spx          dax         ftse        nikkei   ret_spx  \\\n",
              "                                                                            \n",
              "Date                                                                        \n",
              "2013-04-01  1562.170044  7795.310059  6411.700195  12135.019531 -0.447358   \n",
              "2013-04-02  1570.250000  7943.870117  6490.700195  12003.429688  0.517226   \n",
              "2013-04-03  1553.689941  7874.750000  6420.299805  12362.200195 -1.054613   \n",
              "2013-04-04  1559.979980  7817.390137  6344.100098  12634.540039  0.404845   \n",
              "2013-04-05  1553.280029  7658.750000  6249.799805  12833.639648 -0.429490   \n",
              "\n",
              "            ret_ftse   ret_dax ret_nikkei  \n",
              "                                           \n",
              "Date                                       \n",
              "2013-04-01  0.000000  0.000000  -2.120443  \n",
              "2013-04-02  1.232122  1.905762  -1.084381  \n",
              "2013-04-03 -1.084635 -0.870106   2.988900  \n",
              "2013-04-04 -1.186856 -0.728402   2.203005  \n",
              "2013-04-05 -1.486425 -2.029324   1.575836  "
            ],
            "text/html": [
              "\n",
              "  <div id=\"df-31cf8d74-d858-48a0-8709-d1988fa80156\">\n",
              "    <div class=\"colab-df-container\">\n",
              "      <div>\n",
              "<style scoped>\n",
              "    .dataframe tbody tr th:only-of-type {\n",
              "        vertical-align: middle;\n",
              "    }\n",
              "\n",
              "    .dataframe tbody tr th {\n",
              "        vertical-align: top;\n",
              "    }\n",
              "\n",
              "    .dataframe thead tr th {\n",
              "        text-align: left;\n",
              "    }\n",
              "\n",
              "    .dataframe thead tr:last-of-type th {\n",
              "        text-align: right;\n",
              "    }\n",
              "</style>\n",
              "<table border=\"1\" class=\"dataframe\">\n",
              "  <thead>\n",
              "    <tr>\n",
              "      <th></th>\n",
              "      <th>spx</th>\n",
              "      <th>dax</th>\n",
              "      <th>ftse</th>\n",
              "      <th>nikkei</th>\n",
              "      <th>ret_spx</th>\n",
              "      <th>ret_ftse</th>\n",
              "      <th>ret_dax</th>\n",
              "      <th>ret_nikkei</th>\n",
              "    </tr>\n",
              "    <tr>\n",
              "      <th></th>\n",
              "      <th></th>\n",
              "      <th></th>\n",
              "      <th></th>\n",
              "      <th></th>\n",
              "      <th></th>\n",
              "      <th></th>\n",
              "      <th></th>\n",
              "      <th></th>\n",
              "    </tr>\n",
              "    <tr>\n",
              "      <th>Date</th>\n",
              "      <th></th>\n",
              "      <th></th>\n",
              "      <th></th>\n",
              "      <th></th>\n",
              "      <th></th>\n",
              "      <th></th>\n",
              "      <th></th>\n",
              "      <th></th>\n",
              "    </tr>\n",
              "  </thead>\n",
              "  <tbody>\n",
              "    <tr>\n",
              "      <th>2013-04-01</th>\n",
              "      <td>1562.170044</td>\n",
              "      <td>7795.310059</td>\n",
              "      <td>6411.700195</td>\n",
              "      <td>12135.019531</td>\n",
              "      <td>-0.447358</td>\n",
              "      <td>0.000000</td>\n",
              "      <td>0.000000</td>\n",
              "      <td>-2.120443</td>\n",
              "    </tr>\n",
              "    <tr>\n",
              "      <th>2013-04-02</th>\n",
              "      <td>1570.250000</td>\n",
              "      <td>7943.870117</td>\n",
              "      <td>6490.700195</td>\n",
              "      <td>12003.429688</td>\n",
              "      <td>0.517226</td>\n",
              "      <td>1.232122</td>\n",
              "      <td>1.905762</td>\n",
              "      <td>-1.084381</td>\n",
              "    </tr>\n",
              "    <tr>\n",
              "      <th>2013-04-03</th>\n",
              "      <td>1553.689941</td>\n",
              "      <td>7874.750000</td>\n",
              "      <td>6420.299805</td>\n",
              "      <td>12362.200195</td>\n",
              "      <td>-1.054613</td>\n",
              "      <td>-1.084635</td>\n",
              "      <td>-0.870106</td>\n",
              "      <td>2.988900</td>\n",
              "    </tr>\n",
              "    <tr>\n",
              "      <th>2013-04-04</th>\n",
              "      <td>1559.979980</td>\n",
              "      <td>7817.390137</td>\n",
              "      <td>6344.100098</td>\n",
              "      <td>12634.540039</td>\n",
              "      <td>0.404845</td>\n",
              "      <td>-1.186856</td>\n",
              "      <td>-0.728402</td>\n",
              "      <td>2.203005</td>\n",
              "    </tr>\n",
              "    <tr>\n",
              "      <th>2013-04-05</th>\n",
              "      <td>1553.280029</td>\n",
              "      <td>7658.750000</td>\n",
              "      <td>6249.799805</td>\n",
              "      <td>12833.639648</td>\n",
              "      <td>-0.429490</td>\n",
              "      <td>-1.486425</td>\n",
              "      <td>-2.029324</td>\n",
              "      <td>1.575836</td>\n",
              "    </tr>\n",
              "  </tbody>\n",
              "</table>\n",
              "</div>\n",
              "      <button class=\"colab-df-convert\" onclick=\"convertToInteractive('df-31cf8d74-d858-48a0-8709-d1988fa80156')\"\n",
              "              title=\"Convert this dataframe to an interactive table.\"\n",
              "              style=\"display:none;\">\n",
              "        \n",
              "  <svg xmlns=\"http://www.w3.org/2000/svg\" height=\"24px\"viewBox=\"0 0 24 24\"\n",
              "       width=\"24px\">\n",
              "    <path d=\"M0 0h24v24H0V0z\" fill=\"none\"/>\n",
              "    <path d=\"M18.56 5.44l.94 2.06.94-2.06 2.06-.94-2.06-.94-.94-2.06-.94 2.06-2.06.94zm-11 1L8.5 8.5l.94-2.06 2.06-.94-2.06-.94L8.5 2.5l-.94 2.06-2.06.94zm10 10l.94 2.06.94-2.06 2.06-.94-2.06-.94-.94-2.06-.94 2.06-2.06.94z\"/><path d=\"M17.41 7.96l-1.37-1.37c-.4-.4-.92-.59-1.43-.59-.52 0-1.04.2-1.43.59L10.3 9.45l-7.72 7.72c-.78.78-.78 2.05 0 2.83L4 21.41c.39.39.9.59 1.41.59.51 0 1.02-.2 1.41-.59l7.78-7.78 2.81-2.81c.8-.78.8-2.07 0-2.86zM5.41 20L4 18.59l7.72-7.72 1.47 1.35L5.41 20z\"/>\n",
              "  </svg>\n",
              "      </button>\n",
              "      \n",
              "  <style>\n",
              "    .colab-df-container {\n",
              "      display:flex;\n",
              "      flex-wrap:wrap;\n",
              "      gap: 12px;\n",
              "    }\n",
              "\n",
              "    .colab-df-convert {\n",
              "      background-color: #E8F0FE;\n",
              "      border: none;\n",
              "      border-radius: 50%;\n",
              "      cursor: pointer;\n",
              "      display: none;\n",
              "      fill: #1967D2;\n",
              "      height: 32px;\n",
              "      padding: 0 0 0 0;\n",
              "      width: 32px;\n",
              "    }\n",
              "\n",
              "    .colab-df-convert:hover {\n",
              "      background-color: #E2EBFA;\n",
              "      box-shadow: 0px 1px 2px rgba(60, 64, 67, 0.3), 0px 1px 3px 1px rgba(60, 64, 67, 0.15);\n",
              "      fill: #174EA6;\n",
              "    }\n",
              "\n",
              "    [theme=dark] .colab-df-convert {\n",
              "      background-color: #3B4455;\n",
              "      fill: #D2E3FC;\n",
              "    }\n",
              "\n",
              "    [theme=dark] .colab-df-convert:hover {\n",
              "      background-color: #434B5C;\n",
              "      box-shadow: 0px 1px 3px 1px rgba(0, 0, 0, 0.15);\n",
              "      filter: drop-shadow(0px 1px 2px rgba(0, 0, 0, 0.3));\n",
              "      fill: #FFFFFF;\n",
              "    }\n",
              "  </style>\n",
              "\n",
              "      <script>\n",
              "        const buttonEl =\n",
              "          document.querySelector('#df-31cf8d74-d858-48a0-8709-d1988fa80156 button.colab-df-convert');\n",
              "        buttonEl.style.display =\n",
              "          google.colab.kernel.accessAllowed ? 'block' : 'none';\n",
              "\n",
              "        async function convertToInteractive(key) {\n",
              "          const element = document.querySelector('#df-31cf8d74-d858-48a0-8709-d1988fa80156');\n",
              "          const dataTable =\n",
              "            await google.colab.kernel.invokeFunction('convertToInteractive',\n",
              "                                                     [key], {});\n",
              "          if (!dataTable) return;\n",
              "\n",
              "          const docLinkHtml = 'Like what you see? Visit the ' +\n",
              "            '<a target=\"_blank\" href=https://colab.research.google.com/notebooks/data_table.ipynb>data table notebook</a>'\n",
              "            + ' to learn more about interactive tables.';\n",
              "          element.innerHTML = '';\n",
              "          dataTable['output_type'] = 'display_data';\n",
              "          await google.colab.output.renderOutput(dataTable, element);\n",
              "          const docLink = document.createElement('div');\n",
              "          docLink.innerHTML = docLinkHtml;\n",
              "          element.appendChild(docLink);\n",
              "        }\n",
              "      </script>\n",
              "    </div>\n",
              "  </div>\n",
              "  "
            ]
          },
          "metadata": {},
          "execution_count": 16
        }
      ]
    },
    {
      "cell_type": "code",
      "source": [
        "start_date = '2013-04-06'\n",
        "end_date = '2014-01-01'"
      ],
      "metadata": {
        "id": "i_OV2dcYw52t"
      },
      "execution_count": 18,
      "outputs": []
    },
    {
      "cell_type": "code",
      "source": [
        "end_date = '2018-01-01'\n",
        "end_date"
      ],
      "metadata": {
        "id": "NvXmOUxWyfbY",
        "outputId": "7d125bfe-8718-46aa-9cee-046916ede6bd",
        "colab": {
          "base_uri": "https://localhost:8080/",
          "height": 35
        }
      },
      "execution_count": 29,
      "outputs": [
        {
          "output_type": "execute_result",
          "data": {
            "text/plain": [
              "'2018-01-01'"
            ],
            "application/vnd.google.colaboratory.intrinsic+json": {
              "type": "string"
            }
          },
          "metadata": {},
          "execution_count": 29
        }
      ]
    },
    {
      "cell_type": "code",
      "source": [
        "df_pred = results_ar.predict(start=start_date, end=end_date)"
      ],
      "metadata": {
        "id": "Wg4Fvhury4n6"
      },
      "execution_count": 30,
      "outputs": []
    },
    {
      "cell_type": "code",
      "source": [
        "df_pred[start_date:end_date].plot(figsize=(20,5), color='red')\n",
        "df_test.ftse[start_date:end_date].plot(color='blue')\n",
        "plt.title(\"Predictions vs Actual\", size=24)\n",
        "plt.show()"
      ],
      "metadata": {
        "id": "p98ThMKqxkbt",
        "outputId": "f7529360-7fc8-485a-dcf5-be5190699a5d",
        "colab": {
          "base_uri": "https://localhost:8080/",
          "height": 364
        }
      },
      "execution_count": 32,
      "outputs": [
        {
          "output_type": "display_data",
          "data": {
            "text/plain": [
              "<Figure size 1440x360 with 1 Axes>"
            ],
            "image/png": "[encoded data removed]"
          },
          "metadata": {}
        }
      ]
    },
    {
      "cell_type": "markdown",
      "source": [
        "We see a constantly decreasing line which is not absolutely realistic.\n",
        "\n",
        "AR model is bad in estimating the non-stationary data."
      ],
      "metadata": {
        "id": "MC5Q6c5Rx1vo"
      }
    },
    {
      "cell_type": "markdown",
      "source": [
        "## Using Returns Instead"
      ],
      "metadata": {
        "id": "rx6C5sEHzDmX"
      }
    },
    {
      "cell_type": "code",
      "source": [
        "end_date = '2018-01-01'\n",
        "\n",
        "model_ret_ar = ARIMA(df.ret_ftse[1:], order=(1,0,0))\n",
        "results_ret_ar = model_ret_ar.fit()"
      ],
      "metadata": {
        "id": "5mqXVjV0zwC8"
      },
      "execution_count": 34,
      "outputs": []
    },
    {
      "cell_type": "code",
      "source": [
        "df_ret_pred_ar = results_ret_ar.predict(start=start_date, end=end_date)\n",
        "\n",
        "df_ret_pred_ar[start_date:end_date].plot(figsize=(20,5), color=\"red\")\n",
        "df_test.ftse[start_date:end_date].plot(color=\"blue\")\n",
        "plt.title(\"Predictions vs Actuals\", size=24)\n",
        "plt.show()"
      ],
      "metadata": {
        "id": "HKBEX5630Gdb",
        "outputId": "65c67605-5621-48c7-e16d-2ef9779fceae",
        "colab": {
          "base_uri": "https://localhost:8080/",
          "height": 364
        }
      },
      "execution_count": 36,
      "outputs": [
        {
          "output_type": "display_data",
          "data": {
            "text/plain": [
              "<Figure size 1440x360 with 1 Axes>"
            ],
            "image/png": "[encoded data removed]"
          },
          "metadata": {}
        }
      ]
    },
    {
      "cell_type": "markdown",
      "source": [
        "The prediction line is constant at 0, it makes no prediction since it assumes that all future returns will be 0, or extremely close to it."
      ],
      "metadata": {
        "id": "OMhxMM0R0-hf"
      }
    },
    {
      "cell_type": "code",
      "source": [
        ""
      ],
      "metadata": {
        "id": "51QFjPDX1cH2"
      },
      "execution_count": null,
      "outputs": []
    }
  ]
}